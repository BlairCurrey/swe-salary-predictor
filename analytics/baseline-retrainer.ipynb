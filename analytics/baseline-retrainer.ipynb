{
 "cells": [
  {
   "cell_type": "code",
   "execution_count": 67,
   "metadata": {},
   "outputs": [],
   "source": [
    "import tensorflow as tf\n",
    "import pandas as pd\n",
    "import numpy as np\n",
    "import random\n",
    "\n",
    "tf.data.experimental.enable_debug_mode()"
   ]
  },
  {
   "cell_type": "markdown",
   "metadata": {},
   "source": [
    "Load the saved model"
   ]
  },
  {
   "cell_type": "code",
   "execution_count": 68,
   "metadata": {},
   "outputs": [],
   "source": [
    "model = tf.keras.models.load_model('./dnn_model_keras')"
   ]
  },
  {
   "cell_type": "markdown",
   "metadata": {},
   "source": [
    "I will make up some new inputs. These inputs are purposefully extreme so that we can verify that the model has been updated. I am initilializing an array of inputs with very low salaries for low years of experience. This should result in lower predictions for low years of experience after retraining."
   ]
  },
  {
   "cell_type": "code",
   "execution_count": 63,
   "metadata": {},
   "outputs": [],
   "source": [
    "# 10,000 inputs with 1 years exp and random salary between 20,000 and 30,000 \n",
    "new_inputs_count = 10_000\n",
    "new_inputs_labels = pd.Series([random.randint(20_000, 30_000)\n",
    "                    for x in range(new_inputs_count)])\n",
    "new_inputs_features = pd.DataFrame([{\"YearsCode\": 1, \"YearsCodePro\": 1} for x in range(new_inputs_count)])"
   ]
  },
  {
   "cell_type": "markdown",
   "metadata": {},
   "source": [
    "This is what the original model predicts for someone with 1 years coding and coding professionally experience."
   ]
  },
  {
   "cell_type": "code",
   "execution_count": 64,
   "metadata": {},
   "outputs": [
    {
     "data": {
      "text/plain": [
       "40783.863"
      ]
     },
     "execution_count": 64,
     "metadata": {},
     "output_type": "execute_result"
    }
   ],
   "source": [
    "def predict1YOE():\n",
    "    return model.predict(np.array([1, 1]))[0][0]\n",
    "\n",
    "predict1YOE()"
   ]
  },
  {
   "cell_type": "markdown",
   "metadata": {},
   "source": [
    "Now I will refit the model using the new inputs.\n",
    "\n",
    "Fitting additional data to the tensorflow model will update (not override) the currently model. This is documented in several online discussions including by the creator Chollet, here https://github.com/keras-team/keras/issues/4446\n",
    "\n",
    "This should also be obvious from the result - the original prediction for someone with 1 year of experience coding and coding professionally was about $41,000. Our new inputs are 30,000 at maximum. So if it overrode the model it should not predict above 30,000. \n",
    "\n",
    "We can also verify that the new data with extremely low salaries for low experience makes lower predictions for someone with 1 years of exerpience coding and coding professionally."
   ]
  },
  {
   "cell_type": "code",
   "execution_count": 65,
   "metadata": {},
   "outputs": [
    {
     "data": {
      "text/plain": [
       "<keras.callbacks.History at 0x7fd200a064a0>"
      ]
     },
     "execution_count": 65,
     "metadata": {},
     "output_type": "execute_result"
    }
   ],
   "source": [
    "model.fit(\n",
    "    new_inputs_labels,\n",
    "    new_inputs_features,\n",
    "    validation_split=0.2,\n",
    "    verbose=0, epochs=10)"
   ]
  },
  {
   "cell_type": "code",
   "execution_count": 66,
   "metadata": {},
   "outputs": [
    {
     "data": {
      "text/plain": [
       "37617.83"
      ]
     },
     "execution_count": 66,
     "metadata": {},
     "output_type": "execute_result"
    }
   ],
   "source": [
    "predict1YOE()"
   ]
  },
  {
   "cell_type": "markdown",
   "metadata": {},
   "source": [
    "This outcome verifies that our model was updated succesfully. The prediction is lower than $41,000 but clearly not based solely off the new data ranging beween 20,000 and 30,000.\n",
    "\n",
    "This notebook is essentially what the `retrainer` service will do, but we will get the new inputs from the database and save the resulting model so that it can be reused."
   ]
  }
 ],
 "metadata": {
  "interpreter": {
   "hash": "3c1665ecdeb719b5a9b18f5ead674f34a7d8f4e180fcf6d2cd8ba743c679e34c"
  },
  "kernelspec": {
   "display_name": "Python 3.10.4 ('analytics-venv': venv)",
   "language": "python",
   "name": "python3"
  },
  "language_info": {
   "codemirror_mode": {
    "name": "ipython",
    "version": 3
   },
   "file_extension": ".py",
   "mimetype": "text/x-python",
   "name": "python",
   "nbconvert_exporter": "python",
   "pygments_lexer": "ipython3",
   "version": "3.10.4"
  },
  "orig_nbformat": 4
 },
 "nbformat": 4,
 "nbformat_minor": 2
}
