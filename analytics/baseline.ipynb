{
 "cells": [
  {
   "cell_type": "code",
   "execution_count": 1,
   "id": "c7d5b0db",
   "metadata": {},
   "outputs": [],
   "source": [
    "import pandas as pd\n",
    "import numpy as np\n",
    "import datetime as dt\n",
    "from sklearn.linear_model import LinearRegression\n",
    "from sklearn.model_selection import train_test_split\n",
    "from sklearn.metrics import mean_squared_error, r2_score\n",
    "from scipy import stats\n",
    "import seaborn as sns\n",
    "\n",
    "pd.options.display.float_format = '{:.2f}'.format\n",
    "sns.set_theme(color_codes=True)"
   ]
  },
  {
   "cell_type": "code",
   "execution_count": 2,
   "id": "350f3356",
   "metadata": {},
   "outputs": [],
   "source": [
    "df = pd.read_csv('./data/stack-overflow-developer-survey-2021/survey_results_public.csv')"
   ]
  },
  {
   "cell_type": "code",
   "execution_count": 3,
   "id": "5e466341",
   "metadata": {},
   "outputs": [
    {
     "name": "stdout",
     "output_type": "stream",
     "text": [
      "startPipeline:\n",
      "  runtime=0:00:00.028031, end shape=(83439, 48)\n",
      "clean:\n",
      "  runtime=0:00:00.122992, end shape=(38506, 3)\n",
      "removeOutliers:\n",
      "  runtime=0:00:00.003001, end shape=(32440, 3)\n"
     ]
    }
   ],
   "source": [
    "def log(f):\n",
    "    def wrapper(df, *args, **kwargs):\n",
    "        start = dt.datetime.now()\n",
    "        result = f(df, *args, **kwargs)\n",
    "        stop = dt.datetime.now()\n",
    "        print(f'{f.__name__}:\\n  runtime={stop - start}, end shape={result.shape}')\n",
    "        return result\n",
    "    return wrapper\n",
    "\n",
    "@log\n",
    "def startPipeline(df):\n",
    "    return df.copy()\n",
    "\n",
    "@log\n",
    "def clean(df):\n",
    "    df = df[[\n",
    "        'ConvertedCompYearly',\n",
    "        # 'EdLevel', # will need to vectorize (worst = 0, best = 1, rest in between)\n",
    "        'Employment',\n",
    "        # 'Age1stCode', \n",
    "        'YearsCode', \n",
    "        'YearsCodePro', \n",
    "        # 'OrgSize'\n",
    "    ]]\n",
    "    df = df[df[\"Employment\"] == \"Employed full-time\"]\n",
    "    df = df.drop(\"Employment\", axis=1)\n",
    "    df = df.dropna(subset=['ConvertedCompYearly'])\n",
    "    # do this better. don't drop these. vectorize them.\n",
    "    # drop rows in 'YearsCode', 'YearsCodePro' that are 'Less than 1 year'\n",
    "    df = df[df['YearsCode'].str.contains('Less than 1 year')==False]\n",
    "    df = df[df['YearsCodePro'].str.contains('Less than 1 year')==False]\n",
    "    df = df[df['YearsCode'].str.contains('More than 50 years')==False]\n",
    "    df = df[df['YearsCodePro'].str.contains('More than 50 years')==False]\n",
    "    df = df.round(2)\n",
    "\n",
    "    return df\n",
    "\n",
    "@log \n",
    "def removeOutliers(df):\n",
    "    # df = df[(np.abs(stats.zscore(df['ConvertedCompYearly'])) < .25)]\n",
    "    df = df[df[\"ConvertedCompYearly\"] <= 300000]\n",
    "    df = df[df[\"ConvertedCompYearly\"] >= 15000]\n",
    "    return df\n",
    "\n",
    "df_processed = (df\n",
    " .pipe(startPipeline)\n",
    " .pipe(clean)\n",
    " .pipe(removeOutliers)\n",
    ")"
   ]
  },
  {
   "cell_type": "code",
   "execution_count": 4,
   "id": "5ec48179",
   "metadata": {},
   "outputs": [
    {
     "data": {
      "text/html": [
       "<div>\n",
       "<style scoped>\n",
       "    .dataframe tbody tr th:only-of-type {\n",
       "        vertical-align: middle;\n",
       "    }\n",
       "\n",
       "    .dataframe tbody tr th {\n",
       "        vertical-align: top;\n",
       "    }\n",
       "\n",
       "    .dataframe thead th {\n",
       "        text-align: right;\n",
       "    }\n",
       "</style>\n",
       "<table border=\"1\" class=\"dataframe\">\n",
       "  <thead>\n",
       "    <tr style=\"text-align: right;\">\n",
       "      <th></th>\n",
       "      <th>ConvertedCompYearly</th>\n",
       "      <th>YearsCode</th>\n",
       "      <th>YearsCodePro</th>\n",
       "    </tr>\n",
       "  </thead>\n",
       "  <tbody>\n",
       "    <tr>\n",
       "      <th>9</th>\n",
       "      <td>51552.00</td>\n",
       "      <td>7</td>\n",
       "      <td>4</td>\n",
       "    </tr>\n",
       "    <tr>\n",
       "      <th>11</th>\n",
       "      <td>46482.00</td>\n",
       "      <td>12</td>\n",
       "      <td>5</td>\n",
       "    </tr>\n",
       "    <tr>\n",
       "      <th>12</th>\n",
       "      <td>77290.00</td>\n",
       "      <td>15</td>\n",
       "      <td>6</td>\n",
       "    </tr>\n",
       "    <tr>\n",
       "      <th>16</th>\n",
       "      <td>17748.00</td>\n",
       "      <td>6</td>\n",
       "      <td>2</td>\n",
       "    </tr>\n",
       "    <tr>\n",
       "      <th>17</th>\n",
       "      <td>46135.00</td>\n",
       "      <td>9</td>\n",
       "      <td>6</td>\n",
       "    </tr>\n",
       "  </tbody>\n",
       "</table>\n",
       "</div>"
      ],
      "text/plain": [
       "    ConvertedCompYearly YearsCode YearsCodePro\n",
       "9              51552.00         7            4\n",
       "11             46482.00        12            5\n",
       "12             77290.00        15            6\n",
       "16             17748.00         6            2\n",
       "17             46135.00         9            6"
      ]
     },
     "execution_count": 4,
     "metadata": {},
     "output_type": "execute_result"
    }
   ],
   "source": [
    "df_processed.head()"
   ]
  },
  {
   "cell_type": "code",
   "execution_count": 5,
   "id": "51d46584",
   "metadata": {},
   "outputs": [
    {
     "name": "stdout",
     "output_type": "stream",
     "text": [
      "<class 'pandas.core.frame.DataFrame'>\n",
      "Int64Index: 32440 entries, 9 to 83438\n",
      "Data columns (total 3 columns):\n",
      " #   Column               Non-Null Count  Dtype  \n",
      "---  ------               --------------  -----  \n",
      " 0   ConvertedCompYearly  32440 non-null  float64\n",
      " 1   YearsCode            32440 non-null  object \n",
      " 2   YearsCodePro         32440 non-null  object \n",
      "dtypes: float64(1), object(2)\n",
      "memory usage: 1013.8+ KB\n"
     ]
    }
   ],
   "source": [
    "df_processed.info()"
   ]
  },
  {
   "cell_type": "code",
   "execution_count": 6,
   "id": "e81cada1",
   "metadata": {},
   "outputs": [
    {
     "data": {
      "text/plain": [
       "United States of America                                15288\n",
       "India                                                   10511\n",
       "Germany                                                  5625\n",
       "United Kingdom of Great Britain and Northern Ireland     4475\n",
       "Canada                                                   3012\n",
       "                                                        ...  \n",
       "Saint Kitts and Nevis                                       1\n",
       "Dominica                                                    1\n",
       "Saint Vincent and the Grenadines                            1\n",
       "Tuvalu                                                      1\n",
       "Papua New Guinea                                            1\n",
       "Name: Country, Length: 181, dtype: int64"
      ]
     },
     "execution_count": 6,
     "metadata": {},
     "output_type": "execute_result"
    }
   ],
   "source": [
    "df['Country'].value_counts()"
   ]
  },
  {
   "cell_type": "code",
   "execution_count": 7,
   "id": "f4f4b746",
   "metadata": {},
   "outputs": [
    {
     "data": {
      "text/html": [
       "<div>\n",
       "<style scoped>\n",
       "    .dataframe tbody tr th:only-of-type {\n",
       "        vertical-align: middle;\n",
       "    }\n",
       "\n",
       "    .dataframe tbody tr th {\n",
       "        vertical-align: top;\n",
       "    }\n",
       "\n",
       "    .dataframe thead th {\n",
       "        text-align: right;\n",
       "    }\n",
       "</style>\n",
       "<table border=\"1\" class=\"dataframe\">\n",
       "  <thead>\n",
       "    <tr style=\"text-align: right;\">\n",
       "      <th></th>\n",
       "      <th>ConvertedCompYearly</th>\n",
       "    </tr>\n",
       "  </thead>\n",
       "  <tbody>\n",
       "    <tr>\n",
       "      <th>count</th>\n",
       "      <td>32440.00</td>\n",
       "    </tr>\n",
       "    <tr>\n",
       "      <th>mean</th>\n",
       "      <td>77436.57</td>\n",
       "    </tr>\n",
       "    <tr>\n",
       "      <th>std</th>\n",
       "      <td>51585.35</td>\n",
       "    </tr>\n",
       "    <tr>\n",
       "      <th>min</th>\n",
       "      <td>15000.00</td>\n",
       "    </tr>\n",
       "    <tr>\n",
       "      <th>25%</th>\n",
       "      <td>39324.00</td>\n",
       "    </tr>\n",
       "    <tr>\n",
       "      <th>50%</th>\n",
       "      <td>64859.00</td>\n",
       "    </tr>\n",
       "    <tr>\n",
       "      <th>75%</th>\n",
       "      <td>100524.00</td>\n",
       "    </tr>\n",
       "    <tr>\n",
       "      <th>max</th>\n",
       "      <td>300000.00</td>\n",
       "    </tr>\n",
       "  </tbody>\n",
       "</table>\n",
       "</div>"
      ],
      "text/plain": [
       "       ConvertedCompYearly\n",
       "count             32440.00\n",
       "mean              77436.57\n",
       "std               51585.35\n",
       "min               15000.00\n",
       "25%               39324.00\n",
       "50%               64859.00\n",
       "75%              100524.00\n",
       "max              300000.00"
      ]
     },
     "execution_count": 7,
     "metadata": {},
     "output_type": "execute_result"
    }
   ],
   "source": [
    "df_processed.describe()"
   ]
  },
  {
   "cell_type": "code",
   "execution_count": 8,
   "id": "2ace4133",
   "metadata": {},
   "outputs": [],
   "source": [
    "reg = LinearRegression()\n",
    "label = 'ConvertedCompYearly'\n",
    "labels = df_processed[label]\n",
    "train = df_processed.drop([label], axis=1)"
   ]
  },
  {
   "cell_type": "code",
   "execution_count": 9,
   "id": "984e3653",
   "metadata": {},
   "outputs": [],
   "source": [
    "x_train, x_test, y_train, y_test = train_test_split(train, labels, test_size=0.2, random_state=1776)"
   ]
  },
  {
   "cell_type": "code",
   "execution_count": 10,
   "id": "01684f6e",
   "metadata": {},
   "outputs": [
    {
     "data": {
      "text/plain": [
       "LinearRegression()"
      ]
     },
     "execution_count": 10,
     "metadata": {},
     "output_type": "execute_result"
    }
   ],
   "source": [
    "reg.fit(x_train, y_train)"
   ]
  },
  {
   "cell_type": "code",
   "execution_count": 11,
   "id": "0860d31b",
   "metadata": {},
   "outputs": [
    {
     "name": "stdout",
     "output_type": "stream",
     "text": [
      "train\n",
      "  rmse=48735.876129219636, r2=0.10863140583697295\n",
      "test\n",
      "  rmse=48580.469851001566, r2=0.10806863469144679\n"
     ]
    }
   ],
   "source": [
    "def performance(x, y, name):\n",
    "    y_predict = reg.predict(x)\n",
    "    rmse = (np.sqrt(mean_squared_error(y, y_predict)))\n",
    "    r2 = r2_score(y, y_predict)\n",
    "\n",
    "    print(name)\n",
    "    print(f'  rmse={rmse}, r2={r2}')\n",
    "\n",
    "\n",
    "performance(x_train, y_train, 'train')\n",
    "performance(x_test, y_test, 'test')"
   ]
  },
  {
   "cell_type": "code",
   "execution_count": 12,
   "id": "5cf5af63",
   "metadata": {},
   "outputs": [
    {
     "data": {
      "image/png": "[encoded data removed]",
      "text/plain": [
       "<Figure size 432x288 with 1 Axes>"
      ]
     },
     "metadata": {},
     "output_type": "display_data"
    }
   ],
   "source": [
    "predicted = reg.predict(x_test)\n",
    "expected = y_test\n",
    "ax = sns.regplot(x=predicted, y=expected)"
   ]
  }
 ],
 "metadata": {
  "kernelspec": {
   "display_name": "analytics-venv",
   "language": "python",
   "name": "analytics-venv"
  },
  "language_info": {
   "codemirror_mode": {
    "name": "ipython",
    "version": 3
   },
   "file_extension": ".py",
   "mimetype": "text/x-python",
   "name": "python",
   "nbconvert_exporter": "python",
   "pygments_lexer": "ipython3",
   "version": "3.9.6"
  }
 },
 "nbformat": 4,
 "nbformat_minor": 5
}
