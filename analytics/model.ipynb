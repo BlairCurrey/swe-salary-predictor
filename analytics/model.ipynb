{
 "cells": [
  {
   "cell_type": "code",
   "execution_count": 12,
   "metadata": {},
   "outputs": [],
   "source": [
    "try:\n",
    "  import google.colab\n",
    "  IN_COLAB = True\n",
    "except:\n",
    "  IN_COLAB = False"
   ]
  },
  {
   "cell_type": "code",
   "execution_count": 13,
   "metadata": {},
   "outputs": [],
   "source": [
    "if IN_COLAB: \n",
    "    !pip install pandas\n",
    "    !pip install numpy\n",
    "    !pip install tensorflow"
   ]
  },
  {
   "cell_type": "code",
   "execution_count": 14,
   "metadata": {},
   "outputs": [],
   "source": [
    "if IN_COLAB:\n",
    "  !nvidia-smi -L"
   ]
  },
  {
   "cell_type": "code",
   "execution_count": 15,
   "metadata": {},
   "outputs": [],
   "source": [
    "if IN_COLAB:\n",
    "  from google.colab import drive\n",
    "  import sys\n",
    "  drive.mount('/content/drive')\n",
    "  sys.path.append('/content/drive/MyDrive')\n",
    "  sys.path.append('/content/drive/MyDrive/swe-salary-predictor')"
   ]
  },
  {
   "cell_type": "code",
   "execution_count": 1,
   "metadata": {},
   "outputs": [],
   "source": [
    "import pandas as pd\n",
    "from common import DataLoader\n",
    "import numpy as np\n",
    "\n",
    "from sklearn.linear_model import LinearRegression\n",
    "from sklearn.model_selection import train_test_split\n",
    "from sklearn.metrics import mean_squared_error, r2_score\n",
    "# from scipy import stats\n",
    "from sklearn.preprocessing import OneHotEncoder, OrdinalEncoder\n",
    "\n",
    "import seaborn as sns\n",
    "\n",
    "pd.options.display.float_format = '{:.2f}'.format\n",
    "sns.set_theme(color_codes=True)"
   ]
  },
  {
   "cell_type": "code",
   "execution_count": 2,
   "metadata": {},
   "outputs": [
    {
     "name": "stdout",
     "output_type": "stream",
     "text": [
      "_start_pipeline:\n",
      "  runtime=0:00:00.015991, end shape=(83439, 48)\n",
      "_select:\n",
      "  runtime=0:00:00.047674, end shape=(40627, 9)\n",
      "_clean:\n",
      "  runtime=0:00:11.640552, end shape=(40627, 238)\n",
      "_remove_outliers:\n",
      "  runtime=0:00:00.060732, end shape=(31610, 238)\n",
      "_handle_missing:\n",
      "  runtime=0:00:00.074087, end shape=(31610, 238)\n"
     ]
    },
    {
     "data": {
      "text/html": [
       "<div>\n",
       "<style scoped>\n",
       "    .dataframe tbody tr th:only-of-type {\n",
       "        vertical-align: middle;\n",
       "    }\n",
       "\n",
       "    .dataframe tbody tr th {\n",
       "        vertical-align: top;\n",
       "    }\n",
       "\n",
       "    .dataframe thead th {\n",
       "        text-align: right;\n",
       "    }\n",
       "</style>\n",
       "<table border=\"1\" class=\"dataframe\">\n",
       "  <thead>\n",
       "    <tr style=\"text-align: right;\">\n",
       "      <th></th>\n",
       "      <th>ConvertedCompYearly</th>\n",
       "      <th>EdLevel</th>\n",
       "      <th>Age1stCode</th>\n",
       "      <th>YearsCode</th>\n",
       "      <th>YearsCodePro</th>\n",
       "      <th>Age</th>\n",
       "      <th>Academic researcher</th>\n",
       "      <th>Data or business analyst</th>\n",
       "      <th>Data scientist or machine learning specialist</th>\n",
       "      <th>Database administrator</th>\n",
       "      <th>...</th>\n",
       "      <th>United Kingdom of Great Britain and Northern Ireland</th>\n",
       "      <th>United Republic of Tanzania</th>\n",
       "      <th>United States of America</th>\n",
       "      <th>Uruguay</th>\n",
       "      <th>Uzbekistan</th>\n",
       "      <th>Venezuela, Bolivarian Republic of...</th>\n",
       "      <th>Viet Nam</th>\n",
       "      <th>Yemen</th>\n",
       "      <th>Zambia</th>\n",
       "      <th>Zimbabwe</th>\n",
       "    </tr>\n",
       "  </thead>\n",
       "  <tbody>\n",
       "    <tr>\n",
       "      <th>0</th>\n",
       "      <td>51552.00</td>\n",
       "      <td>3.00</td>\n",
       "      <td>14.00</td>\n",
       "      <td>7.00</td>\n",
       "      <td>4.00</td>\n",
       "      <td>29.50</td>\n",
       "      <td>0</td>\n",
       "      <td>0</td>\n",
       "      <td>1</td>\n",
       "      <td>0</td>\n",
       "      <td>...</td>\n",
       "      <td>0.00</td>\n",
       "      <td>0.00</td>\n",
       "      <td>0.00</td>\n",
       "      <td>0.00</td>\n",
       "      <td>0.00</td>\n",
       "      <td>0.00</td>\n",
       "      <td>0.00</td>\n",
       "      <td>0.00</td>\n",
       "      <td>0.00</td>\n",
       "      <td>0.00</td>\n",
       "    </tr>\n",
       "    <tr>\n",
       "      <th>1</th>\n",
       "      <td>46482.00</td>\n",
       "      <td>2.00</td>\n",
       "      <td>14.00</td>\n",
       "      <td>12.00</td>\n",
       "      <td>5.00</td>\n",
       "      <td>29.50</td>\n",
       "      <td>0</td>\n",
       "      <td>0</td>\n",
       "      <td>0</td>\n",
       "      <td>0</td>\n",
       "      <td>...</td>\n",
       "      <td>0.00</td>\n",
       "      <td>0.00</td>\n",
       "      <td>0.00</td>\n",
       "      <td>0.00</td>\n",
       "      <td>0.00</td>\n",
       "      <td>0.00</td>\n",
       "      <td>0.00</td>\n",
       "      <td>0.00</td>\n",
       "      <td>0.00</td>\n",
       "      <td>0.00</td>\n",
       "    </tr>\n",
       "    <tr>\n",
       "      <th>2</th>\n",
       "      <td>77290.00</td>\n",
       "      <td>3.00</td>\n",
       "      <td>14.00</td>\n",
       "      <td>15.00</td>\n",
       "      <td>6.00</td>\n",
       "      <td>29.50</td>\n",
       "      <td>0</td>\n",
       "      <td>0</td>\n",
       "      <td>0</td>\n",
       "      <td>0</td>\n",
       "      <td>...</td>\n",
       "      <td>0.00</td>\n",
       "      <td>0.00</td>\n",
       "      <td>0.00</td>\n",
       "      <td>0.00</td>\n",
       "      <td>0.00</td>\n",
       "      <td>0.00</td>\n",
       "      <td>0.00</td>\n",
       "      <td>0.00</td>\n",
       "      <td>0.00</td>\n",
       "      <td>0.00</td>\n",
       "    </tr>\n",
       "    <tr>\n",
       "      <th>3</th>\n",
       "      <td>17748.00</td>\n",
       "      <td>2.00</td>\n",
       "      <td>7.50</td>\n",
       "      <td>6.00</td>\n",
       "      <td>2.00</td>\n",
       "      <td>29.50</td>\n",
       "      <td>0</td>\n",
       "      <td>0</td>\n",
       "      <td>0</td>\n",
       "      <td>0</td>\n",
       "      <td>...</td>\n",
       "      <td>0.00</td>\n",
       "      <td>0.00</td>\n",
       "      <td>0.00</td>\n",
       "      <td>0.00</td>\n",
       "      <td>0.00</td>\n",
       "      <td>0.00</td>\n",
       "      <td>0.00</td>\n",
       "      <td>0.00</td>\n",
       "      <td>0.00</td>\n",
       "      <td>0.00</td>\n",
       "    </tr>\n",
       "    <tr>\n",
       "      <th>4</th>\n",
       "      <td>46135.00</td>\n",
       "      <td>2.00</td>\n",
       "      <td>14.00</td>\n",
       "      <td>9.00</td>\n",
       "      <td>6.00</td>\n",
       "      <td>29.50</td>\n",
       "      <td>0</td>\n",
       "      <td>0</td>\n",
       "      <td>0</td>\n",
       "      <td>0</td>\n",
       "      <td>...</td>\n",
       "      <td>0.00</td>\n",
       "      <td>0.00</td>\n",
       "      <td>0.00</td>\n",
       "      <td>0.00</td>\n",
       "      <td>0.00</td>\n",
       "      <td>0.00</td>\n",
       "      <td>0.00</td>\n",
       "      <td>0.00</td>\n",
       "      <td>0.00</td>\n",
       "      <td>0.00</td>\n",
       "    </tr>\n",
       "  </tbody>\n",
       "</table>\n",
       "<p>5 rows × 237 columns</p>\n",
       "</div>"
      ],
      "text/plain": [
       "   ConvertedCompYearly  EdLevel  Age1stCode  YearsCode  YearsCodePro   Age  \\\n",
       "0             51552.00     3.00       14.00       7.00          4.00 29.50   \n",
       "1             46482.00     2.00       14.00      12.00          5.00 29.50   \n",
       "2             77290.00     3.00       14.00      15.00          6.00 29.50   \n",
       "3             17748.00     2.00        7.50       6.00          2.00 29.50   \n",
       "4             46135.00     2.00       14.00       9.00          6.00 29.50   \n",
       "\n",
       "   Academic researcher  Data or business analyst  \\\n",
       "0                    0                         0   \n",
       "1                    0                         0   \n",
       "2                    0                         0   \n",
       "3                    0                         0   \n",
       "4                    0                         0   \n",
       "\n",
       "   Data scientist or machine learning specialist  Database administrator  ...  \\\n",
       "0                                              1                       0  ...   \n",
       "1                                              0                       0  ...   \n",
       "2                                              0                       0  ...   \n",
       "3                                              0                       0  ...   \n",
       "4                                              0                       0  ...   \n",
       "\n",
       "   United Kingdom of Great Britain and Northern Ireland  \\\n",
       "0                                               0.00      \n",
       "1                                               0.00      \n",
       "2                                               0.00      \n",
       "3                                               0.00      \n",
       "4                                               0.00      \n",
       "\n",
       "   United Republic of Tanzania  United States of America  Uruguay  Uzbekistan  \\\n",
       "0                         0.00                      0.00     0.00        0.00   \n",
       "1                         0.00                      0.00     0.00        0.00   \n",
       "2                         0.00                      0.00     0.00        0.00   \n",
       "3                         0.00                      0.00     0.00        0.00   \n",
       "4                         0.00                      0.00     0.00        0.00   \n",
       "\n",
       "   Venezuela, Bolivarian Republic of...  Viet Nam  Yemen  Zambia  Zimbabwe  \n",
       "0                                  0.00      0.00   0.00    0.00      0.00  \n",
       "1                                  0.00      0.00   0.00    0.00      0.00  \n",
       "2                                  0.00      0.00   0.00    0.00      0.00  \n",
       "3                                  0.00      0.00   0.00    0.00      0.00  \n",
       "4                                  0.00      0.00   0.00    0.00      0.00  \n",
       "\n",
       "[5 rows x 237 columns]"
      ]
     },
     "execution_count": 2,
     "metadata": {},
     "output_type": "execute_result"
    }
   ],
   "source": [
    "path = './data/stack-overflow-developer-survey-2021/survey_results_public.csv'\n",
    "if IN_COLAB:\n",
    "  path = './drive/MyDrive/swe-salary-predictor/survey_results_public.csv'\n",
    "\n",
    "dl = DataLoader(path)\n",
    "df = dl.df\n",
    "df.head()"
   ]
  },
  {
   "cell_type": "code",
   "execution_count": 3,
   "metadata": {},
   "outputs": [
    {
     "data": {
      "text/plain": [
       "ConvertedCompYearly                     0\n",
       "EdLevel                                 0\n",
       "Age1stCode                              0\n",
       "YearsCode                               0\n",
       "YearsCodePro                            0\n",
       "                                       ..\n",
       "Venezuela, Bolivarian Republic of...    0\n",
       "Viet Nam                                0\n",
       "Yemen                                   0\n",
       "Zambia                                  0\n",
       "Zimbabwe                                0\n",
       "Length: 237, dtype: int64"
      ]
     },
     "execution_count": 3,
     "metadata": {},
     "output_type": "execute_result"
    }
   ],
   "source": [
    "df.isna().sum()"
   ]
  },
  {
   "cell_type": "code",
   "execution_count": 6,
   "metadata": {},
   "outputs": [],
   "source": [
    "reg = LinearRegression()\n",
    "label = 'ConvertedCompYearly'\n",
    "labels = df[label]\n",
    "train = df.drop([label], axis=1)"
   ]
  },
  {
   "cell_type": "code",
   "execution_count": 7,
   "metadata": {},
   "outputs": [],
   "source": [
    "x_train, x_test, y_train, y_test = train_test_split(train, labels, test_size=0.2, random_state=1776)"
   ]
  },
  {
   "cell_type": "code",
   "execution_count": 8,
   "metadata": {},
   "outputs": [
    {
     "data": {
      "text/plain": [
       "LinearRegression()"
      ]
     },
     "execution_count": 8,
     "metadata": {},
     "output_type": "execute_result"
    }
   ],
   "source": [
    "reg.fit(x_train, y_train)"
   ]
  },
  {
   "cell_type": "code",
   "execution_count": 9,
   "metadata": {},
   "outputs": [
    {
     "name": "stdout",
     "output_type": "stream",
     "text": [
      "train\n",
      "  rmse=33758.308134338076, r2=0.575034508370031\n",
      "test\n",
      "  rmse=34421.421519381955, r2=0.5526288983693404\n"
     ]
    }
   ],
   "source": [
    "def performance(x, y, name):\n",
    "    y_predict = reg.predict(x)\n",
    "    rmse = (np.sqrt(mean_squared_error(y, y_predict)))\n",
    "    r2 = r2_score(y, y_predict)\n",
    "\n",
    "    print(name)\n",
    "    print(f'  rmse={rmse}, r2={r2}')\n",
    "\n",
    "\n",
    "performance(x_train, y_train, 'train')\n",
    "performance(x_test, y_test, 'test')"
   ]
  },
  {
   "cell_type": "code",
   "execution_count": null,
   "metadata": {},
   "outputs": [],
   "source": [
    "if IN_COLAB:\n",
    "    import tensorflow as tf\n",
    "    from tensorflow import keras\n",
    "    \n",
    "    dl = DataLoader(path)\n",
    "    df = dl.df\n",
    "    train_dataset = df.sample(frac=0.8, random_state=0)\n",
    "    test_dataset = df.drop(train_dataset.index)\n",
    "    train_features = train_dataset.copy()\n",
    "    test_features = test_dataset.copy()\n",
    "    train_labels = train_features.pop('ConvertedCompYearly')\n",
    "    test_labels = test_features.pop('ConvertedCompYearly')\n",
    "    train_dataset.describe().transpose()[['mean', 'std']]\n",
    "    \n",
    "    normalizer = tf.keras.layers.Normalization(axis=-1)\n",
    "    normalizer.adapt(np.array(train_features))\n",
    "    print(normalizer.mean.numpy())\n",
    "    \n",
    "    first = np.array(train_features[:1])\n",
    "\n",
    "    with np.printoptions(precision=2, suppress=True):\n",
    "      print('First example:', first)\n",
    "      print()\n",
    "      print('Normalized:', normalizer(first).numpy())"
   ]
  },
  {
   "cell_type": "code",
   "execution_count": null,
   "metadata": {},
   "outputs": [],
   "source": [
    "def build_and_compile_model(norm):\n",
    "  model = keras.Sequential([\n",
    "      norm,\n",
    "      keras.layers.Dense(64, activation='relu'),\n",
    "      keras.layers.Dense(64, activation='relu'),\n",
    "      keras.layers.Dense(1)\n",
    "  ])\n",
    "\n",
    "  model.compile(loss='mean_absolute_error',\n",
    "                optimizer=tf.keras.optimizers.Adam(0.001))\n",
    "  return model\n",
    "\n",
    "if IN_COLAB:\n",
    "    dnn_model = build_and_compile_model(normalizer)\n",
    "    print(dnn_model.summary())"
   ]
  },
  {
   "cell_type": "code",
   "execution_count": null,
   "metadata": {},
   "outputs": [],
   "source": [
    "if IN_COLAB:\n",
    "    %%time\n",
    "    history = dnn_model.fit(\n",
    "        train_features,\n",
    "        train_labels,\n",
    "        validation_split=0.2,\n",
    "        verbose=0, epochs=50)\n",
    "\n",
    "    print(dnn_model.evaluate(test_features, test_labels, verbose=0))"
   ]
  }
 ],
 "metadata": {
  "interpreter": {
   "hash": "3c1665ecdeb719b5a9b18f5ead674f34a7d8f4e180fcf6d2cd8ba743c679e34c"
  },
  "kernelspec": {
   "display_name": "Python 3 (ipykernel)",
   "language": "python",
   "name": "python3"
  },
  "language_info": {
   "codemirror_mode": {
    "name": "ipython",
    "version": 3
   },
   "file_extension": ".py",
   "mimetype": "text/x-python",
   "name": "python",
   "nbconvert_exporter": "python",
   "pygments_lexer": "ipython3",
   "version": "3.10.4"
  }
 },
 "nbformat": 4,
 "nbformat_minor": 2
}
