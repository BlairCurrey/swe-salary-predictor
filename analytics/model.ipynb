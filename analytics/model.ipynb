{
 "cells": [
  {
   "cell_type": "code",
   "execution_count": 1,
   "metadata": {},
   "outputs": [],
   "source": [
    "import pandas as pd\n",
    "from common import DataLoader\n",
    "import numpy as np\n",
    "\n",
    "from sklearn.linear_model import LinearRegression\n",
    "from sklearn.model_selection import train_test_split\n",
    "from sklearn.metrics import mean_squared_error, r2_score\n",
    "# from scipy import stats\n",
    "from sklearn.preprocessing import OneHotEncoder, OrdinalEncoder\n",
    "\n",
    "import seaborn as sns\n",
    "\n",
    "pd.options.display.float_format = '{:.2f}'.format\n",
    "sns.set_theme(color_codes=True)"
   ]
  },
  {
   "cell_type": "code",
   "execution_count": 2,
   "metadata": {},
   "outputs": [
    {
     "name": "stdout",
     "output_type": "stream",
     "text": [
      "_start_pipeline:\n",
      "  runtime=0:00:00.016298, end shape=(83439, 48)\n",
      "_select:\n",
      "  runtime=0:00:00.044495, end shape=(40627, 7)\n",
      "_clean:\n",
      "  runtime=0:00:00.425788, end shape=(40627, 173)\n",
      "_remove_outliers:\n",
      "  runtime=0:00:00.046388, end shape=(31610, 173)\n",
      "_handle_missing:\n",
      "  runtime=0:00:00.047311, end shape=(31610, 173)\n"
     ]
    },
    {
     "data": {
      "text/html": [
       "<div>\n",
       "<style scoped>\n",
       "    .dataframe tbody tr th:only-of-type {\n",
       "        vertical-align: middle;\n",
       "    }\n",
       "\n",
       "    .dataframe tbody tr th {\n",
       "        vertical-align: top;\n",
       "    }\n",
       "\n",
       "    .dataframe thead th {\n",
       "        text-align: right;\n",
       "    }\n",
       "</style>\n",
       "<table border=\"1\" class=\"dataframe\">\n",
       "  <thead>\n",
       "    <tr style=\"text-align: right;\">\n",
       "      <th></th>\n",
       "      <th>ConvertedCompYearly</th>\n",
       "      <th>EdLevel</th>\n",
       "      <th>Age1stCode</th>\n",
       "      <th>YearsCode</th>\n",
       "      <th>YearsCodePro</th>\n",
       "      <th>Age</th>\n",
       "      <th>Afghanistan</th>\n",
       "      <th>Albania</th>\n",
       "      <th>Algeria</th>\n",
       "      <th>Andorra</th>\n",
       "      <th>...</th>\n",
       "      <th>United Kingdom of Great Britain and Northern Ireland</th>\n",
       "      <th>United Republic of Tanzania</th>\n",
       "      <th>United States of America</th>\n",
       "      <th>Uruguay</th>\n",
       "      <th>Uzbekistan</th>\n",
       "      <th>Venezuela, Bolivarian Republic of...</th>\n",
       "      <th>Viet Nam</th>\n",
       "      <th>Yemen</th>\n",
       "      <th>Zambia</th>\n",
       "      <th>Zimbabwe</th>\n",
       "    </tr>\n",
       "  </thead>\n",
       "  <tbody>\n",
       "    <tr>\n",
       "      <th>0</th>\n",
       "      <td>51552.00</td>\n",
       "      <td>3.00</td>\n",
       "      <td>14.00</td>\n",
       "      <td>7.00</td>\n",
       "      <td>4.00</td>\n",
       "      <td>29.50</td>\n",
       "      <td>0.00</td>\n",
       "      <td>0.00</td>\n",
       "      <td>0.00</td>\n",
       "      <td>0.00</td>\n",
       "      <td>...</td>\n",
       "      <td>0.00</td>\n",
       "      <td>0.00</td>\n",
       "      <td>0.00</td>\n",
       "      <td>0.00</td>\n",
       "      <td>0.00</td>\n",
       "      <td>0.00</td>\n",
       "      <td>0.00</td>\n",
       "      <td>0.00</td>\n",
       "      <td>0.00</td>\n",
       "      <td>0.00</td>\n",
       "    </tr>\n",
       "    <tr>\n",
       "      <th>1</th>\n",
       "      <td>46482.00</td>\n",
       "      <td>2.00</td>\n",
       "      <td>14.00</td>\n",
       "      <td>12.00</td>\n",
       "      <td>5.00</td>\n",
       "      <td>29.50</td>\n",
       "      <td>0.00</td>\n",
       "      <td>0.00</td>\n",
       "      <td>0.00</td>\n",
       "      <td>0.00</td>\n",
       "      <td>...</td>\n",
       "      <td>0.00</td>\n",
       "      <td>0.00</td>\n",
       "      <td>0.00</td>\n",
       "      <td>0.00</td>\n",
       "      <td>0.00</td>\n",
       "      <td>0.00</td>\n",
       "      <td>0.00</td>\n",
       "      <td>0.00</td>\n",
       "      <td>0.00</td>\n",
       "      <td>0.00</td>\n",
       "    </tr>\n",
       "    <tr>\n",
       "      <th>2</th>\n",
       "      <td>77290.00</td>\n",
       "      <td>3.00</td>\n",
       "      <td>14.00</td>\n",
       "      <td>15.00</td>\n",
       "      <td>6.00</td>\n",
       "      <td>29.50</td>\n",
       "      <td>0.00</td>\n",
       "      <td>0.00</td>\n",
       "      <td>0.00</td>\n",
       "      <td>0.00</td>\n",
       "      <td>...</td>\n",
       "      <td>0.00</td>\n",
       "      <td>0.00</td>\n",
       "      <td>0.00</td>\n",
       "      <td>0.00</td>\n",
       "      <td>0.00</td>\n",
       "      <td>0.00</td>\n",
       "      <td>0.00</td>\n",
       "      <td>0.00</td>\n",
       "      <td>0.00</td>\n",
       "      <td>0.00</td>\n",
       "    </tr>\n",
       "    <tr>\n",
       "      <th>3</th>\n",
       "      <td>17748.00</td>\n",
       "      <td>2.00</td>\n",
       "      <td>7.50</td>\n",
       "      <td>6.00</td>\n",
       "      <td>2.00</td>\n",
       "      <td>29.50</td>\n",
       "      <td>0.00</td>\n",
       "      <td>0.00</td>\n",
       "      <td>0.00</td>\n",
       "      <td>0.00</td>\n",
       "      <td>...</td>\n",
       "      <td>0.00</td>\n",
       "      <td>0.00</td>\n",
       "      <td>0.00</td>\n",
       "      <td>0.00</td>\n",
       "      <td>0.00</td>\n",
       "      <td>0.00</td>\n",
       "      <td>0.00</td>\n",
       "      <td>0.00</td>\n",
       "      <td>0.00</td>\n",
       "      <td>0.00</td>\n",
       "    </tr>\n",
       "    <tr>\n",
       "      <th>4</th>\n",
       "      <td>46135.00</td>\n",
       "      <td>2.00</td>\n",
       "      <td>14.00</td>\n",
       "      <td>9.00</td>\n",
       "      <td>6.00</td>\n",
       "      <td>29.50</td>\n",
       "      <td>0.00</td>\n",
       "      <td>0.00</td>\n",
       "      <td>0.00</td>\n",
       "      <td>0.00</td>\n",
       "      <td>...</td>\n",
       "      <td>0.00</td>\n",
       "      <td>0.00</td>\n",
       "      <td>0.00</td>\n",
       "      <td>0.00</td>\n",
       "      <td>0.00</td>\n",
       "      <td>0.00</td>\n",
       "      <td>0.00</td>\n",
       "      <td>0.00</td>\n",
       "      <td>0.00</td>\n",
       "      <td>0.00</td>\n",
       "    </tr>\n",
       "  </tbody>\n",
       "</table>\n",
       "<p>5 rows × 172 columns</p>\n",
       "</div>"
      ],
      "text/plain": [
       "   ConvertedCompYearly  EdLevel  Age1stCode  YearsCode  YearsCodePro   Age  \\\n",
       "0             51552.00     3.00       14.00       7.00          4.00 29.50   \n",
       "1             46482.00     2.00       14.00      12.00          5.00 29.50   \n",
       "2             77290.00     3.00       14.00      15.00          6.00 29.50   \n",
       "3             17748.00     2.00        7.50       6.00          2.00 29.50   \n",
       "4             46135.00     2.00       14.00       9.00          6.00 29.50   \n",
       "\n",
       "   Afghanistan  Albania  Algeria  Andorra  ...  \\\n",
       "0         0.00     0.00     0.00     0.00  ...   \n",
       "1         0.00     0.00     0.00     0.00  ...   \n",
       "2         0.00     0.00     0.00     0.00  ...   \n",
       "3         0.00     0.00     0.00     0.00  ...   \n",
       "4         0.00     0.00     0.00     0.00  ...   \n",
       "\n",
       "   United Kingdom of Great Britain and Northern Ireland  \\\n",
       "0                                               0.00      \n",
       "1                                               0.00      \n",
       "2                                               0.00      \n",
       "3                                               0.00      \n",
       "4                                               0.00      \n",
       "\n",
       "   United Republic of Tanzania  United States of America  Uruguay  Uzbekistan  \\\n",
       "0                         0.00                      0.00     0.00        0.00   \n",
       "1                         0.00                      0.00     0.00        0.00   \n",
       "2                         0.00                      0.00     0.00        0.00   \n",
       "3                         0.00                      0.00     0.00        0.00   \n",
       "4                         0.00                      0.00     0.00        0.00   \n",
       "\n",
       "   Venezuela, Bolivarian Republic of...  Viet Nam  Yemen  Zambia  Zimbabwe  \n",
       "0                                  0.00      0.00   0.00    0.00      0.00  \n",
       "1                                  0.00      0.00   0.00    0.00      0.00  \n",
       "2                                  0.00      0.00   0.00    0.00      0.00  \n",
       "3                                  0.00      0.00   0.00    0.00      0.00  \n",
       "4                                  0.00      0.00   0.00    0.00      0.00  \n",
       "\n",
       "[5 rows x 172 columns]"
      ]
     },
     "execution_count": 2,
     "metadata": {},
     "output_type": "execute_result"
    }
   ],
   "source": [
    "dl = DataLoader('./data/stack-overflow-developer-survey-2021/survey_results_public.csv')\n",
    "df = dl.df\n",
    "# df = get_df()\n",
    "df.head()"
   ]
  },
  {
   "cell_type": "code",
   "execution_count": 3,
   "metadata": {},
   "outputs": [
    {
     "data": {
      "text/plain": [
       "ConvertedCompYearly                     0\n",
       "EdLevel                                 0\n",
       "Age1stCode                              0\n",
       "YearsCode                               0\n",
       "YearsCodePro                            0\n",
       "                                       ..\n",
       "Venezuela, Bolivarian Republic of...    0\n",
       "Viet Nam                                0\n",
       "Yemen                                   0\n",
       "Zambia                                  0\n",
       "Zimbabwe                                0\n",
       "Length: 172, dtype: int64"
      ]
     },
     "execution_count": 3,
     "metadata": {},
     "output_type": "execute_result"
    }
   ],
   "source": [
    "df.isna().sum()"
   ]
  },
  {
   "cell_type": "code",
   "execution_count": 4,
   "metadata": {},
   "outputs": [
    {
     "data": {
      "text/plain": [
       "14.00    17852\n",
       "21.00     6837\n",
       "7.50      4350\n",
       "28.50     1609\n",
       "39.50      507\n",
       "49.50      207\n",
       "4.00       160\n",
       "59.50       70\n",
       "16.31       10\n",
       "65.00        8\n",
       "Name: Age1stCode, dtype: int64"
      ]
     },
     "execution_count": 4,
     "metadata": {},
     "output_type": "execute_result"
    }
   ],
   "source": [
    "df['Age1stCode'].value_counts()"
   ]
  },
  {
   "cell_type": "code",
   "execution_count": 5,
   "metadata": {},
   "outputs": [],
   "source": [
    "reg = LinearRegression()\n",
    "label = 'ConvertedCompYearly'\n",
    "labels = df[label]\n",
    "train = df.drop([label], axis=1)"
   ]
  },
  {
   "cell_type": "code",
   "execution_count": 6,
   "metadata": {},
   "outputs": [],
   "source": [
    "x_train, x_test, y_train, y_test = train_test_split(train, labels, test_size=0.2, random_state=1776)"
   ]
  },
  {
   "cell_type": "code",
   "execution_count": 7,
   "metadata": {},
   "outputs": [
    {
     "data": {
      "text/plain": [
       "LinearRegression()"
      ]
     },
     "execution_count": 7,
     "metadata": {},
     "output_type": "execute_result"
    }
   ],
   "source": [
    "reg.fit(x_train, y_train)"
   ]
  },
  {
   "cell_type": "code",
   "execution_count": 8,
   "metadata": {},
   "outputs": [
    {
     "name": "stdout",
     "output_type": "stream",
     "text": [
      "train\n",
      "  rmse=36075.19658034803, r2=0.5147006246622812\n",
      "test\n",
      "  rmse=36828.96845741448, r2=0.4878591317194213\n"
     ]
    }
   ],
   "source": [
    "def performance(x, y, name):\n",
    "    y_predict = reg.predict(x)\n",
    "    rmse = (np.sqrt(mean_squared_error(y, y_predict)))\n",
    "    r2 = r2_score(y, y_predict)\n",
    "\n",
    "    print(name)\n",
    "    print(f'  rmse={rmse}, r2={r2}')\n",
    "\n",
    "\n",
    "performance(x_train, y_train, 'train')\n",
    "performance(x_test, y_test, 'test')"
   ]
  },
  {
   "cell_type": "code",
   "execution_count": null,
   "metadata": {},
   "outputs": [],
   "source": []
  }
 ],
 "metadata": {
  "interpreter": {
   "hash": "3c1665ecdeb719b5a9b18f5ead674f34a7d8f4e180fcf6d2cd8ba743c679e34c"
  },
  "kernelspec": {
   "display_name": "Python 3 (ipykernel)",
   "language": "python",
   "name": "python3"
  },
  "language_info": {
   "codemirror_mode": {
    "name": "ipython",
    "version": 3
   },
   "file_extension": ".py",
   "mimetype": "text/x-python",
   "name": "python",
   "nbconvert_exporter": "python",
   "pygments_lexer": "ipython3",
   "version": "3.10.4"
  }
 },
 "nbformat": 4,
 "nbformat_minor": 2
}
