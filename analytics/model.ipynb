{
  "cells": [
    {
      "cell_type": "code",
      "execution_count": null,
      "metadata": {
        "id": "Tohhn8YX7-ln"
      },
      "outputs": [],
      "source": [
        "try:\n",
        "  import google.colab\n",
        "  IN_COLAB = True\n",
        "except:\n",
        "  IN_COLAB = False"
      ]
    },
    {
      "cell_type": "code",
      "execution_count": null,
      "metadata": {
        "colab": {
          "base_uri": "https://localhost:8080/"
        },
        "id": "EI3MXb6P7-lr",
        "outputId": "f17ca947-22be-4241-a3bd-5d340b7d4896"
      },
      "outputs": [
        {
          "output_type": "stream",
          "name": "stdout",
          "text": [
            "Looking in indexes: https://pypi.org/simple, https://us-python.pkg.dev/colab-wheels/public/simple/\n",
            "Requirement already satisfied: pandas in /usr/local/lib/python3.7/dist-packages (1.3.5)\n",
            "Requirement already satisfied: numpy>=1.17.3 in /usr/local/lib/python3.7/dist-packages (from pandas) (1.21.6)\n",
            "Requirement already satisfied: python-dateutil>=2.7.3 in /usr/local/lib/python3.7/dist-packages (from pandas) (2.8.2)\n",
            "Requirement already satisfied: pytz>=2017.3 in /usr/local/lib/python3.7/dist-packages (from pandas) (2022.2.1)\n",
            "Requirement already satisfied: six>=1.5 in /usr/local/lib/python3.7/dist-packages (from python-dateutil>=2.7.3->pandas) (1.15.0)\n",
            "Looking in indexes: https://pypi.org/simple, https://us-python.pkg.dev/colab-wheels/public/simple/\n",
            "Requirement already satisfied: numpy in /usr/local/lib/python3.7/dist-packages (1.21.6)\n",
            "Looking in indexes: https://pypi.org/simple, https://us-python.pkg.dev/colab-wheels/public/simple/\n",
            "Requirement already satisfied: tensorflow in /usr/local/lib/python3.7/dist-packages (2.8.2+zzzcolab20220719082949)\n",
            "Requirement already satisfied: typing-extensions>=3.6.6 in /usr/local/lib/python3.7/dist-packages (from tensorflow) (4.1.1)\n",
            "Requirement already satisfied: gast>=0.2.1 in /usr/local/lib/python3.7/dist-packages (from tensorflow) (0.5.3)\n",
            "Requirement already satisfied: wrapt>=1.11.0 in /usr/local/lib/python3.7/dist-packages (from tensorflow) (1.14.1)\n",
            "Requirement already satisfied: keras<2.9,>=2.8.0rc0 in /usr/local/lib/python3.7/dist-packages (from tensorflow) (2.8.0)\n",
            "Requirement already satisfied: opt-einsum>=2.3.2 in /usr/local/lib/python3.7/dist-packages (from tensorflow) (3.3.0)\n",
            "Requirement already satisfied: absl-py>=0.4.0 in /usr/local/lib/python3.7/dist-packages (from tensorflow) (1.2.0)\n",
            "Requirement already satisfied: google-pasta>=0.1.1 in /usr/local/lib/python3.7/dist-packages (from tensorflow) (0.2.0)\n",
            "Requirement already satisfied: tensorboard<2.9,>=2.8 in /usr/local/lib/python3.7/dist-packages (from tensorflow) (2.8.0)\n",
            "Requirement already satisfied: flatbuffers>=1.12 in /usr/local/lib/python3.7/dist-packages (from tensorflow) (2.0)\n",
            "Requirement already satisfied: termcolor>=1.1.0 in /usr/local/lib/python3.7/dist-packages (from tensorflow) (1.1.0)\n",
            "Requirement already satisfied: six>=1.12.0 in /usr/local/lib/python3.7/dist-packages (from tensorflow) (1.15.0)\n",
            "Requirement already satisfied: setuptools in /usr/local/lib/python3.7/dist-packages (from tensorflow) (57.4.0)\n",
            "Requirement already satisfied: tensorflow-io-gcs-filesystem>=0.23.1 in /usr/local/lib/python3.7/dist-packages (from tensorflow) (0.26.0)\n",
            "Requirement already satisfied: grpcio<2.0,>=1.24.3 in /usr/local/lib/python3.7/dist-packages (from tensorflow) (1.47.0)\n",
            "Requirement already satisfied: astunparse>=1.6.0 in /usr/local/lib/python3.7/dist-packages (from tensorflow) (1.6.3)\n",
            "Requirement already satisfied: libclang>=9.0.1 in /usr/local/lib/python3.7/dist-packages (from tensorflow) (14.0.6)\n",
            "Requirement already satisfied: keras-preprocessing>=1.1.1 in /usr/local/lib/python3.7/dist-packages (from tensorflow) (1.1.2)\n",
            "Requirement already satisfied: h5py>=2.9.0 in /usr/local/lib/python3.7/dist-packages (from tensorflow) (3.1.0)\n",
            "Requirement already satisfied: protobuf<3.20,>=3.9.2 in /usr/local/lib/python3.7/dist-packages (from tensorflow) (3.17.3)\n",
            "Requirement already satisfied: numpy>=1.20 in /usr/local/lib/python3.7/dist-packages (from tensorflow) (1.21.6)\n",
            "Requirement already satisfied: tensorflow-estimator<2.9,>=2.8 in /usr/local/lib/python3.7/dist-packages (from tensorflow) (2.8.0)\n",
            "Requirement already satisfied: wheel<1.0,>=0.23.0 in /usr/local/lib/python3.7/dist-packages (from astunparse>=1.6.0->tensorflow) (0.37.1)\n",
            "Requirement already satisfied: cached-property in /usr/local/lib/python3.7/dist-packages (from h5py>=2.9.0->tensorflow) (1.5.2)\n",
            "Requirement already satisfied: markdown>=2.6.8 in /usr/local/lib/python3.7/dist-packages (from tensorboard<2.9,>=2.8->tensorflow) (3.4.1)\n",
            "Requirement already satisfied: werkzeug>=0.11.15 in /usr/local/lib/python3.7/dist-packages (from tensorboard<2.9,>=2.8->tensorflow) (1.0.1)\n",
            "Requirement already satisfied: tensorboard-plugin-wit>=1.6.0 in /usr/local/lib/python3.7/dist-packages (from tensorboard<2.9,>=2.8->tensorflow) (1.8.1)\n",
            "Requirement already satisfied: requests<3,>=2.21.0 in /usr/local/lib/python3.7/dist-packages (from tensorboard<2.9,>=2.8->tensorflow) (2.23.0)\n",
            "Requirement already satisfied: google-auth-oauthlib<0.5,>=0.4.1 in /usr/local/lib/python3.7/dist-packages (from tensorboard<2.9,>=2.8->tensorflow) (0.4.6)\n",
            "Requirement already satisfied: google-auth<3,>=1.6.3 in /usr/local/lib/python3.7/dist-packages (from tensorboard<2.9,>=2.8->tensorflow) (1.35.0)\n",
            "Requirement already satisfied: tensorboard-data-server<0.7.0,>=0.6.0 in /usr/local/lib/python3.7/dist-packages (from tensorboard<2.9,>=2.8->tensorflow) (0.6.1)\n",
            "Requirement already satisfied: cachetools<5.0,>=2.0.0 in /usr/local/lib/python3.7/dist-packages (from google-auth<3,>=1.6.3->tensorboard<2.9,>=2.8->tensorflow) (4.2.4)\n",
            "Requirement already satisfied: rsa<5,>=3.1.4 in /usr/local/lib/python3.7/dist-packages (from google-auth<3,>=1.6.3->tensorboard<2.9,>=2.8->tensorflow) (4.9)\n",
            "Requirement already satisfied: pyasn1-modules>=0.2.1 in /usr/local/lib/python3.7/dist-packages (from google-auth<3,>=1.6.3->tensorboard<2.9,>=2.8->tensorflow) (0.2.8)\n",
            "Requirement already satisfied: requests-oauthlib>=0.7.0 in /usr/local/lib/python3.7/dist-packages (from google-auth-oauthlib<0.5,>=0.4.1->tensorboard<2.9,>=2.8->tensorflow) (1.3.1)\n",
            "Requirement already satisfied: importlib-metadata>=4.4 in /usr/local/lib/python3.7/dist-packages (from markdown>=2.6.8->tensorboard<2.9,>=2.8->tensorflow) (4.12.0)\n",
            "Requirement already satisfied: zipp>=0.5 in /usr/local/lib/python3.7/dist-packages (from importlib-metadata>=4.4->markdown>=2.6.8->tensorboard<2.9,>=2.8->tensorflow) (3.8.1)\n",
            "Requirement already satisfied: pyasn1<0.5.0,>=0.4.6 in /usr/local/lib/python3.7/dist-packages (from pyasn1-modules>=0.2.1->google-auth<3,>=1.6.3->tensorboard<2.9,>=2.8->tensorflow) (0.4.8)\n",
            "Requirement already satisfied: urllib3!=1.25.0,!=1.25.1,<1.26,>=1.21.1 in /usr/local/lib/python3.7/dist-packages (from requests<3,>=2.21.0->tensorboard<2.9,>=2.8->tensorflow) (1.24.3)\n",
            "Requirement already satisfied: chardet<4,>=3.0.2 in /usr/local/lib/python3.7/dist-packages (from requests<3,>=2.21.0->tensorboard<2.9,>=2.8->tensorflow) (3.0.4)\n",
            "Requirement already satisfied: certifi>=2017.4.17 in /usr/local/lib/python3.7/dist-packages (from requests<3,>=2.21.0->tensorboard<2.9,>=2.8->tensorflow) (2022.6.15)\n",
            "Requirement already satisfied: idna<3,>=2.5 in /usr/local/lib/python3.7/dist-packages (from requests<3,>=2.21.0->tensorboard<2.9,>=2.8->tensorflow) (2.10)\n",
            "Requirement already satisfied: oauthlib>=3.0.0 in /usr/local/lib/python3.7/dist-packages (from requests-oauthlib>=0.7.0->google-auth-oauthlib<0.5,>=0.4.1->tensorboard<2.9,>=2.8->tensorflow) (3.2.0)\n"
          ]
        }
      ],
      "source": [
        "if IN_COLAB: \n",
        "    !pip install pandas\n",
        "    !pip install numpy\n",
        "    !pip install tensorflow\n",
        "    !pip install -q -U keras-tuner"
      ]
    },
    {
      "cell_type": "code",
      "execution_count": null,
      "metadata": {
        "colab": {
          "base_uri": "https://localhost:8080/"
        },
        "id": "QCOmL4Al7-ls",
        "outputId": "5a9c7399-a17a-4b15-a62b-dee9d24a16a4"
      },
      "outputs": [
        {
          "output_type": "stream",
          "name": "stdout",
          "text": [
            "GPU 0: Tesla T4 (UUID: GPU-e5c31962-522f-2f5d-6ec8-52db42fda8ec)\n"
          ]
        }
      ],
      "source": [
        "if IN_COLAB:\n",
        "  !nvidia-smi -L"
      ]
    },
    {
      "cell_type": "code",
      "source": [
        "!pip freeze > requirements.txt"
      ],
      "metadata": {
        "id": "ho8QG6U94utP"
      },
      "execution_count": null,
      "outputs": []
    },
    {
      "cell_type": "code",
      "execution_count": null,
      "metadata": {
        "id": "Hg50fq0A7-lt",
        "colab": {
          "base_uri": "https://localhost:8080/"
        },
        "outputId": "808dd5f0-5a99-4682-b8b8-7d39ff52f19d"
      },
      "outputs": [
        {
          "output_type": "stream",
          "name": "stdout",
          "text": [
            "Drive already mounted at /content/drive; to attempt to forcibly remount, call drive.mount(\"/content/drive\", force_remount=True).\n"
          ]
        }
      ],
      "source": [
        "if IN_COLAB:\n",
        "  from google.colab import drive\n",
        "  import sys\n",
        "  drive.mount('/content/drive')\n",
        "  sys.path.append('/content/drive/MyDrive')\n",
        "  sys.path.append('/content/drive/MyDrive/swe-salary-predictor')"
      ]
    },
    {
      "cell_type": "code",
      "execution_count": null,
      "metadata": {
        "id": "0XCy58r87-lv"
      },
      "outputs": [],
      "source": [
        "import time\n",
        "import pandas as pd\n",
        "from common import DataLoader\n",
        "import numpy as np\n",
        "from sklearn.linear_model import LinearRegression\n",
        "from sklearn.model_selection import train_test_split, cross_val_score\n",
        "from sklearn.metrics import mean_squared_error, r2_score\n",
        "from sklearn.preprocessing import OneHotEncoder, OrdinalEncoder, MultiLabelBinarizer\n",
        "from sklearn.compose import make_column_transformer\n",
        "from sklearn.pipeline import make_pipeline\n",
        "import tensorflow as tf\n",
        "from tensorflow import keras\n",
        "import keras_tuner as kt\n",
        "import seaborn as sns\n",
        "import matplotlib.pyplot as plt\n",
        "\n",
        "pd.options.display.float_format = '{:.2f}'.format\n",
        "sns.set_theme(color_codes=True)"
      ]
    },
    {
      "cell_type": "markdown",
      "source": [
        "Preprocess and load dataset. See implementation of `DataLoader` in `analytics/common.py` for more details.\n",
        "\n",
        "Changes from original include:\n",
        "- `EdLevel` consolidated to 5 levels from 9\n",
        "- `Age1stCode`, `Age`, `YearsCode`, `YearsCodePro` converted from strings representing ranges (e.g. `18-24 years old`) to integers\n",
        "- Records from countries with less than 100 records in the survey were dropped\n",
        "- Missing values were dropped or filled in with averages\n",
        "- Salaries on the extreme high and low end of the spectrum were dropped."
      ],
      "metadata": {
        "id": "JNWo_VJ72FO2"
      }
    },
    {
      "cell_type": "code",
      "execution_count": null,
      "metadata": {
        "id": "hvrmDxDN7-lw",
        "colab": {
          "base_uri": "https://localhost:8080/",
          "height": 545
        },
        "outputId": "aae9613b-8f9e-463a-dac3-3a8abf27fc87"
      },
      "outputs": [
        {
          "output_type": "stream",
          "name": "stdout",
          "text": [
            "_start_pipeline:\n",
            "  runtime=0:00:00.023391, end shape=(83439, 48)\n",
            "_select:\n",
            "  runtime=0:00:00.061434, end shape=(40627, 9)\n",
            "_clean:\n",
            "  runtime=0:00:00.154684, end shape=(40627, 9)\n",
            "_remove_outliers:\n",
            "  runtime=0:00:00.011627, end shape=(31610, 9)\n",
            "_handle_missing:\n",
            "  runtime=0:00:00.003902, end shape=(31610, 9)\n"
          ]
        },
        {
          "output_type": "execute_result",
          "data": {
            "text/plain": [
              "    ConvertedCompYearly    EdLevel  Age1stCode  YearsCode  YearsCodePro  \\\n",
              "9              51552.00    Masters       14.00       7.00          4.00   \n",
              "11             46482.00  Bachelors       14.00      12.00          5.00   \n",
              "12             77290.00    Masters       14.00      15.00          6.00   \n",
              "16             17748.00  Bachelors        7.50       6.00          2.00   \n",
              "17             46135.00  Bachelors       14.00       9.00          6.00   \n",
              "\n",
              "    Country                                            DevType  \\\n",
              "9    Sweden      Data scientist or machine learning specialist   \n",
              "11    Spain                                Developer, back-end   \n",
              "12  Germany  Developer, desktop or enterprise applications;...   \n",
              "16   Turkey                              Developer, full-stack   \n",
              "17   Canada  Developer, front-end;Developer, full-stack;Dev...   \n",
              "\n",
              "                               LanguageHaveWorkedWith   Age  \n",
              "9                                          C++;Python 29.50  \n",
              "11  Bash/Shell;HTML/CSS;JavaScript;Node.js;SQL;Typ... 29.50  \n",
              "12                               C;C++;Java;Perl;Ruby 29.50  \n",
              "16                C#;HTML/CSS;Java;JavaScript;Node.js 29.50  \n",
              "17        Bash/Shell;HTML/CSS;JavaScript;PHP;Ruby;SQL 29.50  "
            ],
            "text/html": [
              "\n",
              "  <div id=\"df-0c3559c0-7f07-4393-8d4c-a077a43938f6\">\n",
              "    <div class=\"colab-df-container\">\n",
              "      <div>\n",
              "<style scoped>\n",
              "    .dataframe tbody tr th:only-of-type {\n",
              "        vertical-align: middle;\n",
              "    }\n",
              "\n",
              "    .dataframe tbody tr th {\n",
              "        vertical-align: top;\n",
              "    }\n",
              "\n",
              "    .dataframe thead th {\n",
              "        text-align: right;\n",
              "    }\n",
              "</style>\n",
              "<table border=\"1\" class=\"dataframe\">\n",
              "  <thead>\n",
              "    <tr style=\"text-align: right;\">\n",
              "      <th></th>\n",
              "      <th>ConvertedCompYearly</th>\n",
              "      <th>EdLevel</th>\n",
              "      <th>Age1stCode</th>\n",
              "      <th>YearsCode</th>\n",
              "      <th>YearsCodePro</th>\n",
              "      <th>Country</th>\n",
              "      <th>DevType</th>\n",
              "      <th>LanguageHaveWorkedWith</th>\n",
              "      <th>Age</th>\n",
              "    </tr>\n",
              "  </thead>\n",
              "  <tbody>\n",
              "    <tr>\n",
              "      <th>9</th>\n",
              "      <td>51552.00</td>\n",
              "      <td>Masters</td>\n",
              "      <td>14.00</td>\n",
              "      <td>7.00</td>\n",
              "      <td>4.00</td>\n",
              "      <td>Sweden</td>\n",
              "      <td>Data scientist or machine learning specialist</td>\n",
              "      <td>C++;Python</td>\n",
              "      <td>29.50</td>\n",
              "    </tr>\n",
              "    <tr>\n",
              "      <th>11</th>\n",
              "      <td>46482.00</td>\n",
              "      <td>Bachelors</td>\n",
              "      <td>14.00</td>\n",
              "      <td>12.00</td>\n",
              "      <td>5.00</td>\n",
              "      <td>Spain</td>\n",
              "      <td>Developer, back-end</td>\n",
              "      <td>Bash/Shell;HTML/CSS;JavaScript;Node.js;SQL;Typ...</td>\n",
              "      <td>29.50</td>\n",
              "    </tr>\n",
              "    <tr>\n",
              "      <th>12</th>\n",
              "      <td>77290.00</td>\n",
              "      <td>Masters</td>\n",
              "      <td>14.00</td>\n",
              "      <td>15.00</td>\n",
              "      <td>6.00</td>\n",
              "      <td>Germany</td>\n",
              "      <td>Developer, desktop or enterprise applications;...</td>\n",
              "      <td>C;C++;Java;Perl;Ruby</td>\n",
              "      <td>29.50</td>\n",
              "    </tr>\n",
              "    <tr>\n",
              "      <th>16</th>\n",
              "      <td>17748.00</td>\n",
              "      <td>Bachelors</td>\n",
              "      <td>7.50</td>\n",
              "      <td>6.00</td>\n",
              "      <td>2.00</td>\n",
              "      <td>Turkey</td>\n",
              "      <td>Developer, full-stack</td>\n",
              "      <td>C#;HTML/CSS;Java;JavaScript;Node.js</td>\n",
              "      <td>29.50</td>\n",
              "    </tr>\n",
              "    <tr>\n",
              "      <th>17</th>\n",
              "      <td>46135.00</td>\n",
              "      <td>Bachelors</td>\n",
              "      <td>14.00</td>\n",
              "      <td>9.00</td>\n",
              "      <td>6.00</td>\n",
              "      <td>Canada</td>\n",
              "      <td>Developer, front-end;Developer, full-stack;Dev...</td>\n",
              "      <td>Bash/Shell;HTML/CSS;JavaScript;PHP;Ruby;SQL</td>\n",
              "      <td>29.50</td>\n",
              "    </tr>\n",
              "  </tbody>\n",
              "</table>\n",
              "</div>\n",
              "      <button class=\"colab-df-convert\" onclick=\"convertToInteractive('df-0c3559c0-7f07-4393-8d4c-a077a43938f6')\"\n",
              "              title=\"Convert this dataframe to an interactive table.\"\n",
              "              style=\"display:none;\">\n",
              "        \n",
              "  <svg xmlns=\"http://www.w3.org/2000/svg\" height=\"24px\"viewBox=\"0 0 24 24\"\n",
              "       width=\"24px\">\n",
              "    <path d=\"M0 0h24v24H0V0z\" fill=\"none\"/>\n",
              "    <path d=\"M18.56 5.44l.94 2.06.94-2.06 2.06-.94-2.06-.94-.94-2.06-.94 2.06-2.06.94zm-11 1L8.5 8.5l.94-2.06 2.06-.94-2.06-.94L8.5 2.5l-.94 2.06-2.06.94zm10 10l.94 2.06.94-2.06 2.06-.94-2.06-.94-.94-2.06-.94 2.06-2.06.94z\"/><path d=\"M17.41 7.96l-1.37-1.37c-.4-.4-.92-.59-1.43-.59-.52 0-1.04.2-1.43.59L10.3 9.45l-7.72 7.72c-.78.78-.78 2.05 0 2.83L4 21.41c.39.39.9.59 1.41.59.51 0 1.02-.2 1.41-.59l7.78-7.78 2.81-2.81c.8-.78.8-2.07 0-2.86zM5.41 20L4 18.59l7.72-7.72 1.47 1.35L5.41 20z\"/>\n",
              "  </svg>\n",
              "      </button>\n",
              "      \n",
              "  <style>\n",
              "    .colab-df-container {\n",
              "      display:flex;\n",
              "      flex-wrap:wrap;\n",
              "      gap: 12px;\n",
              "    }\n",
              "\n",
              "    .colab-df-convert {\n",
              "      background-color: #E8F0FE;\n",
              "      border: none;\n",
              "      border-radius: 50%;\n",
              "      cursor: pointer;\n",
              "      display: none;\n",
              "      fill: #1967D2;\n",
              "      height: 32px;\n",
              "      padding: 0 0 0 0;\n",
              "      width: 32px;\n",
              "    }\n",
              "\n",
              "    .colab-df-convert:hover {\n",
              "      background-color: #E2EBFA;\n",
              "      box-shadow: 0px 1px 2px rgba(60, 64, 67, 0.3), 0px 1px 3px 1px rgba(60, 64, 67, 0.15);\n",
              "      fill: #174EA6;\n",
              "    }\n",
              "\n",
              "    [theme=dark] .colab-df-convert {\n",
              "      background-color: #3B4455;\n",
              "      fill: #D2E3FC;\n",
              "    }\n",
              "\n",
              "    [theme=dark] .colab-df-convert:hover {\n",
              "      background-color: #434B5C;\n",
              "      box-shadow: 0px 1px 3px 1px rgba(0, 0, 0, 0.15);\n",
              "      filter: drop-shadow(0px 1px 2px rgba(0, 0, 0, 0.3));\n",
              "      fill: #FFFFFF;\n",
              "    }\n",
              "  </style>\n",
              "\n",
              "      <script>\n",
              "        const buttonEl =\n",
              "          document.querySelector('#df-0c3559c0-7f07-4393-8d4c-a077a43938f6 button.colab-df-convert');\n",
              "        buttonEl.style.display =\n",
              "          google.colab.kernel.accessAllowed ? 'block' : 'none';\n",
              "\n",
              "        async function convertToInteractive(key) {\n",
              "          const element = document.querySelector('#df-0c3559c0-7f07-4393-8d4c-a077a43938f6');\n",
              "          const dataTable =\n",
              "            await google.colab.kernel.invokeFunction('convertToInteractive',\n",
              "                                                     [key], {});\n",
              "          if (!dataTable) return;\n",
              "\n",
              "          const docLinkHtml = 'Like what you see? Visit the ' +\n",
              "            '<a target=\"_blank\" href=https://colab.research.google.com/notebooks/data_table.ipynb>data table notebook</a>'\n",
              "            + ' to learn more about interactive tables.';\n",
              "          element.innerHTML = '';\n",
              "          dataTable['output_type'] = 'display_data';\n",
              "          await google.colab.output.renderOutput(dataTable, element);\n",
              "          const docLink = document.createElement('div');\n",
              "          docLink.innerHTML = docLinkHtml;\n",
              "          element.appendChild(docLink);\n",
              "        }\n",
              "      </script>\n",
              "    </div>\n",
              "  </div>\n",
              "  "
            ]
          },
          "metadata": {},
          "execution_count": 7
        }
      ],
      "source": [
        "path = './data/stack-overflow-developer-survey-2021/survey_results_public.csv'\n",
        "if IN_COLAB:\n",
        "  path = './drive/MyDrive/swe-salary-predictor/survey_results_public.csv'\n",
        "\n",
        "dl = DataLoader(path=path)\n",
        "df = dl.df\n",
        "df.head()"
      ]
    },
    {
      "cell_type": "markdown",
      "source": [
        "No missing values"
      ],
      "metadata": {
        "id": "Z311gPF632hx"
      }
    },
    {
      "cell_type": "code",
      "execution_count": null,
      "metadata": {
        "id": "_fvpVzcy7-lz",
        "colab": {
          "base_uri": "https://localhost:8080/"
        },
        "outputId": "32e9f321-ed2b-4d15-c07a-93179b72430a"
      },
      "outputs": [
        {
          "output_type": "execute_result",
          "data": {
            "text/plain": [
              "ConvertedCompYearly       0\n",
              "EdLevel                   0\n",
              "Age1stCode                0\n",
              "YearsCode                 0\n",
              "YearsCodePro              0\n",
              "Country                   0\n",
              "DevType                   0\n",
              "LanguageHaveWorkedWith    0\n",
              "Age                       0\n",
              "dtype: int64"
            ]
          },
          "metadata": {},
          "execution_count": 8
        }
      ],
      "source": [
        "df.isna().sum()"
      ]
    },
    {
      "cell_type": "markdown",
      "source": [
        "Test out one hot encoding. Get first USA row and see that it's encoded correctly."
      ],
      "metadata": {
        "id": "Gcd9m0L837v9"
      }
    },
    {
      "cell_type": "code",
      "source": [
        "row = df.loc[df['Country'] == \"United States of America\"].iloc[0]\n",
        "country_us = row[\"Country\"]\n",
        "country_us_encoded = dl.encodings[\"Country\"].transform(pd.DataFrame(data={\"Country\": [country_us]}))\n",
        "country_us_encoded"
      ],
      "metadata": {
        "colab": {
          "base_uri": "https://localhost:8080/"
        },
        "id": "mmCzTK5mfh_x",
        "outputId": "2f4c0f84-2c9f-4c42-9f6e-a231cc724f34"
      },
      "execution_count": null,
      "outputs": [
        {
          "output_type": "execute_result",
          "data": {
            "text/plain": [
              "array([[0., 0., 0., 0., 0., 0., 0., 0., 0., 0., 0., 0., 0., 0., 0., 0.,\n",
              "        0., 0., 0., 0., 0., 0., 0., 0., 0., 0., 0., 0., 0., 0., 0., 0.,\n",
              "        0., 0., 0., 0., 0., 0., 0., 0., 0., 0., 0., 0., 0., 0., 0., 0.,\n",
              "        0., 0., 0., 0., 0., 0., 0., 0., 0., 0., 0., 0., 0., 0., 0., 0.,\n",
              "        0., 0., 0., 0., 0., 0., 0., 0., 0., 0., 0., 0., 0., 0., 0., 0.,\n",
              "        0., 0., 0., 0., 0., 0., 0., 0., 0., 0., 0., 0., 0., 0., 0., 0.,\n",
              "        0., 0., 0., 0., 0., 0., 0., 0., 0., 0., 0., 0., 0., 0., 0., 0.,\n",
              "        0., 0., 0., 0., 0., 0., 0., 0., 0., 0., 0., 0., 0., 0., 0., 0.,\n",
              "        0., 0., 0., 0., 0., 0., 0., 0., 0., 0., 0., 0., 0., 0., 0., 0.,\n",
              "        0., 0., 0., 0., 0., 0., 0., 0., 0., 0., 0., 0., 0., 0., 1., 0.,\n",
              "        0., 0., 0., 0., 0., 0.]])"
            ]
          },
          "metadata": {},
          "execution_count": 9
        }
      ]
    },
    {
      "cell_type": "markdown",
      "source": [
        "# General Approach\n",
        "To begin building the model, I will start with a simple baseline using a pretrained linear regression model on a subset of features. Then I will use a similar subset of features using a simple neural network. Finally, I will use the full subset of features and hyperparameter tuning to generate the final deep neural network.  "
      ],
      "metadata": {
        "id": "x4G_YeSI15qZ"
      }
    },
    {
      "cell_type": "markdown",
      "source": [
        "# Common Sense Baseline"
      ],
      "metadata": {
        "id": "mO5a6QxGACxt"
      }
    },
    {
      "cell_type": "markdown",
      "source": [
        "We can get a baseline by using linear regression on a set of basic features. Here is a pretrained scikit learn linear regression model trained on `YearsCode`, `YearsCodePro`, `Age1stCode`, and `Age`.\n",
        "\n",
        "In this case `neg_mean_absolute_error` is used as there is no `mean_absolute_error` option in sklearn's `cross_val_score` function."
      ],
      "metadata": {
        "id": "ojSaBGR94Trn"
      }
    },
    {
      "cell_type": "code",
      "source": [
        "# test linear regression on basic features\n",
        "X = df[['YearsCode', 'YearsCodePro', 'Age1stCode', 'Age']]\n",
        "y = df['ConvertedCompYearly']\n",
        "linreg = LinearRegression()\n",
        "print(cross_val_score(linreg, X, y, cv=5, scoring=\"neg_mean_absolute_error\"))"
      ],
      "metadata": {
        "colab": {
          "base_uri": "https://localhost:8080/"
        },
        "id": "Uhfu2Tnvgds2",
        "outputId": "74dad56b-8566-4e9c-c5f7-8771708575b0"
      },
      "execution_count": null,
      "outputs": [
        {
          "output_type": "stream",
          "name": "stdout",
          "text": [
            "[-37379.26620951 -37701.65807953 -35740.49314329 -38083.74939931\n",
            " -35831.83772192]\n"
          ]
        }
      ]
    },
    {
      "cell_type": "markdown",
      "source": [
        "This shows a result of about 37,000. This is above our target of 10% of the maximum possible salary of 300,000. Adding more features should improve this.\n",
        "\n",
        "Here is another baseline using a one-hot encoded Country feature and the same pre-trained linear regression model from scikit learn."
      ],
      "metadata": {
        "id": "SQfyf0S54bPl"
      }
    },
    {
      "cell_type": "code",
      "source": [
        "# make transformer for one hot encoding and use in pipeline.\n",
        "# this doesn't actually use DataLoader.encoding['Country'] - maybe that's not needed?\n",
        "column_trans = make_column_transformer(\n",
        "    (OneHotEncoder(), [\"Country\"]),\n",
        "    remainder=\"passthrough\")\n",
        "X = df[['YearsCode', 'YearsCodePro', 'Age1stCode', 'Age', 'Country']]\n",
        "column_trans.fit_transform(X)\n",
        "pipe = make_pipeline(column_trans, linreg)\n",
        "cross_val_score(pipe, X, y, cv=5, scoring=\"neg_mean_absolute_error\")"
      ],
      "metadata": {
        "colab": {
          "base_uri": "https://localhost:8080/"
        },
        "id": "EvrtuELahpIw",
        "outputId": "f9bbb3d3-ed0b-430f-fce3-529d4032c3ac"
      },
      "execution_count": null,
      "outputs": [
        {
          "output_type": "execute_result",
          "data": {
            "text/plain": [
              "array([-25437.00572647, -24502.05810981, -22829.50701008, -25764.91851531,\n",
              "       -24257.59982976])"
            ]
          },
          "metadata": {},
          "execution_count": 11
        }
      ]
    },
    {
      "cell_type": "markdown",
      "source": [
        "This gives us a better score of about 25,000, which is just below our 10% of $300,000 target but we can likely do even better by building our own neural network and using the rest of the features. "
      ],
      "metadata": {
        "id": "8zX5zEeH5qSs"
      }
    },
    {
      "cell_type": "markdown",
      "source": [
        "Before generating a baseline from building a simple keras model we need to divide our dataset into training and test sets."
      ],
      "metadata": {
        "id": "9KrGv1e52hCj"
      }
    },
    {
      "cell_type": "code",
      "execution_count": null,
      "metadata": {
        "id": "3eHzwT2I7-l7",
        "colab": {
          "base_uri": "https://localhost:8080/"
        },
        "outputId": "2e067892-bafa-4dd3-edce-3bc874e474ac"
      },
      "outputs": [
        {
          "output_type": "stream",
          "name": "stdout",
          "text": [
            "_start_pipeline:\n",
            "  runtime=0:00:00.015843, end shape=(83439, 48)\n",
            "_select:\n",
            "  runtime=0:00:00.052201, end shape=(40627, 9)\n",
            "_clean:\n",
            "  runtime=0:00:00.175226, end shape=(40627, 9)\n",
            "_remove_outliers:\n",
            "  runtime=0:00:00.011358, end shape=(31610, 9)\n",
            "_handle_missing:\n",
            "  runtime=0:00:00.004825, end shape=(31610, 9)\n",
            "    ConvertedCompYearly  Age1stCode  YearsCode  YearsCodePro   Age\n",
            "9              51552.00       14.00       7.00          4.00 29.50\n",
            "11             46482.00       14.00      12.00          5.00 29.50\n",
            "12             77290.00       14.00      15.00          6.00 29.50\n",
            "16             17748.00        7.50       6.00          2.00 29.50\n",
            "17             46135.00       14.00       9.00          6.00 29.50\n",
            "[[16.05023  15.330842  9.626164 33.570713]]\n",
            "First example: [[21.  10.   5.  29.5]]\n",
            "\n",
            "First example Normalized: [[ 0.72 -0.57 -0.59 -0.46]]\n"
          ]
        }
      ],
      "source": [
        "# Alternative Linear Regression baseline\n",
        "dl = DataLoader(path=path)\n",
        "df = dl.df.drop(['EdLevel', 'Country', 'DevType','LanguageHaveWorkedWith'], axis=1)\n",
        "print(df.head())\n",
        "\n",
        "train_dataset = df.sample(frac=0.8, random_state=0)\n",
        "test_dataset = df.drop(train_dataset.index)\n",
        "train_features = train_dataset.copy()\n",
        "test_features = test_dataset.copy()\n",
        "train_labels = train_features.pop('ConvertedCompYearly')\n",
        "test_labels = test_features.pop('ConvertedCompYearly')\n",
        "train_dataset.describe().transpose()[['mean', 'std']]\n",
        "\n",
        "normalizer = tf.keras.layers.Normalization(axis=-1)\n",
        "normalizer.adapt(np.array(train_features))\n",
        "print(normalizer.mean.numpy())\n",
        "\n",
        "\n",
        "first = np.array(train_features[:1])\n",
        "\n",
        "with np.printoptions(precision=2, suppress=True):\n",
        "  print('First example:', first)\n",
        "  print()\n",
        "  print('First example Normalized:', normalizer(first).numpy())"
      ]
    },
    {
      "cell_type": "markdown",
      "source": [
        "Linear regression, excluding features that still need encoding.\n",
        "\n"
      ],
      "metadata": {
        "id": "hs-DSlYkiCWl"
      }
    },
    {
      "cell_type": "code",
      "source": [
        "lr_model = keras.Sequential([\n",
        "    normalizer,\n",
        "    keras.layers.Dense(1)\n",
        "])\n",
        "lr_model.summary()"
      ],
      "metadata": {
        "id": "mpour02AfLA2",
        "colab": {
          "base_uri": "https://localhost:8080/"
        },
        "outputId": "fedddd89-a0e1-48ed-8815-0f561e7d0a8b"
      },
      "execution_count": null,
      "outputs": [
        {
          "output_type": "stream",
          "name": "stdout",
          "text": [
            "Model: \"sequential\"\n",
            "_________________________________________________________________\n",
            " Layer (type)                Output Shape              Param #   \n",
            "=================================================================\n",
            " normalization (Normalizatio  (None, 4)                9         \n",
            " n)                                                              \n",
            "                                                                 \n",
            " dense (Dense)               (None, 1)                 5         \n",
            "                                                                 \n",
            "=================================================================\n",
            "Total params: 14\n",
            "Trainable params: 5\n",
            "Non-trainable params: 9\n",
            "_________________________________________________________________\n"
          ]
        }
      ]
    },
    {
      "cell_type": "markdown",
      "source": [
        "# Choosing the Right Loss Function\n",
        "\n",
        "Why `mean_absolute_error`? \n",
        "- We don't care if the eror is positive or negative (hence, absolute)\n",
        "- Mean Squared Error is often recommended for regression because it punishes large errors more. However, we have already removed outliers from the data (salaries less than 15,000 and more than 300,000) and I am relating it to the maximum salary, so I don't want to punish large errors more."
      ],
      "metadata": {
        "id": "-jWRFM4TPcOi"
      }
    },
    {
      "cell_type": "code",
      "source": [
        "lr_model.compile(\n",
        "    optimizer=tf.optimizers.Adam(learning_rate=0.001),\n",
        "    loss='mean_absolute_error'\n",
        ")"
      ],
      "metadata": {
        "id": "nvs5tByNfRwA"
      },
      "execution_count": null,
      "outputs": []
    },
    {
      "cell_type": "code",
      "source": [
        "%%time\n",
        "lr_history = lr_model.fit(\n",
        "    train_features,\n",
        "    train_labels,\n",
        "    validation_split = 0.2,\n",
        "    epochs=50,\n",
        "    verbose=0)\n",
        "\n",
        "MODELS = {\n",
        "    \"lr\": lr_model.evaluate(test_features, test_labels, verbose=0)\n",
        "}\n",
        "\n",
        "print(MODELS[\"lr\"])"
      ],
      "metadata": {
        "id": "-6DU0JXrfVyk",
        "colab": {
          "base_uri": "https://localhost:8080/"
        },
        "outputId": "0a45f393-5c7e-4a7d-ae57-10797a2f98d5"
      },
      "execution_count": null,
      "outputs": [
        {
          "output_type": "stream",
          "name": "stdout",
          "text": [
            "78428.875\n",
            "CPU times: user 1min 33s, sys: 15.4 s, total: 1min 49s\n",
            "Wall time: 1min 6s\n"
          ]
        }
      ]
    },
    {
      "cell_type": "code",
      "source": [
        "def plot_loss(history):\n",
        "  plt.plot(history.history['loss'])\n",
        "  plt.plot(history.history['val_loss'])\n",
        "  plt.title('model loss')\n",
        "  plt.ylabel('loss')\n",
        "  plt.xlabel('epoch')\n",
        "  plt.legend(['train', 'test'], loc='upper left')\n",
        "  plt.show()"
      ],
      "metadata": {
        "id": "icY63p1liX_3"
      },
      "execution_count": null,
      "outputs": []
    },
    {
      "cell_type": "code",
      "source": [
        "plot_loss(lr_history)"
      ],
      "metadata": {
        "id": "mVRtPJUWU69w",
        "colab": {
          "base_uri": "https://localhost:8080/",
          "height": 301
        },
        "outputId": "adb5b57b-2839-4282-8a8a-e80dca750185"
      },
      "execution_count": null,
      "outputs": [
        {
          "output_type": "display_data",
          "data": {
            "text/plain": [
              "<Figure size 432x288 with 1 Axes>"
            ],
            "image/png": "[encoded data removed]"
          },
          "metadata": {}
        }
      ]
    },
    {
      "cell_type": "markdown",
      "source": [
        "This shows us what we need to see - the model is working bceause the train and test loss are decreasing. If we wanted to limit ourselves to this model we would need to train for more epochs until the train and test converge.\n",
        "\n",
        "We can add a few more layers and train again."
      ],
      "metadata": {
        "id": "2e3sZhG24Gdk"
      }
    },
    {
      "cell_type": "code",
      "execution_count": null,
      "metadata": {
        "id": "50ewjeIn7-l8",
        "colab": {
          "base_uri": "https://localhost:8080/"
        },
        "outputId": "232b234a-b7aa-408c-82cf-320f43989222"
      },
      "outputs": [
        {
          "output_type": "stream",
          "name": "stdout",
          "text": [
            "Model: \"sequential_1\"\n",
            "_________________________________________________________________\n",
            " Layer (type)                Output Shape              Param #   \n",
            "=================================================================\n",
            " normalization (Normalizatio  (None, 4)                9         \n",
            " n)                                                              \n",
            "                                                                 \n",
            " dense_1 (Dense)             (None, 64)                320       \n",
            "                                                                 \n",
            " dense_2 (Dense)             (None, 64)                4160      \n",
            "                                                                 \n",
            " dense_3 (Dense)             (None, 1)                 65        \n",
            "                                                                 \n",
            "=================================================================\n",
            "Total params: 4,554\n",
            "Trainable params: 4,545\n",
            "Non-trainable params: 9\n",
            "_________________________________________________________________\n",
            "None\n"
          ]
        }
      ],
      "source": [
        "def build_model():\n",
        "  model = keras.Sequential([\n",
        "      normalizer,\n",
        "      keras.layers.Dense(64, activation='relu'),\n",
        "      keras.layers.Dense(64, activation='relu'),\n",
        "      keras.layers.Dense(1)\n",
        "  ])\n",
        "\n",
        "  model.compile(optimizer=tf.keras.optimizers.Adam(0.001),\n",
        "                loss='mean_absolute_error')\n",
        "  return model\n",
        "\n",
        "dnn1_model = build_model()\n",
        "print(dnn1_model.summary())"
      ]
    },
    {
      "cell_type": "code",
      "execution_count": null,
      "metadata": {
        "id": "tohl9q-r7-l-",
        "colab": {
          "base_uri": "https://localhost:8080/"
        },
        "outputId": "bf3893d7-a7a6-46e1-ab59-4453d63c262a"
      },
      "outputs": [
        {
          "output_type": "stream",
          "name": "stdout",
          "text": [
            "Epoch 1/50\n",
            "633/633 [==============================] - 2s 3ms/step - loss: 77349.9453 - val_loss: 71425.2500\n",
            "Epoch 2/50\n",
            "633/633 [==============================] - 2s 3ms/step - loss: 57773.3164 - val_loss: 45354.4492\n",
            "Epoch 3/50\n",
            "633/633 [==============================] - 2s 3ms/step - loss: 42005.5273 - val_loss: 40369.4922\n",
            "Epoch 4/50\n",
            "633/633 [==============================] - 2s 3ms/step - loss: 39135.5430 - val_loss: 38548.5547\n",
            "Epoch 5/50\n",
            "633/633 [==============================] - 2s 2ms/step - loss: 37528.3633 - val_loss: 37293.2891\n",
            "Epoch 6/50\n",
            "633/633 [==============================] - 2s 3ms/step - loss: 36521.1016 - val_loss: 36538.2344\n",
            "Epoch 7/50\n",
            "633/633 [==============================] - 2s 3ms/step - loss: 35990.8672 - val_loss: 36127.7227\n",
            "Epoch 8/50\n",
            "633/633 [==============================] - 2s 3ms/step - loss: 35731.6055 - val_loss: 35919.6641\n",
            "Epoch 9/50\n",
            "633/633 [==============================] - 2s 3ms/step - loss: 35614.5000 - val_loss: 35817.3594\n",
            "Epoch 10/50\n",
            "633/633 [==============================] - 2s 2ms/step - loss: 35555.7930 - val_loss: 35759.3672\n",
            "Epoch 11/50\n",
            "633/633 [==============================] - 2s 3ms/step - loss: 35521.5664 - val_loss: 35703.2031\n",
            "Epoch 12/50\n",
            "633/633 [==============================] - 2s 3ms/step - loss: 35506.1055 - val_loss: 35686.0273\n",
            "Epoch 13/50\n",
            "633/633 [==============================] - 2s 2ms/step - loss: 35495.4609 - val_loss: 35670.7734\n",
            "Epoch 14/50\n",
            "633/633 [==============================] - 2s 3ms/step - loss: 35483.2188 - val_loss: 35678.9648\n",
            "Epoch 15/50\n",
            "633/633 [==============================] - 2s 2ms/step - loss: 35480.9102 - val_loss: 35649.1211\n",
            "Epoch 16/50\n",
            "633/633 [==============================] - 2s 3ms/step - loss: 35475.5117 - val_loss: 35650.0820\n",
            "Epoch 17/50\n",
            "633/633 [==============================] - 2s 3ms/step - loss: 35470.2070 - val_loss: 35631.7070\n",
            "Epoch 18/50\n",
            "633/633 [==============================] - 2s 2ms/step - loss: 35467.2383 - val_loss: 35623.8984\n",
            "Epoch 19/50\n",
            "633/633 [==============================] - 2s 2ms/step - loss: 35466.4961 - val_loss: 35618.2305\n",
            "Epoch 20/50\n",
            "633/633 [==============================] - 2s 2ms/step - loss: 35462.5117 - val_loss: 35620.4883\n",
            "Epoch 21/50\n",
            "633/633 [==============================] - 2s 2ms/step - loss: 35460.7891 - val_loss: 35616.5625\n",
            "Epoch 22/50\n",
            "633/633 [==============================] - 2s 3ms/step - loss: 35458.8633 - val_loss: 35616.2461\n",
            "Epoch 23/50\n",
            "633/633 [==============================] - 2s 3ms/step - loss: 35458.6250 - val_loss: 35605.0312\n",
            "Epoch 24/50\n",
            "633/633 [==============================] - 2s 2ms/step - loss: 35456.6016 - val_loss: 35613.9297\n",
            "Epoch 25/50\n",
            "633/633 [==============================] - 2s 3ms/step - loss: 35456.8984 - val_loss: 35602.4102\n",
            "Epoch 26/50\n",
            "633/633 [==============================] - 2s 3ms/step - loss: 35449.7148 - val_loss: 35594.0234\n",
            "Epoch 27/50\n",
            "633/633 [==============================] - 2s 3ms/step - loss: 35452.2305 - val_loss: 35596.6328\n",
            "Epoch 28/50\n",
            "633/633 [==============================] - 2s 3ms/step - loss: 35452.1641 - val_loss: 35604.1172\n",
            "Epoch 29/50\n",
            "633/633 [==============================] - 2s 2ms/step - loss: 35449.6641 - val_loss: 35594.7344\n",
            "Epoch 30/50\n",
            "633/633 [==============================] - 2s 2ms/step - loss: 35450.4414 - val_loss: 35589.5898\n",
            "Epoch 31/50\n",
            "633/633 [==============================] - 2s 2ms/step - loss: 35447.3320 - val_loss: 35597.2383\n",
            "Epoch 32/50\n",
            "633/633 [==============================] - 2s 2ms/step - loss: 35448.1211 - val_loss: 35595.8164\n",
            "Epoch 33/50\n",
            "633/633 [==============================] - 2s 2ms/step - loss: 35446.6211 - val_loss: 35615.1914\n",
            "Epoch 34/50\n",
            "633/633 [==============================] - 2s 2ms/step - loss: 35447.0234 - val_loss: 35590.3047\n",
            "Epoch 35/50\n",
            "633/633 [==============================] - 2s 3ms/step - loss: 35444.1250 - val_loss: 35597.3828\n",
            "Epoch 36/50\n",
            "633/633 [==============================] - 2s 2ms/step - loss: 35443.0586 - val_loss: 35585.5664\n",
            "Epoch 37/50\n",
            "633/633 [==============================] - 2s 3ms/step - loss: 35443.4023 - val_loss: 35582.2422\n",
            "Epoch 38/50\n",
            "633/633 [==============================] - 2s 3ms/step - loss: 35439.2266 - val_loss: 35589.9570\n",
            "Epoch 39/50\n",
            "633/633 [==============================] - 2s 2ms/step - loss: 35443.1797 - val_loss: 35589.4648\n",
            "Epoch 40/50\n",
            "633/633 [==============================] - 2s 2ms/step - loss: 35441.6484 - val_loss: 35595.5742\n",
            "Epoch 41/50\n",
            "633/633 [==============================] - 2s 3ms/step - loss: 35442.8789 - val_loss: 35586.7188\n",
            "Epoch 42/50\n",
            "633/633 [==============================] - 2s 3ms/step - loss: 35437.6328 - val_loss: 35583.9258\n",
            "Epoch 43/50\n",
            "633/633 [==============================] - 2s 2ms/step - loss: 35441.9219 - val_loss: 35592.9414\n",
            "Epoch 44/50\n",
            "633/633 [==============================] - 2s 2ms/step - loss: 35437.9844 - val_loss: 35578.1875\n",
            "Epoch 45/50\n",
            "633/633 [==============================] - 2s 2ms/step - loss: 35441.8320 - val_loss: 35591.2383\n",
            "Epoch 46/50\n",
            "633/633 [==============================] - 2s 2ms/step - loss: 35441.5234 - val_loss: 35586.4375\n",
            "Epoch 47/50\n",
            "633/633 [==============================] - 2s 2ms/step - loss: 35437.4961 - val_loss: 35589.2383\n",
            "Epoch 48/50\n",
            "633/633 [==============================] - 2s 2ms/step - loss: 35432.1641 - val_loss: 35576.8828\n",
            "Epoch 49/50\n",
            "633/633 [==============================] - 2s 2ms/step - loss: 35438.8516 - val_loss: 35577.8594\n",
            "Epoch 50/50\n",
            "633/633 [==============================] - 2s 2ms/step - loss: 35440.9414 - val_loss: 35585.0938\n",
            "35031.78125\n",
            "CPU times: user 1min 54s, sys: 17.3 s, total: 2min 11s\n",
            "Wall time: 1min 21s\n"
          ]
        }
      ],
      "source": [
        "  %%time\n",
        "  history1 = dnn1_model.fit(\n",
        "      train_features,\n",
        "      train_labels,\n",
        "      validation_split=0.2, \n",
        "      epochs=50)\n",
        "  \n",
        "  MODELS['dnn1'] = dnn1_model.evaluate(test_features, test_labels, verbose=0)\n",
        "\n",
        "  print(MODELS['dnn1'])"
      ]
    },
    {
      "cell_type": "markdown",
      "source": [
        "# Validating our approach"
      ],
      "metadata": {
        "id": "WrRB9nmCAOnZ"
      }
    },
    {
      "cell_type": "markdown",
      "source": [
        "The extra layers resulted in a much lower mean absolute error. We can see how this changed in our training over the epochs."
      ],
      "metadata": {
        "id": "TvJVnHFeQBUe"
      }
    },
    {
      "cell_type": "code",
      "source": [
        "plot_loss(history1)"
      ],
      "metadata": {
        "id": "hmXWVA5f5c-1",
        "colab": {
          "base_uri": "https://localhost:8080/",
          "height": 301
        },
        "outputId": "0ff52e65-c85e-4df2-d19a-d25aa42336ee"
      },
      "execution_count": null,
      "outputs": [
        {
          "output_type": "display_data",
          "data": {
            "text/plain": [
              "<Figure size 432x288 with 1 Axes>"
            ],
            "image/png": "[encoded data removed]"
          },
          "metadata": {}
        }
      ]
    },
    {
      "cell_type": "markdown",
      "source": [
        "We can take our testing using these subset of features a step further. We can redefine the `build_model` function. It now takes a `hp` parameter which will be used to make hyper parameters for the number of units in a layer (ranging from 32 to 256 with a step of 32) and the number of layers to add."
      ],
      "metadata": {
        "id": "PYcW0bQZ5_NI"
      }
    },
    {
      "cell_type": "code",
      "source": [
        "def build_model(hp):\n",
        "  model = keras.Sequential() # might need to be keras.models.Sequential() ??\n",
        "\n",
        "  model.add(normalizer)\n",
        "  model.add(keras.layers.Dense(hp.Int(\"units\", min_value=32, max_value=256, step=32), activation='relu'))\n",
        "\n",
        "  for i in range(hp.Int(\"n_layers\", min_value=1, max_value=4)):\n",
        "    model.add(keras.layers.Dense(hp.Int(f\"units-{i}\", min_value=32, max_value=256, step=32), activation='relu'))\n",
        "\n",
        "  model.add(keras.layers.Dense(1))\n",
        "\n",
        "  model.compile(optimizer=tf.keras.optimizers.Adam(0.001),\n",
        "      # loss='mean_squared_error'\n",
        "      loss='mean_absolute_error')\n",
        "  return model"
      ],
      "metadata": {
        "id": "8VYU-17v58sj"
      },
      "execution_count": null,
      "outputs": []
    },
    {
      "cell_type": "code",
      "source": [
        "tuner = kt.RandomSearch(\n",
        "    build_model,\n",
        "    objective = \"val_loss\",\n",
        "    max_trials = 3,\n",
        "    executions_per_trial = 1,\n",
        "    # directory = f'${int(time.time())}'\n",
        ")"
      ],
      "metadata": {
        "id": "R8xvJuSb0UyS"
      },
      "execution_count": null,
      "outputs": []
    },
    {
      "cell_type": "code",
      "source": [
        "tuner.search(x=train_features,\n",
        "             y=train_labels,\n",
        "             epochs=10,\n",
        "             batch_size=64,\n",
        "             validation_data=(test_features, test_labels))"
      ],
      "metadata": {
        "id": "6l1soqRkpsi3",
        "colab": {
          "base_uri": "https://localhost:8080/"
        },
        "outputId": "30b6c96e-4971-4f2c-c07d-1a1cfaa8ddd7"
      },
      "execution_count": null,
      "outputs": [
        {
          "output_type": "stream",
          "name": "stdout",
          "text": [
            "Trial 3 Complete [00h 00m 13s]\n",
            "val_loss: 34816.77734375\n",
            "\n",
            "Best val_loss So Far: 34816.77734375\n",
            "Total elapsed time: 00h 00m 47s\n"
          ]
        }
      ]
    },
    {
      "cell_type": "code",
      "source": [
        "print(tuner.get_best_hyperparameters()[0].values)"
      ],
      "metadata": {
        "id": "qMM6YmogBPhh",
        "colab": {
          "base_uri": "https://localhost:8080/"
        },
        "outputId": "34d78e8c-4bae-484f-b89d-24705b57041a"
      },
      "execution_count": null,
      "outputs": [
        {
          "output_type": "stream",
          "name": "stdout",
          "text": [
            "{'units': 224, 'n_layers': 4, 'units-0': 160, 'units-1': 160, 'units-2': 96, 'units-3': 32}\n"
          ]
        }
      ]
    },
    {
      "cell_type": "code",
      "source": [
        "print(tuner.results_summary())"
      ],
      "metadata": {
        "id": "S3c7UyIJBW-s",
        "colab": {
          "base_uri": "https://localhost:8080/"
        },
        "outputId": "73265a24-9db3-45e8-a553-b7e812a056d8"
      },
      "execution_count": null,
      "outputs": [
        {
          "output_type": "stream",
          "name": "stdout",
          "text": [
            "Results summary\n",
            "Results in ./untitled_project\n",
            "Showing 10 best trials\n",
            "<keras_tuner.engine.objective.Objective object at 0x7f01731f0f50>\n",
            "Trial summary\n",
            "Hyperparameters:\n",
            "units: 224\n",
            "n_layers: 4\n",
            "units-0: 160\n",
            "units-1: 160\n",
            "units-2: 96\n",
            "units-3: 32\n",
            "Score: 34816.77734375\n",
            "Trial summary\n",
            "Hyperparameters:\n",
            "units: 224\n",
            "n_layers: 3\n",
            "units-0: 160\n",
            "units-1: 32\n",
            "units-2: 32\n",
            "Score: 34991.8046875\n",
            "Trial summary\n",
            "Hyperparameters:\n",
            "units: 96\n",
            "n_layers: 2\n",
            "units-0: 160\n",
            "units-1: 64\n",
            "units-2: 192\n",
            "Score: 35023.1328125\n",
            "None\n"
          ]
        }
      ]
    },
    {
      "cell_type": "markdown",
      "source": [
        "Now we can get the best model from our tuner using the `get_best_model` method."
      ],
      "metadata": {
        "id": "UXQPOue8dqfk"
      }
    },
    {
      "cell_type": "code",
      "source": [
        "best_model = tuner.get_best_models()[0]\n",
        "print(best_model.summary())"
      ],
      "metadata": {
        "id": "VOUQwIlcdHoz",
        "colab": {
          "base_uri": "https://localhost:8080/"
        },
        "outputId": "54ac3f98-70c2-4b70-93fa-4ec7897e6ea9"
      },
      "execution_count": null,
      "outputs": [
        {
          "output_type": "stream",
          "name": "stdout",
          "text": [
            "Model: \"sequential\"\n",
            "_________________________________________________________________\n",
            " Layer (type)                Output Shape              Param #   \n",
            "=================================================================\n",
            " normalization (Normalizatio  (None, 4)                9         \n",
            " n)                                                              \n",
            "                                                                 \n",
            " dense (Dense)               (None, 224)               1120      \n",
            "                                                                 \n",
            " dense_1 (Dense)             (None, 160)               36000     \n",
            "                                                                 \n",
            " dense_2 (Dense)             (None, 160)               25760     \n",
            "                                                                 \n",
            " dense_3 (Dense)             (None, 96)                15456     \n",
            "                                                                 \n",
            " dense_4 (Dense)             (None, 32)                3104      \n",
            "                                                                 \n",
            " dense_5 (Dense)             (None, 1)                 33        \n",
            "                                                                 \n",
            "=================================================================\n",
            "Total params: 81,482\n",
            "Trainable params: 81,473\n",
            "Non-trainable params: 9\n",
            "_________________________________________________________________\n",
            "None\n"
          ]
        }
      ]
    },
    {
      "cell_type": "markdown",
      "source": [
        "Now we can fit our data to the `best_model` and compare with the results from our preliminary model (before hyperparameter tuning)."
      ],
      "metadata": {
        "id": "5ciSzNmLwr4W"
      }
    },
    {
      "cell_type": "code",
      "source": [
        "  %%time\n",
        "  history_best = best_model.fit(\n",
        "      train_features,\n",
        "      train_labels,\n",
        "      validation_split=0.2, \n",
        "      epochs=25)\n",
        "  \n",
        "  MODELS['best'] = best_model.evaluate(test_features, test_labels, verbose=0)\n",
        "\n",
        "  print(MODELS['best'])"
      ],
      "metadata": {
        "id": "6vijsw1Swq-B",
        "colab": {
          "base_uri": "https://localhost:8080/"
        },
        "outputId": "a2171619-2447-427b-a13e-7d47054c41a5"
      },
      "execution_count": null,
      "outputs": [
        {
          "output_type": "stream",
          "name": "stdout",
          "text": [
            "Epoch 1/25\n",
            "633/633 [==============================] - 2s 3ms/step - loss: 35466.1406 - val_loss: 35502.5117\n",
            "Epoch 2/25\n",
            "633/633 [==============================] - 2s 3ms/step - loss: 35444.5156 - val_loss: 35384.3242\n",
            "Epoch 3/25\n",
            "633/633 [==============================] - 2s 3ms/step - loss: 35409.2383 - val_loss: 35439.7109\n",
            "Epoch 4/25\n",
            "633/633 [==============================] - 2s 3ms/step - loss: 35382.5703 - val_loss: 35404.0938\n",
            "Epoch 5/25\n",
            "633/633 [==============================] - 2s 3ms/step - loss: 35376.6641 - val_loss: 35506.5898\n",
            "Epoch 6/25\n",
            "633/633 [==============================] - 2s 3ms/step - loss: 35383.6484 - val_loss: 35540.6328\n",
            "Epoch 7/25\n",
            "633/633 [==============================] - 2s 3ms/step - loss: 35392.0469 - val_loss: 35454.3906\n",
            "Epoch 8/25\n",
            "633/633 [==============================] - 2s 3ms/step - loss: 35366.1367 - val_loss: 35476.8438\n",
            "Epoch 9/25\n",
            "633/633 [==============================] - 2s 3ms/step - loss: 35394.6211 - val_loss: 35405.1641\n",
            "Epoch 10/25\n",
            "633/633 [==============================] - 2s 3ms/step - loss: 35409.1758 - val_loss: 35384.2461\n",
            "Epoch 11/25\n",
            "633/633 [==============================] - 2s 3ms/step - loss: 35378.9609 - val_loss: 35453.4258\n",
            "Epoch 12/25\n",
            "633/633 [==============================] - 2s 3ms/step - loss: 35343.1523 - val_loss: 35481.6875\n",
            "Epoch 13/25\n",
            "633/633 [==============================] - 2s 3ms/step - loss: 35382.8047 - val_loss: 35425.1875\n",
            "Epoch 14/25\n",
            "633/633 [==============================] - 2s 3ms/step - loss: 35368.5117 - val_loss: 35589.7539\n",
            "Epoch 15/25\n",
            "633/633 [==============================] - 2s 3ms/step - loss: 35355.6719 - val_loss: 35398.9688\n",
            "Epoch 16/25\n",
            "633/633 [==============================] - 2s 3ms/step - loss: 35368.2227 - val_loss: 35531.0430\n",
            "Epoch 17/25\n",
            "633/633 [==============================] - 2s 3ms/step - loss: 35365.8164 - val_loss: 35419.2852\n",
            "Epoch 18/25\n",
            "633/633 [==============================] - 2s 3ms/step - loss: 35360.4062 - val_loss: 35539.3477\n",
            "Epoch 19/25\n",
            "633/633 [==============================] - 2s 3ms/step - loss: 35345.9531 - val_loss: 35812.9570\n",
            "Epoch 20/25\n",
            "633/633 [==============================] - 2s 3ms/step - loss: 35345.8750 - val_loss: 35579.8594\n",
            "Epoch 21/25\n",
            "633/633 [==============================] - 2s 3ms/step - loss: 35383.2578 - val_loss: 35558.3164\n",
            "Epoch 22/25\n",
            "633/633 [==============================] - 2s 3ms/step - loss: 35343.8477 - val_loss: 35436.2344\n",
            "Epoch 23/25\n",
            "633/633 [==============================] - 2s 3ms/step - loss: 35366.3984 - val_loss: 35419.7344\n",
            "Epoch 24/25\n",
            "633/633 [==============================] - 2s 3ms/step - loss: 35377.4258 - val_loss: 35581.6172\n",
            "Epoch 25/25\n",
            "633/633 [==============================] - 2s 3ms/step - loss: 35352.3242 - val_loss: 35441.0078\n",
            "34862.453125\n",
            "CPU times: user 1min 3s, sys: 8.93 s, total: 1min 12s\n",
            "Wall time: 45.5 s\n"
          ]
        }
      ]
    },
    {
      "cell_type": "code",
      "source": [
        "plot_loss(history_best)"
      ],
      "metadata": {
        "id": "iwNrU7-RyPeP",
        "colab": {
          "base_uri": "https://localhost:8080/",
          "height": 301
        },
        "outputId": "e71bfce0-e4ff-4023-ba1c-13e417e75b5a"
      },
      "execution_count": null,
      "outputs": [
        {
          "output_type": "display_data",
          "data": {
            "text/plain": [
              "<Figure size 432x288 with 1 Axes>"
            ],
            "image/png": "[encoded data removed]"
          },
          "metadata": {}
        }
      ]
    },
    {
      "cell_type": "markdown",
      "source": [
        "The score is pretty similar to our non hyper parameter tuned model. We should see more improvents from encoding the additional features."
      ],
      "metadata": {
        "id": "zj0IV8y75i6X"
      }
    },
    {
      "cell_type": "markdown",
      "source": [
        "# Predict\n",
        "\n",
        "We can simply make predictions by passing in integers for `YearsCode`,`YearsCodePro`, `Age`, and `Age1stCode`. This is in contrast to what we need to do after we encode the additional features (which I will elaborate on further below)."
      ],
      "metadata": {
        "id": "grsdD9asHzJl"
      }
    },
    {
      "cell_type": "code",
      "source": [
        "# should not need to be normalized for predicting.\n",
        "# country should be OHE, else  OHE should be in model layer\n",
        "pred_input = np.array([1, 1, 1, 1])\n",
        "pred = best_model.predict(pred_input)[:, 0]\n",
        "pred[0]"
      ],
      "metadata": {
        "id": "tFVRT_g42aGp",
        "colab": {
          "base_uri": "https://localhost:8080/"
        },
        "outputId": "e8006045-b98f-4f35-c93b-f21419e5c753"
      },
      "execution_count": null,
      "outputs": [
        {
          "output_type": "stream",
          "name": "stderr",
          "text": [
            "WARNING:tensorflow:Model was constructed with shape (None, None) for input KerasTensor(type_spec=TensorSpec(shape=(None, None), dtype=tf.float32, name='normalization_input'), name='normalization_input', description=\"created by layer 'normalization_input'\"), but it was called on an input with incompatible shape (None,).\n"
          ]
        },
        {
          "output_type": "execute_result",
          "data": {
            "text/plain": [
              "23319.648"
            ]
          },
          "metadata": {},
          "execution_count": 38
        }
      ]
    },
    {
      "cell_type": "markdown",
      "source": [
        "# Make model using encoded features\n",
        "\n",
        "These helper functions will be used to encode features of our dataset using one hot encoding, multilabel binarizer, or ordinal encoding. \n",
        "\n",
        "The ordinal encoding on `EdLevel` lets our model know that `Associates` is higher than `Less than Associates` for education level.\n",
        "\n",
        "The one hot encoding of `Country` turns each country into a new column of 0 or 1 (value of `1` signify it is that country, with the others as `0`). We use one hot encoding because countries are equal alteranatives - they are not ordered like `EdLevel`.\n",
        "\n",
        "The multilabel binarizer is applied to the categories which have string lists delimited by colons (`LanguagesHaveWorkedWith` and `DevType`). This creates a new column for all possible languages and developer types. A record with a list of like `\"C++;Python;Assembly\"` for `LanguagesHaveWorkedWith` will have a value of `1` for the `C++`, `Python`, and `Assembly` column and `0`'s for the rest.\n"
      ],
      "metadata": {
        "id": "Y-Ga_jVlILR9"
      }
    },
    {
      "cell_type": "code",
      "source": [
        "def transform_df_ohe_country(df):\n",
        "  # returns df with countries as columns of 0 or 1\n",
        "\n",
        "  # encode\n",
        "  ohe = OneHotEncoder(categories = \"auto\")\n",
        "  feature_arr = ohe.fit_transform(df[['Country']]).toarray()\n",
        "  # merge encoded into df\n",
        "  df = merge_ohe(df, ohe, feature_arr)\n",
        "  # drop country\n",
        "  df = df.drop(['Country'], axis=1)\n",
        "  \n",
        "  return df, ohe\n",
        "\n",
        "def merge_ohe(df, ohe, feature_arr):\n",
        "  feature_labels = np.array(ohe.categories_).ravel()\n",
        "  df_features = pd.DataFrame(feature_arr, columns=feature_labels)\n",
        "  df.reset_index(drop=True, inplace=True)\n",
        "  df_features.reset_index(drop=True, inplace=True)\n",
        "  df = pd.concat([df, df_features], axis=1)\n",
        "  return df\n",
        "\n",
        "def transform_df_mlb_delimited_string(df, column):\n",
        "  # change delimited string to list\n",
        "  df[column] = df[column].apply(lambda x: x.split(';'))\n",
        "\n",
        "  mlb = MultiLabelBinarizer()\n",
        "  encoded = mlb.fit_transform(df.pop(column))\n",
        "\n",
        "  df = merge_mlb(df, mlb, encoded)\n",
        "  \n",
        "  return df, mlb\n",
        "  \n",
        "def merge_mlb(df, mlb, encoded):\n",
        "  return df.join(pd.DataFrame(encoded, columns=mlb.classes_, index=df.index))  \n",
        "\n",
        "def transform_df_oe(df):\n",
        "  oe = OrdinalEncoder(categories=[['Less than Associates', 'Associates', \n",
        "                                   'Bachelors', 'Masters', 'Doctorate']])\n",
        "  df['EdLevel'] = oe.fit_transform(df['EdLevel'].values.reshape(-1,1))\n",
        "  return df, oe\n",
        "\n"
      ],
      "metadata": {
        "id": "MaNo90Rdk7QU"
      },
      "execution_count": null,
      "outputs": []
    },
    {
      "cell_type": "markdown",
      "source": [
        "Now we can encode the `Country`, `DevType`, and `LanguagesHaveWorkedWith` and split up our dataset into train and test sets.\n",
        "\n",
        "Note the representation of `Country` and `LanguagesHaveWorkedWith` as independant columns (`Argentina`, `Australia`, etc. and `PowerShell`, `Python`, etc.) with binary values and `EdLevel` as range of integers."
      ],
      "metadata": {
        "id": "XHC_XLexf8tL"
      }
    },
    {
      "cell_type": "code",
      "source": [
        "import pickle\n",
        "\n",
        "df = dl.df\n",
        "df, country_ohe = transform_df_ohe_country(df)\n",
        "df, dev_type_mlb = transform_df_mlb_delimited_string(df, 'DevType')\n",
        "df, languages_mlb = transform_df_mlb_delimited_string(df, 'LanguageHaveWorkedWith')\n",
        "df, ed_level_oe = transform_df_oe(df)\n",
        "\n",
        "encodings = {\n",
        "  \"country_ohe\": country_ohe,\n",
        "  \"dev_type_mlb\": dev_type_mlb,\n",
        "  \"languages_mlb\": languages_mlb,\n",
        "  \"ed_level_oe\": ed_level_oe\n",
        "}\n",
        "\n",
        "# save ohe\n",
        "with open(\"encodings.pickle\", \"wb\") as f: \n",
        "    pickle.dump(encodings, f)\n",
        "\n",
        "train_dataset = df.sample(frac=0.8, random_state=0)\n",
        "test_dataset = df.drop(train_dataset.index)\n",
        "train_features = train_dataset.copy()\n",
        "test_features = test_dataset.copy()\n",
        "train_labels = train_features.pop('ConvertedCompYearly')\n",
        "test_labels = test_features.pop('ConvertedCompYearly')\n",
        "\n",
        "train_features.head()"
      ],
      "metadata": {
        "colab": {
          "base_uri": "https://localhost:8080/",
          "height": 300
        },
        "id": "CaYIE3_0NyaZ",
        "outputId": "9464dfd6-d62c-4bc8-dda4-056abba1d5ce"
      },
      "execution_count": null,
      "outputs": [
        {
          "output_type": "execute_result",
          "data": {
            "text/plain": [
              "       EdLevel  Age1stCode  YearsCode  YearsCodePro   Age  Argentina  \\\n",
              "21426     3.00       21.00      10.00          5.00 29.50       0.00   \n",
              "18        2.00       21.00      12.00          6.00 29.50       0.00   \n",
              "18438     3.00       14.00      26.00         23.00 39.50       0.00   \n",
              "18322     3.00       14.00      25.00         10.00 39.50       0.00   \n",
              "13802     3.00       14.00       9.00          2.00 29.50       0.00   \n",
              "\n",
              "       Australia  Austria  Belgium  Brazil  ...  PowerShell  Python  R  Ruby  \\\n",
              "21426       0.00     0.00     0.00    0.00  ...           0       0  0     1   \n",
              "18          0.00     0.00     0.00    0.00  ...           1       0  0     0   \n",
              "18438       0.00     0.00     0.00    0.00  ...           0       0  0     0   \n",
              "18322       0.00     0.00     0.00    0.00  ...           0       1  0     0   \n",
              "13802       0.00     0.00     1.00    0.00  ...           0       0  0     1   \n",
              "\n",
              "       Rust  SQL  Scala  Swift  TypeScript  VBA  \n",
              "21426     0    1      0      0           0    0  \n",
              "18        0    0      0      0           1    1  \n",
              "18438     0    0      0      0           1    0  \n",
              "18322     0    0      0      0           0    0  \n",
              "13802     0    0      0      0           1    0  \n",
              "\n",
              "[5 rows x 115 columns]"
            ],
            "text/html": [
              "\n",
              "  <div id=\"df-f287a3c9-e65c-4dbb-b349-1d32858ca240\">\n",
              "    <div class=\"colab-df-container\">\n",
              "      <div>\n",
              "<style scoped>\n",
              "    .dataframe tbody tr th:only-of-type {\n",
              "        vertical-align: middle;\n",
              "    }\n",
              "\n",
              "    .dataframe tbody tr th {\n",
              "        vertical-align: top;\n",
              "    }\n",
              "\n",
              "    .dataframe thead th {\n",
              "        text-align: right;\n",
              "    }\n",
              "</style>\n",
              "<table border=\"1\" class=\"dataframe\">\n",
              "  <thead>\n",
              "    <tr style=\"text-align: right;\">\n",
              "      <th></th>\n",
              "      <th>EdLevel</th>\n",
              "      <th>Age1stCode</th>\n",
              "      <th>YearsCode</th>\n",
              "      <th>YearsCodePro</th>\n",
              "      <th>Age</th>\n",
              "      <th>Argentina</th>\n",
              "      <th>Australia</th>\n",
              "      <th>Austria</th>\n",
              "      <th>Belgium</th>\n",
              "      <th>Brazil</th>\n",
              "      <th>...</th>\n",
              "      <th>PowerShell</th>\n",
              "      <th>Python</th>\n",
              "      <th>R</th>\n",
              "      <th>Ruby</th>\n",
              "      <th>Rust</th>\n",
              "      <th>SQL</th>\n",
              "      <th>Scala</th>\n",
              "      <th>Swift</th>\n",
              "      <th>TypeScript</th>\n",
              "      <th>VBA</th>\n",
              "    </tr>\n",
              "  </thead>\n",
              "  <tbody>\n",
              "    <tr>\n",
              "      <th>21426</th>\n",
              "      <td>3.00</td>\n",
              "      <td>21.00</td>\n",
              "      <td>10.00</td>\n",
              "      <td>5.00</td>\n",
              "      <td>29.50</td>\n",
              "      <td>0.00</td>\n",
              "      <td>0.00</td>\n",
              "      <td>0.00</td>\n",
              "      <td>0.00</td>\n",
              "      <td>0.00</td>\n",
              "      <td>...</td>\n",
              "      <td>0</td>\n",
              "      <td>0</td>\n",
              "      <td>0</td>\n",
              "      <td>1</td>\n",
              "      <td>0</td>\n",
              "      <td>1</td>\n",
              "      <td>0</td>\n",
              "      <td>0</td>\n",
              "      <td>0</td>\n",
              "      <td>0</td>\n",
              "    </tr>\n",
              "    <tr>\n",
              "      <th>18</th>\n",
              "      <td>2.00</td>\n",
              "      <td>21.00</td>\n",
              "      <td>12.00</td>\n",
              "      <td>6.00</td>\n",
              "      <td>29.50</td>\n",
              "      <td>0.00</td>\n",
              "      <td>0.00</td>\n",
              "      <td>0.00</td>\n",
              "      <td>0.00</td>\n",
              "      <td>0.00</td>\n",
              "      <td>...</td>\n",
              "      <td>1</td>\n",
              "      <td>0</td>\n",
              "      <td>0</td>\n",
              "      <td>0</td>\n",
              "      <td>0</td>\n",
              "      <td>0</td>\n",
              "      <td>0</td>\n",
              "      <td>0</td>\n",
              "      <td>1</td>\n",
              "      <td>1</td>\n",
              "    </tr>\n",
              "    <tr>\n",
              "      <th>18438</th>\n",
              "      <td>3.00</td>\n",
              "      <td>14.00</td>\n",
              "      <td>26.00</td>\n",
              "      <td>23.00</td>\n",
              "      <td>39.50</td>\n",
              "      <td>0.00</td>\n",
              "      <td>0.00</td>\n",
              "      <td>0.00</td>\n",
              "      <td>0.00</td>\n",
              "      <td>0.00</td>\n",
              "      <td>...</td>\n",
              "      <td>0</td>\n",
              "      <td>0</td>\n",
              "      <td>0</td>\n",
              "      <td>0</td>\n",
              "      <td>0</td>\n",
              "      <td>0</td>\n",
              "      <td>0</td>\n",
              "      <td>0</td>\n",
              "      <td>1</td>\n",
              "      <td>0</td>\n",
              "    </tr>\n",
              "    <tr>\n",
              "      <th>18322</th>\n",
              "      <td>3.00</td>\n",
              "      <td>14.00</td>\n",
              "      <td>25.00</td>\n",
              "      <td>10.00</td>\n",
              "      <td>39.50</td>\n",
              "      <td>0.00</td>\n",
              "      <td>0.00</td>\n",
              "      <td>0.00</td>\n",
              "      <td>0.00</td>\n",
              "      <td>0.00</td>\n",
              "      <td>...</td>\n",
              "      <td>0</td>\n",
              "      <td>1</td>\n",
              "      <td>0</td>\n",
              "      <td>0</td>\n",
              "      <td>0</td>\n",
              "      <td>0</td>\n",
              "      <td>0</td>\n",
              "      <td>0</td>\n",
              "      <td>0</td>\n",
              "      <td>0</td>\n",
              "    </tr>\n",
              "    <tr>\n",
              "      <th>13802</th>\n",
              "      <td>3.00</td>\n",
              "      <td>14.00</td>\n",
              "      <td>9.00</td>\n",
              "      <td>2.00</td>\n",
              "      <td>29.50</td>\n",
              "      <td>0.00</td>\n",
              "      <td>0.00</td>\n",
              "      <td>0.00</td>\n",
              "      <td>1.00</td>\n",
              "      <td>0.00</td>\n",
              "      <td>...</td>\n",
              "      <td>0</td>\n",
              "      <td>0</td>\n",
              "      <td>0</td>\n",
              "      <td>1</td>\n",
              "      <td>0</td>\n",
              "      <td>0</td>\n",
              "      <td>0</td>\n",
              "      <td>0</td>\n",
              "      <td>1</td>\n",
              "      <td>0</td>\n",
              "    </tr>\n",
              "  </tbody>\n",
              "</table>\n",
              "<p>5 rows × 115 columns</p>\n",
              "</div>\n",
              "      <button class=\"colab-df-convert\" onclick=\"convertToInteractive('df-f287a3c9-e65c-4dbb-b349-1d32858ca240')\"\n",
              "              title=\"Convert this dataframe to an interactive table.\"\n",
              "              style=\"display:none;\">\n",
              "        \n",
              "  <svg xmlns=\"http://www.w3.org/2000/svg\" height=\"24px\"viewBox=\"0 0 24 24\"\n",
              "       width=\"24px\">\n",
              "    <path d=\"M0 0h24v24H0V0z\" fill=\"none\"/>\n",
              "    <path d=\"M18.56 5.44l.94 2.06.94-2.06 2.06-.94-2.06-.94-.94-2.06-.94 2.06-2.06.94zm-11 1L8.5 8.5l.94-2.06 2.06-.94-2.06-.94L8.5 2.5l-.94 2.06-2.06.94zm10 10l.94 2.06.94-2.06 2.06-.94-2.06-.94-.94-2.06-.94 2.06-2.06.94z\"/><path d=\"M17.41 7.96l-1.37-1.37c-.4-.4-.92-.59-1.43-.59-.52 0-1.04.2-1.43.59L10.3 9.45l-7.72 7.72c-.78.78-.78 2.05 0 2.83L4 21.41c.39.39.9.59 1.41.59.51 0 1.02-.2 1.41-.59l7.78-7.78 2.81-2.81c.8-.78.8-2.07 0-2.86zM5.41 20L4 18.59l7.72-7.72 1.47 1.35L5.41 20z\"/>\n",
              "  </svg>\n",
              "      </button>\n",
              "      \n",
              "  <style>\n",
              "    .colab-df-container {\n",
              "      display:flex;\n",
              "      flex-wrap:wrap;\n",
              "      gap: 12px;\n",
              "    }\n",
              "\n",
              "    .colab-df-convert {\n",
              "      background-color: #E8F0FE;\n",
              "      border: none;\n",
              "      border-radius: 50%;\n",
              "      cursor: pointer;\n",
              "      display: none;\n",
              "      fill: #1967D2;\n",
              "      height: 32px;\n",
              "      padding: 0 0 0 0;\n",
              "      width: 32px;\n",
              "    }\n",
              "\n",
              "    .colab-df-convert:hover {\n",
              "      background-color: #E2EBFA;\n",
              "      box-shadow: 0px 1px 2px rgba(60, 64, 67, 0.3), 0px 1px 3px 1px rgba(60, 64, 67, 0.15);\n",
              "      fill: #174EA6;\n",
              "    }\n",
              "\n",
              "    [theme=dark] .colab-df-convert {\n",
              "      background-color: #3B4455;\n",
              "      fill: #D2E3FC;\n",
              "    }\n",
              "\n",
              "    [theme=dark] .colab-df-convert:hover {\n",
              "      background-color: #434B5C;\n",
              "      box-shadow: 0px 1px 3px 1px rgba(0, 0, 0, 0.15);\n",
              "      filter: drop-shadow(0px 1px 2px rgba(0, 0, 0, 0.3));\n",
              "      fill: #FFFFFF;\n",
              "    }\n",
              "  </style>\n",
              "\n",
              "      <script>\n",
              "        const buttonEl =\n",
              "          document.querySelector('#df-f287a3c9-e65c-4dbb-b349-1d32858ca240 button.colab-df-convert');\n",
              "        buttonEl.style.display =\n",
              "          google.colab.kernel.accessAllowed ? 'block' : 'none';\n",
              "\n",
              "        async function convertToInteractive(key) {\n",
              "          const element = document.querySelector('#df-f287a3c9-e65c-4dbb-b349-1d32858ca240');\n",
              "          const dataTable =\n",
              "            await google.colab.kernel.invokeFunction('convertToInteractive',\n",
              "                                                     [key], {});\n",
              "          if (!dataTable) return;\n",
              "\n",
              "          const docLinkHtml = 'Like what you see? Visit the ' +\n",
              "            '<a target=\"_blank\" href=https://colab.research.google.com/notebooks/data_table.ipynb>data table notebook</a>'\n",
              "            + ' to learn more about interactive tables.';\n",
              "          element.innerHTML = '';\n",
              "          dataTable['output_type'] = 'display_data';\n",
              "          await google.colab.output.renderOutput(dataTable, element);\n",
              "          const docLink = document.createElement('div');\n",
              "          docLink.innerHTML = docLinkHtml;\n",
              "          element.appendChild(docLink);\n",
              "        }\n",
              "      </script>\n",
              "    </div>\n",
              "  </div>\n",
              "  "
            ]
          },
          "metadata": {},
          "execution_count": 40
        }
      ]
    },
    {
      "cell_type": "markdown",
      "source": [
        "Here we can see a full lit of columns, which shows all the one-hot encoded `Country` and multi-labeled `LanguagesHaveWorkedWith` and `DevTypes`"
      ],
      "metadata": {
        "id": "ubT9aDCwi0zI"
      }
    },
    {
      "cell_type": "code",
      "source": [
        "list(df.columns)"
      ],
      "metadata": {
        "colab": {
          "base_uri": "https://localhost:8080/"
        },
        "id": "WHa0nKndip9T",
        "outputId": "655b00a3-dbc2-485d-a8d7-0e8d1c46ddd6"
      },
      "execution_count": null,
      "outputs": [
        {
          "output_type": "execute_result",
          "data": {
            "text/plain": [
              "['ConvertedCompYearly',\n",
              " 'EdLevel',\n",
              " 'Age1stCode',\n",
              " 'YearsCode',\n",
              " 'YearsCodePro',\n",
              " 'Age',\n",
              " 'Argentina',\n",
              " 'Australia',\n",
              " 'Austria',\n",
              " 'Belgium',\n",
              " 'Brazil',\n",
              " 'Bulgaria',\n",
              " 'Canada',\n",
              " 'Chile',\n",
              " 'China',\n",
              " 'Colombia',\n",
              " 'Croatia',\n",
              " 'Czech Republic',\n",
              " 'Denmark',\n",
              " 'Finland',\n",
              " 'France',\n",
              " 'Germany',\n",
              " 'Greece',\n",
              " 'Hungary',\n",
              " 'India',\n",
              " 'Iran, Islamic Republic of...',\n",
              " 'Ireland',\n",
              " 'Israel',\n",
              " 'Italy',\n",
              " 'Japan',\n",
              " 'Lithuania',\n",
              " 'Mexico',\n",
              " 'Netherlands',\n",
              " 'New Zealand',\n",
              " 'Norway',\n",
              " 'Poland',\n",
              " 'Portugal',\n",
              " 'Romania',\n",
              " 'Russian Federation',\n",
              " 'Serbia',\n",
              " 'Singapore',\n",
              " 'Slovenia',\n",
              " 'South Africa',\n",
              " 'Spain',\n",
              " 'Sweden',\n",
              " 'Switzerland',\n",
              " 'Taiwan',\n",
              " 'Turkey',\n",
              " 'Ukraine',\n",
              " 'United Kingdom of Great Britain and Northern Ireland',\n",
              " 'United States of America',\n",
              " 'Academic researcher',\n",
              " 'Data or business analyst',\n",
              " 'Data scientist or machine learning specialist',\n",
              " 'Database administrator',\n",
              " 'Designer',\n",
              " 'DevOps specialist',\n",
              " 'Developer, QA or test',\n",
              " 'Developer, back-end',\n",
              " 'Developer, desktop or enterprise applications',\n",
              " 'Developer, embedded applications or devices',\n",
              " 'Developer, front-end',\n",
              " 'Developer, full-stack',\n",
              " 'Developer, game or graphics',\n",
              " 'Developer, mobile',\n",
              " 'Educator',\n",
              " 'Engineer, data',\n",
              " 'Engineer, site reliability',\n",
              " 'Engineering manager',\n",
              " 'Marketing or sales professional',\n",
              " 'MissingDevType',\n",
              " 'Other (please specify):',\n",
              " 'Product manager',\n",
              " 'Scientist',\n",
              " 'Senior Executive (C-Suite, VP, etc.)',\n",
              " 'Student',\n",
              " 'System administrator',\n",
              " 'APL',\n",
              " 'Assembly',\n",
              " 'Bash/Shell',\n",
              " 'C',\n",
              " 'C#',\n",
              " 'C++',\n",
              " 'COBOL',\n",
              " 'Clojure',\n",
              " 'Crystal',\n",
              " 'Dart',\n",
              " 'Delphi',\n",
              " 'Elixir',\n",
              " 'Erlang',\n",
              " 'F#',\n",
              " 'Go',\n",
              " 'Groovy',\n",
              " 'HTML/CSS',\n",
              " 'Haskell',\n",
              " 'Java',\n",
              " 'JavaScript',\n",
              " 'Julia',\n",
              " 'Kotlin',\n",
              " 'LISP',\n",
              " 'Matlab',\n",
              " 'MissingLanguageHaveWorkedWith',\n",
              " 'Node.js',\n",
              " 'Objective-C',\n",
              " 'PHP',\n",
              " 'Perl',\n",
              " 'PowerShell',\n",
              " 'Python',\n",
              " 'R',\n",
              " 'Ruby',\n",
              " 'Rust',\n",
              " 'SQL',\n",
              " 'Scala',\n",
              " 'Swift',\n",
              " 'TypeScript',\n",
              " 'VBA']"
            ]
          },
          "metadata": {},
          "execution_count": 41
        }
      ]
    },
    {
      "cell_type": "markdown",
      "source": [
        "Again, we can define the model using hyperparameters and explore this space with keras tuner.\n",
        "\n",
        "The model starts iwth a dense layer between 32 and 256 units (with a step of 32) and a relu activation function.\n",
        "\n",
        "Then it will have between 1 and 2 additional dense layers between 32 and 256 units (with a step of 32) and a relu activation function.\n",
        "\n",
        "Finally, it will end with a single dense layer and use the Adams optimizer. The Adams optimzer does not need to by tuned with hyper parameters because it essentially does this internally already. "
      ],
      "metadata": {
        "id": "xLwoDRw8jDqv"
      }
    },
    {
      "cell_type": "code",
      "source": [
        "def build_model(hp):\n",
        "  model = keras.Sequential()\n",
        "  model.add(keras.layers.Dense(hp.Int(\"units\", min_value=32, max_value=256, step=32), activation='relu'))\n",
        "\n",
        "  for i in range(hp.Int(\"n_layers\", min_value=1, max_value=3)):\n",
        "    model.add(keras.layers.Dense(hp.Int(f\"units-{i}\", min_value=32, max_value=256, step=32), activation='relu'))\n",
        "\n",
        "  model.add(keras.layers.Dense(1))\n",
        "\n",
        "  model.compile(optimizer=tf.keras.optimizers.Adam(0.001),\n",
        "      # loss='mean_squared_error'\n",
        "      loss='mean_absolute_error')\n",
        "\n",
        "  return model"
      ],
      "metadata": {
        "id": "cjive6BMIXiI"
      },
      "execution_count": null,
      "outputs": []
    },
    {
      "cell_type": "markdown",
      "source": [
        "Now we initialize and search the tuner using our `build_model` function. It will user `RandomSearch` to look for the best `val_loss`."
      ],
      "metadata": {
        "id": "Bfb-_Xm4k0bE"
      }
    },
    {
      "cell_type": "code",
      "source": [
        "tuner = kt.RandomSearch(\n",
        "    build_model,\n",
        "    objective = \"val_loss\",\n",
        "    max_trials = 3,\n",
        "    executions_per_trial = 1,\n",
        "    directory = f'${int(time.time())}'\n",
        ")"
      ],
      "metadata": {
        "id": "vlzjQ3IhO8au"
      },
      "execution_count": null,
      "outputs": []
    },
    {
      "cell_type": "code",
      "source": [
        "tuner.search(x=train_features,\n",
        "             y=train_labels,\n",
        "             epochs=10,\n",
        "             batch_size=64,\n",
        "             validation_data=(test_features, test_labels))"
      ],
      "metadata": {
        "colab": {
          "base_uri": "https://localhost:8080/"
        },
        "id": "kYsDo7DQO_cN",
        "outputId": "562e42a3-5deb-45ea-9a5f-072997f3067f"
      },
      "execution_count": null,
      "outputs": [
        {
          "output_type": "stream",
          "name": "stdout",
          "text": [
            "Trial 3 Complete [00h 00m 12s]\n",
            "val_loss: 22643.08203125\n",
            "\n",
            "Best val_loss So Far: 21509.8984375\n",
            "Total elapsed time: 00h 00m 35s\n"
          ]
        }
      ]
    },
    {
      "cell_type": "markdown",
      "source": [
        "This shows the optimal parameters that the tuner found."
      ],
      "metadata": {
        "id": "rJZJ8cWglNav"
      }
    },
    {
      "cell_type": "code",
      "source": [
        "print(tuner.get_best_hyperparameters()[0].values)\n",
        "print(tuner.results_summary())"
      ],
      "metadata": {
        "colab": {
          "base_uri": "https://localhost:8080/"
        },
        "id": "8P9N-aCAobN-",
        "outputId": "80221a5b-1d10-4b54-cbee-43a0aa54a513"
      },
      "execution_count": null,
      "outputs": [
        {
          "output_type": "stream",
          "name": "stdout",
          "text": [
            "{'units': 160, 'n_layers': 3, 'units-0': 128, 'units-1': 160, 'units-2': 32}\n",
            "Results summary\n",
            "Results in $1661108281/untitled_project\n",
            "Showing 10 best trials\n",
            "<keras_tuner.engine.objective.Objective object at 0x7f0172d86090>\n",
            "Trial summary\n",
            "Hyperparameters:\n",
            "units: 160\n",
            "n_layers: 3\n",
            "units-0: 128\n",
            "units-1: 160\n",
            "units-2: 32\n",
            "Score: 21509.8984375\n",
            "Trial summary\n",
            "Hyperparameters:\n",
            "units: 160\n",
            "n_layers: 2\n",
            "units-0: 128\n",
            "units-1: 32\n",
            "Score: 21635.87890625\n",
            "Trial summary\n",
            "Hyperparameters:\n",
            "units: 160\n",
            "n_layers: 1\n",
            "units-0: 224\n",
            "units-1: 224\n",
            "units-2: 160\n",
            "Score: 22643.08203125\n",
            "None\n"
          ]
        }
      ]
    },
    {
      "cell_type": "markdown",
      "source": [
        "Now we will train the best model which the tuner found using out `test_features`. Here is a peak at the `test_features`."
      ],
      "metadata": {
        "id": "o8g373nNlZJ_"
      }
    },
    {
      "cell_type": "code",
      "source": [
        "test_features.values"
      ],
      "metadata": {
        "colab": {
          "base_uri": "https://localhost:8080/"
        },
        "id": "zyHPFy6721zJ",
        "outputId": "84ed898d-1cb5-40de-c7f0-11feffc99d21"
      },
      "execution_count": null,
      "outputs": [
        {
          "output_type": "execute_result",
          "data": {
            "text/plain": [
              "array([[ 2. , 28.5,  4. , ...,  0. ,  0. ,  0. ],\n",
              "       [ 2. , 14. ,  8. , ...,  0. ,  0. ,  0. ],\n",
              "       [ 3. ,  7.5, 34. , ...,  0. ,  1. ,  0. ],\n",
              "       ...,\n",
              "       [ 3. ,  7.5, 30. , ...,  0. ,  1. ,  0. ],\n",
              "       [ 3. ,  7.5, 16. , ...,  0. ,  1. ,  0. ],\n",
              "       [ 2. , 14. , 17. , ...,  0. ,  0. ,  0. ]])"
            ]
          },
          "metadata": {},
          "execution_count": 46
        }
      ]
    },
    {
      "cell_type": "code",
      "source": [
        "best_model = tuner.get_best_models()[0]"
      ],
      "metadata": {
        "id": "jV6rHkDqzDZC"
      },
      "execution_count": null,
      "outputs": []
    },
    {
      "cell_type": "markdown",
      "source": [
        "We will pass in an early stopping callback. We set a `patience` of 5 and instruct it to restore the best weights. This means the model will stop after 5 successive `val_loss`'s higher than the lowest `val_loss`. At this point it will restore the best weights and stop. This saves time and compute power."
      ],
      "metadata": {
        "id": "FvWsp1r9lpEK"
      }
    },
    {
      "cell_type": "code",
      "source": [
        "%%time\n",
        "callback = tf.keras.callbacks.EarlyStopping(monitor=\"val_loss\",patience=5,restore_best_weights=True)\n",
        "history_best = best_model.fit(\n",
        "    train_features,\n",
        "    train_labels,\n",
        "    validation_split=0.2, \n",
        "    epochs=150,\n",
        "    callbacks=[callback])\n",
        "\n",
        "MODELS['best'] = best_model.evaluate(test_features, test_labels, verbose=0)\n",
        "\n",
        "print(MODELS['best'])"
      ],
      "metadata": {
        "colab": {
          "base_uri": "https://localhost:8080/"
        },
        "id": "ACkFC4MkoxEN",
        "outputId": "e3e78d4c-bb7a-452c-d333-44d4712e7c6f"
      },
      "execution_count": null,
      "outputs": [
        {
          "output_type": "stream",
          "name": "stdout",
          "text": [
            "Epoch 1/150\n",
            "633/633 [==============================] - 2s 3ms/step - loss: 21617.4961 - val_loss: 22556.1289\n",
            "Epoch 2/150\n",
            "633/633 [==============================] - 2s 3ms/step - loss: 21454.3789 - val_loss: 21316.7363\n",
            "Epoch 3/150\n",
            "633/633 [==============================] - 2s 3ms/step - loss: 21420.7891 - val_loss: 21392.1699\n",
            "Epoch 4/150\n",
            "633/633 [==============================] - 2s 3ms/step - loss: 21351.6582 - val_loss: 21469.5000\n",
            "Epoch 5/150\n",
            "633/633 [==============================] - 2s 3ms/step - loss: 21348.3574 - val_loss: 21339.4727\n",
            "Epoch 6/150\n",
            "633/633 [==============================] - 2s 3ms/step - loss: 21269.4766 - val_loss: 21501.6113\n",
            "Epoch 7/150\n",
            "633/633 [==============================] - 2s 3ms/step - loss: 21224.5879 - val_loss: 21443.2637\n",
            "21405.185546875\n",
            "CPU times: user 18 s, sys: 2.51 s, total: 20.5 s\n",
            "Wall time: 21.3 s\n"
          ]
        }
      ]
    },
    {
      "cell_type": "markdown",
      "source": [
        "This shows a history of `loss` (train) and `val_loss` (test) over time, and our final model evaluation, which is well under our target of 10% of the max salary."
      ],
      "metadata": {
        "id": "3gYGogjWmDRL"
      }
    },
    {
      "cell_type": "code",
      "source": [
        "plot_loss(history_best)"
      ],
      "metadata": {
        "colab": {
          "base_uri": "https://localhost:8080/",
          "height": 301
        },
        "id": "_DKQm6_voz54",
        "outputId": "7bb78032-bde6-4ad0-9427-6a3215275b19"
      },
      "execution_count": null,
      "outputs": [
        {
          "output_type": "display_data",
          "data": {
            "text/plain": [
              "<Figure size 432x288 with 1 Axes>"
            ],
            "image/png": "[encoded data removed]"
          },
          "metadata": {}
        }
      ]
    },
    {
      "cell_type": "code",
      "source": [
        "best_model.evaluate(test_features, test_labels, verbose=0)"
      ],
      "metadata": {
        "colab": {
          "base_uri": "https://localhost:8080/"
        },
        "id": "JcpbhwcgrIov",
        "outputId": "5ca51f8d-e122-4c75-c76e-95d40e4776b3"
      },
      "execution_count": null,
      "outputs": [
        {
          "output_type": "execute_result",
          "data": {
            "text/plain": [
              "21405.185546875"
            ]
          },
          "metadata": {},
          "execution_count": 50
        }
      ]
    },
    {
      "cell_type": "markdown",
      "source": [
        "In order to actually make a prediction, we will need to encode inputs the same way we encoded the dataframe.\n",
        "\n",
        "If we just try to pass \"United States of America\" into the model for \"Country\", it won't know what to do because \"Country\" is no longer a column. Thus, we can use this `make_input` function which takes the inputs how we might expect to receive them and encodes them using the existing encodings we generated above.\n",
        "\n",
        "This function is used in `./server/main` to generate predictions and in the `/api/untrained-inputs-encoded` endpoint to format saved inputs before being retrained. This is possibly because I have saved the encodings generated here and made them available to `server`."
      ],
      "metadata": {
        "id": "wOiLRqcPmhUd"
      }
    },
    {
      "cell_type": "code",
      "source": [
        "# # should not need to be normalized for predicting.\n",
        "# # country should be OHE, else  OHE should be in model layer\n",
        "def make_input(input_dict):\n",
        "  df_input = pd.DataFrame(data={\n",
        "      \"EdLevel\": [input_dict[\"ed_level\"]], # will be transformed inplace below when encoded\n",
        "      \"Age1stCode\": [input_dict[\"age_first_code\"]],\n",
        "      \"YearsCode\": [input_dict[\"years_code\"]],\n",
        "      \"YearsCodePro\": [input_dict[\"years_code_pro\"]],\n",
        "      \"Age\": [input_dict[\"age\"]],\n",
        "  })\n",
        "  # encode Country\n",
        "  country_enc = country_ohe.transform(pd.DataFrame(\n",
        "      data={\"Country\": [input_dict[\"country\"]]})).toarray()\n",
        "  df = merge_ohe(df_input, country_ohe, country_enc)\n",
        "  \n",
        "  # encode Devtype\n",
        "  dev_type_enc = dev_type_mlb.transform(pd.Series([input_dict[\"dev_type\"]]))\n",
        "  df = merge_mlb(df, dev_type_mlb, dev_type_enc)\n",
        "\n",
        "  # encode LanguageHaveWorkedWith\n",
        "  languages_enc = languages_mlb.transform(pd.Series([input_dict[\"languages\"]]))\n",
        "  df = merge_mlb(df, languages_mlb, languages_enc)\n",
        "\n",
        "  # encode Edlevel\n",
        "  df['EdLevel'] = ed_level_oe.transform(df['EdLevel'].values.reshape(-1,1))\n",
        "\n",
        "  return df.values\n",
        "\n",
        "pred_input = make_input({\"age_first_code\": 16, \"years_code\": 4,\n",
        "                         \"years_code_pro\": 3, \"age\": 33, \n",
        "                         \"country\": \"United States of America\", \n",
        "                         \"dev_type\": [\"Developer, full-stack\"],\n",
        "                         \"languages\": [\"Python\", \"JavaScript\", \"SQL\"],\n",
        "                         \"ed_level\": \"Bachelors\"})\n",
        "pred_input"
      ],
      "metadata": {
        "colab": {
          "base_uri": "https://localhost:8080/"
        },
        "id": "9rCqsmpesC6W",
        "outputId": "ab085f8b-9e50-48b9-f27f-6ef49716aeef"
      },
      "execution_count": null,
      "outputs": [
        {
          "output_type": "execute_result",
          "data": {
            "text/plain": [
              "array([[ 2., 16.,  4.,  3., 33.,  0.,  0.,  0.,  0.,  0.,  0.,  0.,  0.,\n",
              "         0.,  0.,  0.,  0.,  0.,  0.,  0.,  0.,  0.,  0.,  0.,  0.,  0.,\n",
              "         0.,  0.,  0.,  0.,  0.,  0.,  0.,  0.,  0.,  0.,  0.,  0.,  0.,\n",
              "         0.,  0.,  0.,  0.,  0.,  0.,  0.,  0.,  0.,  0.,  1.,  0.,  0.,\n",
              "         0.,  0.,  0.,  0.,  0.,  0.,  0.,  0.,  0.,  1.,  0.,  0.,  0.,\n",
              "         0.,  0.,  0.,  0.,  0.,  0.,  0.,  0.,  0.,  0.,  0.,  0.,  0.,\n",
              "         0.,  0.,  0.,  0.,  0.,  0.,  0.,  0.,  0.,  0.,  0.,  0.,  0.,\n",
              "         0.,  0.,  0.,  0.,  1.,  0.,  0.,  0.,  0.,  0.,  0.,  0.,  0.,\n",
              "         0.,  0.,  1.,  0.,  0.,  0.,  1.,  0.,  0.,  0.,  0.]])"
            ]
          },
          "metadata": {},
          "execution_count": 51
        }
      ]
    },
    {
      "cell_type": "markdown",
      "source": [
        "Now we can make a prediction using our encoded input."
      ],
      "metadata": {
        "id": "kzyELxzNnoxk"
      }
    },
    {
      "cell_type": "code",
      "source": [
        "pred = best_model.predict(pred_input)[:, 0]\n",
        "pred[0]"
      ],
      "metadata": {
        "colab": {
          "base_uri": "https://localhost:8080/"
        },
        "id": "6usLn7yXicDC",
        "outputId": "b76c8b89-703f-4eb9-c0c2-7984ac3895b5"
      },
      "execution_count": null,
      "outputs": [
        {
          "output_type": "execute_result",
          "data": {
            "text/plain": [
              "101935.59"
            ]
          },
          "metadata": {},
          "execution_count": 52
        }
      ]
    },
    {
      "cell_type": "markdown",
      "source": [
        "The model gets saved here so it can be used later."
      ],
      "metadata": {
        "id": "4u1xSB68nsww"
      }
    },
    {
      "cell_type": "code",
      "source": [
        "filename = f'./model_{int(time.time())}'\n",
        "keras.models.save_model(best_model, filename)"
      ],
      "metadata": {
        "id": "6dGkczF1upFz"
      },
      "execution_count": null,
      "outputs": []
    },
    {
      "cell_type": "markdown",
      "source": [
        "This reloads the model from file, gives it the same input as above, and gets the same prediction. This shows that it was succesfully saved and loaded."
      ],
      "metadata": {
        "id": "pLjeEQPvn0N5"
      }
    },
    {
      "cell_type": "code",
      "source": [
        "saved_model = tf.keras.models.load_model(filename)"
      ],
      "metadata": {
        "id": "0Geq2L1hwPvh"
      },
      "execution_count": null,
      "outputs": []
    },
    {
      "cell_type": "code",
      "source": [
        "saved_model.predict(pred_input)[0][0]"
      ],
      "metadata": {
        "colab": {
          "base_uri": "https://localhost:8080/"
        },
        "id": "autrlCtxwjDr",
        "outputId": "d4dd0da9-59dc-4d8b-f27f-21a263f77174"
      },
      "execution_count": null,
      "outputs": [
        {
          "output_type": "execute_result",
          "data": {
            "text/plain": [
              "101935.59"
            ]
          },
          "metadata": {},
          "execution_count": 55
        }
      ]
    }
  ],
  "metadata": {
    "interpreter": {
      "hash": "3c1665ecdeb719b5a9b18f5ead674f34a7d8f4e180fcf6d2cd8ba743c679e34c"
    },
    "kernelspec": {
      "display_name": "Python 3 (ipykernel)",
      "language": "python",
      "name": "python3"
    },
    "language_info": {
      "codemirror_mode": {
        "name": "ipython",
        "version": 3
      },
      "file_extension": ".py",
      "mimetype": "text/x-python",
      "name": "python",
      "nbconvert_exporter": "python",
      "pygments_lexer": "ipython3",
      "version": "3.10.4"
    },
    "colab": {
      "name": "model.ipynb",
      "provenance": [],
      "machine_shape": "hm",
      "collapsed_sections": []
    },
    "accelerator": "GPU"
  },
  "nbformat": 4,
  "nbformat_minor": 0
}