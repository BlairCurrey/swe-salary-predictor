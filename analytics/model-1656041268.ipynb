{
  "cells": [
    {
      "cell_type": "code",
      "execution_count": null,
      "metadata": {
        "id": "Tohhn8YX7-ln"
      },
      "outputs": [],
      "source": [
        "try:\n",
        "  import google.colab\n",
        "  IN_COLAB = True\n",
        "except:\n",
        "  IN_COLAB = False"
      ]
    },
    {
      "cell_type": "code",
      "execution_count": null,
      "metadata": {
        "colab": {
          "base_uri": "https://localhost:8080/"
        },
        "id": "EI3MXb6P7-lr",
        "outputId": "8fc750d3-d660-4d3c-a170-72bc08fa1f57"
      },
      "outputs": [
        {
          "name": "stdout",
          "output_type": "stream",
          "text": [
            "Looking in indexes: https://pypi.org/simple, https://us-python.pkg.dev/colab-wheels/public/simple/\n",
            "Requirement already satisfied: pandas in /usr/local/lib/python3.7/dist-packages (1.3.5)\n",
            "Requirement already satisfied: numpy>=1.17.3 in /usr/local/lib/python3.7/dist-packages (from pandas) (1.21.6)\n",
            "Requirement already satisfied: pytz>=2017.3 in /usr/local/lib/python3.7/dist-packages (from pandas) (2022.1)\n",
            "Requirement already satisfied: python-dateutil>=2.7.3 in /usr/local/lib/python3.7/dist-packages (from pandas) (2.8.2)\n",
            "Requirement already satisfied: six>=1.5 in /usr/local/lib/python3.7/dist-packages (from python-dateutil>=2.7.3->pandas) (1.15.0)\n",
            "Looking in indexes: https://pypi.org/simple, https://us-python.pkg.dev/colab-wheels/public/simple/\n",
            "Requirement already satisfied: numpy in /usr/local/lib/python3.7/dist-packages (1.21.6)\n",
            "Looking in indexes: https://pypi.org/simple, https://us-python.pkg.dev/colab-wheels/public/simple/\n",
            "Requirement already satisfied: tensorflow in /usr/local/lib/python3.7/dist-packages (2.8.2+zzzcolab20220527125636)\n",
            "Requirement already satisfied: absl-py>=0.4.0 in /usr/local/lib/python3.7/dist-packages (from tensorflow) (1.1.0)\n",
            "Requirement already satisfied: keras<2.9,>=2.8.0rc0 in /usr/local/lib/python3.7/dist-packages (from tensorflow) (2.8.0)\n",
            "Requirement already satisfied: setuptools in /usr/local/lib/python3.7/dist-packages (from tensorflow) (57.4.0)\n",
            "Requirement already satisfied: typing-extensions>=3.6.6 in /usr/local/lib/python3.7/dist-packages (from tensorflow) (4.1.1)\n",
            "Requirement already satisfied: tensorflow-io-gcs-filesystem>=0.23.1 in /usr/local/lib/python3.7/dist-packages (from tensorflow) (0.26.0)\n",
            "Requirement already satisfied: tensorboard<2.9,>=2.8 in /usr/local/lib/python3.7/dist-packages (from tensorflow) (2.8.0)\n",
            "Requirement already satisfied: h5py>=2.9.0 in /usr/local/lib/python3.7/dist-packages (from tensorflow) (3.1.0)\n",
            "Requirement already satisfied: tensorflow-estimator<2.9,>=2.8 in /usr/local/lib/python3.7/dist-packages (from tensorflow) (2.8.0)\n",
            "Requirement already satisfied: wrapt>=1.11.0 in /usr/local/lib/python3.7/dist-packages (from tensorflow) (1.14.1)\n",
            "Requirement already satisfied: google-pasta>=0.1.1 in /usr/local/lib/python3.7/dist-packages (from tensorflow) (0.2.0)\n",
            "Requirement already satisfied: gast>=0.2.1 in /usr/local/lib/python3.7/dist-packages (from tensorflow) (0.5.3)\n",
            "Requirement already satisfied: termcolor>=1.1.0 in /usr/local/lib/python3.7/dist-packages (from tensorflow) (1.1.0)\n",
            "Requirement already satisfied: numpy>=1.20 in /usr/local/lib/python3.7/dist-packages (from tensorflow) (1.21.6)\n",
            "Requirement already satisfied: six>=1.12.0 in /usr/local/lib/python3.7/dist-packages (from tensorflow) (1.15.0)\n",
            "Requirement already satisfied: libclang>=9.0.1 in /usr/local/lib/python3.7/dist-packages (from tensorflow) (14.0.1)\n",
            "Requirement already satisfied: opt-einsum>=2.3.2 in /usr/local/lib/python3.7/dist-packages (from tensorflow) (3.3.0)\n",
            "Requirement already satisfied: keras-preprocessing>=1.1.1 in /usr/local/lib/python3.7/dist-packages (from tensorflow) (1.1.2)\n",
            "Requirement already satisfied: flatbuffers>=1.12 in /usr/local/lib/python3.7/dist-packages (from tensorflow) (2.0)\n",
            "Requirement already satisfied: astunparse>=1.6.0 in /usr/local/lib/python3.7/dist-packages (from tensorflow) (1.6.3)\n",
            "Requirement already satisfied: protobuf<3.20,>=3.9.2 in /usr/local/lib/python3.7/dist-packages (from tensorflow) (3.17.3)\n",
            "Requirement already satisfied: grpcio<2.0,>=1.24.3 in /usr/local/lib/python3.7/dist-packages (from tensorflow) (1.46.3)\n",
            "Requirement already satisfied: wheel<1.0,>=0.23.0 in /usr/local/lib/python3.7/dist-packages (from astunparse>=1.6.0->tensorflow) (0.37.1)\n",
            "Requirement already satisfied: cached-property in /usr/local/lib/python3.7/dist-packages (from h5py>=2.9.0->tensorflow) (1.5.2)\n",
            "Requirement already satisfied: google-auth-oauthlib<0.5,>=0.4.1 in /usr/local/lib/python3.7/dist-packages (from tensorboard<2.9,>=2.8->tensorflow) (0.4.6)\n",
            "Requirement already satisfied: tensorboard-plugin-wit>=1.6.0 in /usr/local/lib/python3.7/dist-packages (from tensorboard<2.9,>=2.8->tensorflow) (1.8.1)\n",
            "Requirement already satisfied: google-auth<3,>=1.6.3 in /usr/local/lib/python3.7/dist-packages (from tensorboard<2.9,>=2.8->tensorflow) (1.35.0)\n",
            "Requirement already satisfied: requests<3,>=2.21.0 in /usr/local/lib/python3.7/dist-packages (from tensorboard<2.9,>=2.8->tensorflow) (2.23.0)\n",
            "Requirement already satisfied: tensorboard-data-server<0.7.0,>=0.6.0 in /usr/local/lib/python3.7/dist-packages (from tensorboard<2.9,>=2.8->tensorflow) (0.6.1)\n",
            "Requirement already satisfied: werkzeug>=0.11.15 in /usr/local/lib/python3.7/dist-packages (from tensorboard<2.9,>=2.8->tensorflow) (1.0.1)\n",
            "Requirement already satisfied: markdown>=2.6.8 in /usr/local/lib/python3.7/dist-packages (from tensorboard<2.9,>=2.8->tensorflow) (3.3.7)\n",
            "Requirement already satisfied: pyasn1-modules>=0.2.1 in /usr/local/lib/python3.7/dist-packages (from google-auth<3,>=1.6.3->tensorboard<2.9,>=2.8->tensorflow) (0.2.8)\n",
            "Requirement already satisfied: rsa<5,>=3.1.4 in /usr/local/lib/python3.7/dist-packages (from google-auth<3,>=1.6.3->tensorboard<2.9,>=2.8->tensorflow) (4.8)\n",
            "Requirement already satisfied: cachetools<5.0,>=2.0.0 in /usr/local/lib/python3.7/dist-packages (from google-auth<3,>=1.6.3->tensorboard<2.9,>=2.8->tensorflow) (4.2.4)\n",
            "Requirement already satisfied: requests-oauthlib>=0.7.0 in /usr/local/lib/python3.7/dist-packages (from google-auth-oauthlib<0.5,>=0.4.1->tensorboard<2.9,>=2.8->tensorflow) (1.3.1)\n",
            "Requirement already satisfied: importlib-metadata>=4.4 in /usr/local/lib/python3.7/dist-packages (from markdown>=2.6.8->tensorboard<2.9,>=2.8->tensorflow) (4.11.4)\n",
            "Requirement already satisfied: zipp>=0.5 in /usr/local/lib/python3.7/dist-packages (from importlib-metadata>=4.4->markdown>=2.6.8->tensorboard<2.9,>=2.8->tensorflow) (3.8.0)\n",
            "Requirement already satisfied: pyasn1<0.5.0,>=0.4.6 in /usr/local/lib/python3.7/dist-packages (from pyasn1-modules>=0.2.1->google-auth<3,>=1.6.3->tensorboard<2.9,>=2.8->tensorflow) (0.4.8)\n",
            "Requirement already satisfied: urllib3!=1.25.0,!=1.25.1,<1.26,>=1.21.1 in /usr/local/lib/python3.7/dist-packages (from requests<3,>=2.21.0->tensorboard<2.9,>=2.8->tensorflow) (1.24.3)\n",
            "Requirement already satisfied: idna<3,>=2.5 in /usr/local/lib/python3.7/dist-packages (from requests<3,>=2.21.0->tensorboard<2.9,>=2.8->tensorflow) (2.10)\n",
            "Requirement already satisfied: certifi>=2017.4.17 in /usr/local/lib/python3.7/dist-packages (from requests<3,>=2.21.0->tensorboard<2.9,>=2.8->tensorflow) (2022.6.15)\n",
            "Requirement already satisfied: chardet<4,>=3.0.2 in /usr/local/lib/python3.7/dist-packages (from requests<3,>=2.21.0->tensorboard<2.9,>=2.8->tensorflow) (3.0.4)\n",
            "Requirement already satisfied: oauthlib>=3.0.0 in /usr/local/lib/python3.7/dist-packages (from requests-oauthlib>=0.7.0->google-auth-oauthlib<0.5,>=0.4.1->tensorboard<2.9,>=2.8->tensorflow) (3.2.0)\n"
          ]
        }
      ],
      "source": [
        "if IN_COLAB: \n",
        "    !pip install pandas\n",
        "    !pip install numpy\n",
        "    !pip install tensorflow\n",
        "    !pip install -q -U keras-tuner"
      ]
    },
    {
      "cell_type": "code",
      "execution_count": null,
      "metadata": {
        "colab": {
          "base_uri": "https://localhost:8080/"
        },
        "id": "QCOmL4Al7-ls",
        "outputId": "b6278b3d-3615-42d9-e22e-cfdb560eaeaf"
      },
      "outputs": [
        {
          "name": "stdout",
          "output_type": "stream",
          "text": [
            "GPU 0: Tesla P100-PCIE-16GB (UUID: GPU-491f3281-4ff7-9543-bc22-f2a72d33e054)\n"
          ]
        }
      ],
      "source": [
        "if IN_COLAB:\n",
        "  !nvidia-smi -L"
      ]
    },
    {
      "cell_type": "code",
      "execution_count": null,
      "metadata": {
        "id": "ho8QG6U94utP"
      },
      "outputs": [],
      "source": [
        "!pip freeze > requirements.txt"
      ]
    },
    {
      "cell_type": "code",
      "execution_count": null,
      "metadata": {
        "colab": {
          "base_uri": "https://localhost:8080/"
        },
        "id": "Hg50fq0A7-lt",
        "outputId": "4becc2c5-1c3f-42b4-e8a9-79592bfb1a6d"
      },
      "outputs": [
        {
          "name": "stdout",
          "output_type": "stream",
          "text": [
            "Mounted at /content/drive\n"
          ]
        }
      ],
      "source": [
        "if IN_COLAB:\n",
        "  from google.colab import drive\n",
        "  import sys\n",
        "  drive.mount('/content/drive')\n",
        "  sys.path.append('/content/drive/MyDrive')\n",
        "  sys.path.append('/content/drive/MyDrive/swe-salary-predictor')"
      ]
    },
    {
      "cell_type": "code",
      "execution_count": null,
      "metadata": {
        "id": "0XCy58r87-lv"
      },
      "outputs": [],
      "source": [
        "import time\n",
        "import pandas as pd\n",
        "from common import DataLoader\n",
        "import numpy as np\n",
        "from sklearn.linear_model import LinearRegression\n",
        "from sklearn.model_selection import train_test_split, cross_val_score\n",
        "from sklearn.metrics import mean_squared_error, r2_score\n",
        "from sklearn.preprocessing import OneHotEncoder, OrdinalEncoder, MultiLabelBinarizer\n",
        "from sklearn.compose import make_column_transformer\n",
        "from sklearn.pipeline import make_pipeline\n",
        "import keras_tuner as kt\n",
        "import seaborn as sns\n",
        "import matplotlib.pyplot as plt\n",
        "\n",
        "pd.options.display.float_format = '{:.2f}'.format\n",
        "sns.set_theme(color_codes=True)"
      ]
    },
    {
      "cell_type": "code",
      "execution_count": null,
      "metadata": {
        "colab": {
          "base_uri": "https://localhost:8080/",
          "height": 380
        },
        "id": "hvrmDxDN7-lw",
        "outputId": "4ef495ca-65ca-4023-f455-820e33451b04"
      },
      "outputs": [
        {
          "name": "stdout",
          "output_type": "stream",
          "text": [
            "_start_pipeline:\n",
            "  runtime=0:00:00.024849, end shape=(83439, 48)\n",
            "_select:\n",
            "  runtime=0:00:00.066231, end shape=(40627, 9)\n",
            "_clean:\n",
            "  runtime=0:00:00.166754, end shape=(40627, 9)\n",
            "_remove_outliers:\n",
            "  runtime=0:00:00.016151, end shape=(31610, 9)\n",
            "_handle_missing:\n",
            "  runtime=0:00:00.004997, end shape=(31610, 9)\n"
          ]
        },
        {
          "data": {
            "text/html": [
              "\n",
              "  <div id=\"df-ac6f5745-dd5e-4a8a-bdeb-0449aa600adc\">\n",
              "    <div class=\"colab-df-container\">\n",
              "      <div>\n",
              "<style scoped>\n",
              "    .dataframe tbody tr th:only-of-type {\n",
              "        vertical-align: middle;\n",
              "    }\n",
              "\n",
              "    .dataframe tbody tr th {\n",
              "        vertical-align: top;\n",
              "    }\n",
              "\n",
              "    .dataframe thead th {\n",
              "        text-align: right;\n",
              "    }\n",
              "</style>\n",
              "<table border=\"1\" class=\"dataframe\">\n",
              "  <thead>\n",
              "    <tr style=\"text-align: right;\">\n",
              "      <th></th>\n",
              "      <th>ConvertedCompYearly</th>\n",
              "      <th>EdLevel</th>\n",
              "      <th>Age1stCode</th>\n",
              "      <th>YearsCode</th>\n",
              "      <th>YearsCodePro</th>\n",
              "      <th>Country</th>\n",
              "      <th>DevType</th>\n",
              "      <th>LanguageHaveWorkedWith</th>\n",
              "      <th>Age</th>\n",
              "    </tr>\n",
              "  </thead>\n",
              "  <tbody>\n",
              "    <tr>\n",
              "      <th>9</th>\n",
              "      <td>51552.00</td>\n",
              "      <td>Masters</td>\n",
              "      <td>14.00</td>\n",
              "      <td>7.00</td>\n",
              "      <td>4.00</td>\n",
              "      <td>Sweden</td>\n",
              "      <td>Data scientist or machine learning specialist</td>\n",
              "      <td>C++;Python</td>\n",
              "      <td>29.50</td>\n",
              "    </tr>\n",
              "    <tr>\n",
              "      <th>11</th>\n",
              "      <td>46482.00</td>\n",
              "      <td>Bachelors</td>\n",
              "      <td>14.00</td>\n",
              "      <td>12.00</td>\n",
              "      <td>5.00</td>\n",
              "      <td>Spain</td>\n",
              "      <td>Developer, back-end</td>\n",
              "      <td>Bash/Shell;HTML/CSS;JavaScript;Node.js;SQL;Typ...</td>\n",
              "      <td>29.50</td>\n",
              "    </tr>\n",
              "    <tr>\n",
              "      <th>12</th>\n",
              "      <td>77290.00</td>\n",
              "      <td>Masters</td>\n",
              "      <td>14.00</td>\n",
              "      <td>15.00</td>\n",
              "      <td>6.00</td>\n",
              "      <td>Germany</td>\n",
              "      <td>Developer, desktop or enterprise applications;...</td>\n",
              "      <td>C;C++;Java;Perl;Ruby</td>\n",
              "      <td>29.50</td>\n",
              "    </tr>\n",
              "    <tr>\n",
              "      <th>16</th>\n",
              "      <td>17748.00</td>\n",
              "      <td>Bachelors</td>\n",
              "      <td>7.50</td>\n",
              "      <td>6.00</td>\n",
              "      <td>2.00</td>\n",
              "      <td>Turkey</td>\n",
              "      <td>Developer, full-stack</td>\n",
              "      <td>C#;HTML/CSS;Java;JavaScript;Node.js</td>\n",
              "      <td>29.50</td>\n",
              "    </tr>\n",
              "    <tr>\n",
              "      <th>17</th>\n",
              "      <td>46135.00</td>\n",
              "      <td>Bachelors</td>\n",
              "      <td>14.00</td>\n",
              "      <td>9.00</td>\n",
              "      <td>6.00</td>\n",
              "      <td>Canada</td>\n",
              "      <td>Developer, front-end;Developer, full-stack;Dev...</td>\n",
              "      <td>Bash/Shell;HTML/CSS;JavaScript;PHP;Ruby;SQL</td>\n",
              "      <td>29.50</td>\n",
              "    </tr>\n",
              "  </tbody>\n",
              "</table>\n",
              "</div>\n",
              "      <button class=\"colab-df-convert\" onclick=\"convertToInteractive('df-ac6f5745-dd5e-4a8a-bdeb-0449aa600adc')\"\n",
              "              title=\"Convert this dataframe to an interactive table.\"\n",
              "              style=\"display:none;\">\n",
              "        \n",
              "  <svg xmlns=\"http://www.w3.org/2000/svg\" height=\"24px\"viewBox=\"0 0 24 24\"\n",
              "       width=\"24px\">\n",
              "    <path d=\"M0 0h24v24H0V0z\" fill=\"none\"/>\n",
              "    <path d=\"M18.56 5.44l.94 2.06.94-2.06 2.06-.94-2.06-.94-.94-2.06-.94 2.06-2.06.94zm-11 1L8.5 8.5l.94-2.06 2.06-.94-2.06-.94L8.5 2.5l-.94 2.06-2.06.94zm10 10l.94 2.06.94-2.06 2.06-.94-2.06-.94-.94-2.06-.94 2.06-2.06.94z\"/><path d=\"M17.41 7.96l-1.37-1.37c-.4-.4-.92-.59-1.43-.59-.52 0-1.04.2-1.43.59L10.3 9.45l-7.72 7.72c-.78.78-.78 2.05 0 2.83L4 21.41c.39.39.9.59 1.41.59.51 0 1.02-.2 1.41-.59l7.78-7.78 2.81-2.81c.8-.78.8-2.07 0-2.86zM5.41 20L4 18.59l7.72-7.72 1.47 1.35L5.41 20z\"/>\n",
              "  </svg>\n",
              "      </button>\n",
              "      \n",
              "  <style>\n",
              "    .colab-df-container {\n",
              "      display:flex;\n",
              "      flex-wrap:wrap;\n",
              "      gap: 12px;\n",
              "    }\n",
              "\n",
              "    .colab-df-convert {\n",
              "      background-color: #E8F0FE;\n",
              "      border: none;\n",
              "      border-radius: 50%;\n",
              "      cursor: pointer;\n",
              "      display: none;\n",
              "      fill: #1967D2;\n",
              "      height: 32px;\n",
              "      padding: 0 0 0 0;\n",
              "      width: 32px;\n",
              "    }\n",
              "\n",
              "    .colab-df-convert:hover {\n",
              "      background-color: #E2EBFA;\n",
              "      box-shadow: 0px 1px 2px rgba(60, 64, 67, 0.3), 0px 1px 3px 1px rgba(60, 64, 67, 0.15);\n",
              "      fill: #174EA6;\n",
              "    }\n",
              "\n",
              "    [theme=dark] .colab-df-convert {\n",
              "      background-color: #3B4455;\n",
              "      fill: #D2E3FC;\n",
              "    }\n",
              "\n",
              "    [theme=dark] .colab-df-convert:hover {\n",
              "      background-color: #434B5C;\n",
              "      box-shadow: 0px 1px 3px 1px rgba(0, 0, 0, 0.15);\n",
              "      filter: drop-shadow(0px 1px 2px rgba(0, 0, 0, 0.3));\n",
              "      fill: #FFFFFF;\n",
              "    }\n",
              "  </style>\n",
              "\n",
              "      <script>\n",
              "        const buttonEl =\n",
              "          document.querySelector('#df-ac6f5745-dd5e-4a8a-bdeb-0449aa600adc button.colab-df-convert');\n",
              "        buttonEl.style.display =\n",
              "          google.colab.kernel.accessAllowed ? 'block' : 'none';\n",
              "\n",
              "        async function convertToInteractive(key) {\n",
              "          const element = document.querySelector('#df-ac6f5745-dd5e-4a8a-bdeb-0449aa600adc');\n",
              "          const dataTable =\n",
              "            await google.colab.kernel.invokeFunction('convertToInteractive',\n",
              "                                                     [key], {});\n",
              "          if (!dataTable) return;\n",
              "\n",
              "          const docLinkHtml = 'Like what you see? Visit the ' +\n",
              "            '<a target=\"_blank\" href=https://colab.research.google.com/notebooks/data_table.ipynb>data table notebook</a>'\n",
              "            + ' to learn more about interactive tables.';\n",
              "          element.innerHTML = '';\n",
              "          dataTable['output_type'] = 'display_data';\n",
              "          await google.colab.output.renderOutput(dataTable, element);\n",
              "          const docLink = document.createElement('div');\n",
              "          docLink.innerHTML = docLinkHtml;\n",
              "          element.appendChild(docLink);\n",
              "        }\n",
              "      </script>\n",
              "    </div>\n",
              "  </div>\n",
              "  "
            ],
            "text/plain": [
              "    ConvertedCompYearly    EdLevel  Age1stCode  YearsCode  YearsCodePro  \\\n",
              "9              51552.00    Masters       14.00       7.00          4.00   \n",
              "11             46482.00  Bachelors       14.00      12.00          5.00   \n",
              "12             77290.00    Masters       14.00      15.00          6.00   \n",
              "16             17748.00  Bachelors        7.50       6.00          2.00   \n",
              "17             46135.00  Bachelors       14.00       9.00          6.00   \n",
              "\n",
              "    Country                                            DevType  \\\n",
              "9    Sweden      Data scientist or machine learning specialist   \n",
              "11    Spain                                Developer, back-end   \n",
              "12  Germany  Developer, desktop or enterprise applications;...   \n",
              "16   Turkey                              Developer, full-stack   \n",
              "17   Canada  Developer, front-end;Developer, full-stack;Dev...   \n",
              "\n",
              "                               LanguageHaveWorkedWith   Age  \n",
              "9                                          C++;Python 29.50  \n",
              "11  Bash/Shell;HTML/CSS;JavaScript;Node.js;SQL;Typ... 29.50  \n",
              "12                               C;C++;Java;Perl;Ruby 29.50  \n",
              "16                C#;HTML/CSS;Java;JavaScript;Node.js 29.50  \n",
              "17        Bash/Shell;HTML/CSS;JavaScript;PHP;Ruby;SQL 29.50  "
            ]
          },
          "execution_count": 6,
          "metadata": {},
          "output_type": "execute_result"
        }
      ],
      "source": [
        "path = './data/stack-overflow-developer-survey-2021/survey_results_public.csv'\n",
        "if IN_COLAB:\n",
        "  path = './drive/MyDrive/swe-salary-predictor/survey_results_public.csv'\n",
        "\n",
        "dl = DataLoader(path=path)\n",
        "df = dl.df\n",
        "df.head()"
      ]
    },
    {
      "cell_type": "code",
      "execution_count": null,
      "metadata": {
        "colab": {
          "base_uri": "https://localhost:8080/"
        },
        "id": "_fvpVzcy7-lz",
        "outputId": "f093253d-44ad-46d7-bf3f-63564f710153"
      },
      "outputs": [
        {
          "data": {
            "text/plain": [
              "ConvertedCompYearly       0\n",
              "EdLevel                   0\n",
              "Age1stCode                0\n",
              "YearsCode                 0\n",
              "YearsCodePro              0\n",
              "Country                   0\n",
              "DevType                   0\n",
              "LanguageHaveWorkedWith    0\n",
              "Age                       0\n",
              "dtype: int64"
            ]
          },
          "execution_count": 7,
          "metadata": {},
          "output_type": "execute_result"
        }
      ],
      "source": [
        "df.isna().sum()"
      ]
    },
    {
      "cell_type": "code",
      "execution_count": null,
      "metadata": {
        "colab": {
          "base_uri": "https://localhost:8080/"
        },
        "id": "mmCzTK5mfh_x",
        "outputId": "86b900d9-a4f1-4dc0-b8eb-ad0efb63bdf4"
      },
      "outputs": [
        {
          "data": {
            "text/plain": [
              "array([[0., 0., 0., 0., 0., 0., 0., 0., 0., 0., 0., 0., 0., 0., 0., 0.,\n",
              "        0., 0., 0., 0., 0., 0., 0., 0., 0., 0., 0., 0., 0., 0., 0., 0.,\n",
              "        0., 0., 0., 0., 0., 0., 0., 0., 0., 0., 0., 0., 0., 0., 0., 0.,\n",
              "        0., 0., 0., 0., 0., 0., 0., 0., 0., 0., 0., 0., 0., 0., 0., 0.,\n",
              "        0., 0., 0., 0., 0., 0., 0., 0., 0., 0., 0., 0., 0., 0., 0., 0.,\n",
              "        0., 0., 0., 0., 0., 0., 0., 0., 0., 0., 0., 0., 0., 0., 0., 0.,\n",
              "        0., 0., 0., 0., 0., 0., 0., 0., 0., 0., 0., 0., 0., 0., 0., 0.,\n",
              "        0., 0., 0., 0., 0., 0., 0., 0., 0., 0., 0., 0., 0., 0., 0., 0.,\n",
              "        0., 0., 0., 0., 0., 0., 0., 0., 0., 0., 0., 0., 0., 0., 0., 0.,\n",
              "        0., 0., 0., 0., 0., 0., 0., 0., 0., 0., 0., 0., 0., 0., 1., 0.,\n",
              "        0., 0., 0., 0., 0., 0.]])"
            ]
          },
          "execution_count": 8,
          "metadata": {},
          "output_type": "execute_result"
        }
      ],
      "source": [
        "# test out one hot encoding. get first USA row and see what it's encoded as\n",
        "row = df.loc[df['Country'] == \"United States of America\"].iloc[0]\n",
        "country_us = row[\"Country\"]\n",
        "country_us_encoded = dl.encodings[\"Country\"].transform(pd.DataFrame(data={\"Country\": [country_us]}))\n",
        "country_us_encoded"
      ]
    },
    {
      "cell_type": "code",
      "execution_count": null,
      "metadata": {
        "colab": {
          "base_uri": "https://localhost:8080/"
        },
        "id": "Uhfu2Tnvgds2",
        "outputId": "2c58b0bc-3093-48a1-dab2-665329971fb3"
      },
      "outputs": [
        {
          "name": "stdout",
          "output_type": "stream",
          "text": [
            "[-37379.26620951 -37701.65807953 -35740.49314329 -38083.74939931\n",
            " -35831.83772192]\n"
          ]
        }
      ],
      "source": [
        "# test linear regression on basic features\n",
        "X = df[['YearsCode', 'YearsCodePro', 'Age1stCode', 'Age']]\n",
        "y = df['ConvertedCompYearly']\n",
        "linreg = LinearRegression()\n",
        "print(cross_val_score(linreg, X, y, cv=5, scoring=\"neg_mean_absolute_error\"))"
      ]
    },
    {
      "cell_type": "code",
      "execution_count": null,
      "metadata": {
        "colab": {
          "base_uri": "https://localhost:8080/"
        },
        "id": "EvrtuELahpIw",
        "outputId": "4ea9375e-0a64-4e7e-9750-17b2d4feb48f"
      },
      "outputs": [
        {
          "data": {
            "text/plain": [
              "array([-25437.00581885, -24502.05812508, -22829.50685396, -25764.91445198,\n",
              "       -24257.5998235 ])"
            ]
          },
          "execution_count": 10,
          "metadata": {},
          "output_type": "execute_result"
        }
      ],
      "source": [
        "# make transformer for one hot encoding and use in pipeline.\n",
        "# this doesn't actually use DataLoader.encoding['Country'] - maybe that's not needed?\n",
        "column_trans = make_column_transformer(\n",
        "    (OneHotEncoder(), [\"Country\"]),\n",
        "    remainder=\"passthrough\")\n",
        "X = df[['YearsCode', 'YearsCodePro', 'Age1stCode', 'Age', 'Country']]\n",
        "column_trans.fit_transform(X)\n",
        "pipe = make_pipeline(column_trans, linreg)\n",
        "cross_val_score(pipe, X, y, cv=5, scoring=\"neg_mean_absolute_error\")"
      ]
    },
    {
      "cell_type": "markdown",
      "metadata": {
        "id": "I_Pf4GpNiecF"
      },
      "source": [
        "# TODO\n",
        "- Apply this pipeline/transformer to the keras model built below? And seperately use the transformer for making new inputs for predictions.\n",
        "- Alternatively, extract df encoding tranformations logic out of `DataLoader.get_df()` so it can be applied to both the preprocessing of initial `df` and when we make inputs."
      ]
    },
    {
      "cell_type": "markdown",
      "metadata": {
        "id": "fHxVa-dxhP89"
      },
      "source": [
        "Alternative Linear Regression baseline\n"
      ]
    },
    {
      "cell_type": "code",
      "execution_count": null,
      "metadata": {
        "id": "b2fdaFSb7-l1"
      },
      "outputs": [],
      "source": [
        "# reg = LinearRegression()\n",
        "# label = 'ConvertedCompYearly'\n",
        "# labels = df[label]\n",
        "# train = df.drop([label], axis=1)"
      ]
    },
    {
      "cell_type": "code",
      "execution_count": null,
      "metadata": {
        "id": "IafWJpzj7-l2"
      },
      "outputs": [],
      "source": [
        "# x_train, x_test, y_train, y_test = train_test_split(train, labels, test_size=0.2, random_state=1776)"
      ]
    },
    {
      "cell_type": "code",
      "execution_count": null,
      "metadata": {
        "id": "Qed_7fvn7-l4"
      },
      "outputs": [],
      "source": [
        "# # unencoded columns will raise exception: EdLevel, Country, DevType, LanguageHaveWorkedWith\n",
        "# reg.fit(x_train, y_train)"
      ]
    },
    {
      "cell_type": "code",
      "execution_count": null,
      "metadata": {
        "id": "mgZtcVEo7-l6"
      },
      "outputs": [],
      "source": [
        "# def performance(x, y, name):\n",
        "#     y_predict = reg.predict(x)\n",
        "#     rmse = (np.sqrt(mean_squared_error(y, y_predict)))\n",
        "#     r2 = r2_score(y, y_predict)\n",
        "\n",
        "#     print(name)\n",
        "#     print(f'  rmse={rmse}, r2={r2}')\n",
        "\n",
        "\n",
        "# performance(x_train, y_train, 'train')\n",
        "# performance(x_test, y_test, 'test')"
      ]
    },
    {
      "cell_type": "code",
      "execution_count": null,
      "metadata": {
        "colab": {
          "base_uri": "https://localhost:8080/"
        },
        "id": "3eHzwT2I7-l7",
        "outputId": "1e7ea5de-7bfb-42f2-cd9d-bc9e06933642"
      },
      "outputs": [
        {
          "name": "stdout",
          "output_type": "stream",
          "text": [
            "_start_pipeline:\n",
            "  runtime=0:00:00.015474, end shape=(83439, 48)\n",
            "_select:\n",
            "  runtime=0:00:00.058466, end shape=(40627, 9)\n",
            "_clean:\n",
            "  runtime=0:00:00.188896, end shape=(40627, 9)\n",
            "_remove_outliers:\n",
            "  runtime=0:00:00.015446, end shape=(31610, 9)\n",
            "_handle_missing:\n",
            "  runtime=0:00:00.003634, end shape=(31610, 9)\n",
            "    ConvertedCompYearly  Age1stCode  YearsCode  YearsCodePro   Age\n",
            "9              51552.00       14.00       7.00          4.00 29.50\n",
            "11             46482.00       14.00      12.00          5.00 29.50\n",
            "12             77290.00       14.00      15.00          6.00 29.50\n",
            "16             17748.00        7.50       6.00          2.00 29.50\n",
            "17             46135.00       14.00       9.00          6.00 29.50\n",
            "[[16.05023  15.330842  9.626164 33.570713]]\n",
            "First example: [[21.  10.   5.  29.5]]\n",
            "\n",
            "First example Normalized: [[ 0.72 -0.57 -0.59 -0.46]]\n"
          ]
        }
      ],
      "source": [
        "import tensorflow as tf\n",
        "from tensorflow import keras\n",
        "\n",
        "dl = DataLoader(path=path)\n",
        "df = dl.df.drop(['EdLevel', 'Country', 'DevType','LanguageHaveWorkedWith'], axis=1)\n",
        "print(df.head())\n",
        "\n",
        "train_dataset = df.sample(frac=0.8, random_state=0)\n",
        "test_dataset = df.drop(train_dataset.index)\n",
        "train_features = train_dataset.copy()\n",
        "test_features = test_dataset.copy()\n",
        "train_labels = train_features.pop('ConvertedCompYearly')\n",
        "test_labels = test_features.pop('ConvertedCompYearly')\n",
        "train_dataset.describe().transpose()[['mean', 'std']]\n",
        "\n",
        "normalizer = tf.keras.layers.Normalization(axis=-1)\n",
        "normalizer.adapt(np.array(train_features))\n",
        "print(normalizer.mean.numpy())\n",
        "\n",
        "\n",
        "first = np.array(train_features[:1])\n",
        "\n",
        "with np.printoptions(precision=2, suppress=True):\n",
        "  print('First example:', first)\n",
        "  print()\n",
        "  print('First example Normalized:', normalizer(first).numpy())"
      ]
    },
    {
      "cell_type": "markdown",
      "metadata": {
        "id": "lONyaJt3AJCo"
      },
      "source": [
        "# Choosing the Right Loss Function"
      ]
    },
    {
      "cell_type": "markdown",
      "metadata": {
        "id": "-jWRFM4TPcOi"
      },
      "source": [
        "Why mean squared error? \n",
        "- gets rid of negatives, but this is also a feature of mean absolute error\n",
        "- punishes large errors more\n",
        "\n",
        "This is also what Chollete generally recommends for regression to arbitrary values (as opposed to 0 and 1) in Chapter 4 of \"Deep Learning with Python.\""
      ]
    },
    {
      "cell_type": "markdown",
      "metadata": {
        "id": "LgEbWCIKQ26R"
      },
      "source": [
        "![image.png](data:image/png;base64,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)"
      ]
    },
    {
      "cell_type": "markdown",
      "metadata": {
        "id": "mO5a6QxGACxt"
      },
      "source": [
        "# Common Sense Baseline"
      ]
    },
    {
      "cell_type": "markdown",
      "metadata": {
        "id": "okqZeIadRxkh"
      },
      "source": [
        "Linear regression with single feature ('YearsCodePro')"
      ]
    },
    {
      "cell_type": "code",
      "execution_count": null,
      "metadata": {
        "id": "gjcJIZIoZhxi"
      },
      "outputs": [],
      "source": [
        "years_code_pro = np.array(train_features['YearsCodePro'])\n",
        "\n",
        "ycp_normalizer = keras.layers.Normalization(input_shape=[1,], axis=None)\n",
        "ycp_normalizer.adapt(years_code_pro)"
      ]
    },
    {
      "cell_type": "code",
      "execution_count": null,
      "metadata": {
        "colab": {
          "base_uri": "https://localhost:8080/"
        },
        "id": "e2IZN9bySRol",
        "outputId": "8be103bf-36dd-40f8-e5e9-52489cac870c"
      },
      "outputs": [
        {
          "name": "stdout",
          "output_type": "stream",
          "text": [
            "Model: \"sequential\"\n",
            "_________________________________________________________________\n",
            " Layer (type)                Output Shape              Param #   \n",
            "=================================================================\n",
            " normalization_1 (Normalizat  (None, 1)                3         \n",
            " ion)                                                            \n",
            "                                                                 \n",
            " dense (Dense)               (None, 1)                 2         \n",
            "                                                                 \n",
            "=================================================================\n",
            "Total params: 5\n",
            "Trainable params: 2\n",
            "Non-trainable params: 3\n",
            "_________________________________________________________________\n"
          ]
        }
      ],
      "source": [
        "ycp_model = keras.Sequential([\n",
        "    ycp_normalizer,\n",
        "    keras.layers.Dense(1)\n",
        "])\n",
        "ycp_model.summary()"
      ]
    },
    {
      "cell_type": "code",
      "execution_count": null,
      "metadata": {
        "colab": {
          "base_uri": "https://localhost:8080/"
        },
        "id": "X9P089eCb30F",
        "outputId": "92eb7b8e-03ac-4a43-d8cc-4c240a2594bf"
      },
      "outputs": [
        {
          "data": {
            "text/plain": [
              "array([[ 0.9721894 ],\n",
              "       [ 0.7620392 ],\n",
              "       [-2.8105142 ],\n",
              "       [-0.07856162],\n",
              "       [ 1.60264   ],\n",
              "       [ 0.9721894 ],\n",
              "       [ 1.1823397 ],\n",
              "       [ 1.60264   ],\n",
              "       [-2.1800637 ],\n",
              "       [ 0.9721894 ]], dtype=float32)"
            ]
          },
          "execution_count": 18,
          "metadata": {},
          "output_type": "execute_result"
        }
      ],
      "source": [
        "ycp_model.predict(years_code_pro[:10])"
      ]
    },
    {
      "cell_type": "code",
      "execution_count": null,
      "metadata": {
        "id": "oRCtyOVaTEB6"
      },
      "outputs": [],
      "source": [
        "ycp_model.compile(\n",
        "    optimizer=tf.optimizers.Adam(learning_rate=0.01),\n",
        "    loss='mean_squared_error'\n",
        ")"
      ]
    },
    {
      "cell_type": "code",
      "execution_count": null,
      "metadata": {
        "colab": {
          "base_uri": "https://localhost:8080/"
        },
        "id": "CIdNblwcTYDG",
        "outputId": "180c0e35-1ff5-451a-883a-040476c5516b"
      },
      "outputs": [
        {
          "name": "stdout",
          "output_type": "stream",
          "text": [
            "8702258176.0\n",
            "CPU times: user 1min 25s, sys: 14.6 s, total: 1min 39s\n",
            "Wall time: 55.3 s\n"
          ]
        }
      ],
      "source": [
        "%%time\n",
        "ycp_history = ycp_model.fit(\n",
        "    train_features['YearsCodePro'],\n",
        "    train_labels,\n",
        "    validation_split = 0.2,\n",
        "    epochs=50,\n",
        "    verbose=0)\n",
        "\n",
        "MODELS = {\n",
        "    \"ycp\": ycp_model.evaluate(test_features['YearsCodePro'], test_labels, verbose=0)\n",
        "}\n",
        "\n",
        "print(MODELS[\"ycp\"])"
      ]
    },
    {
      "cell_type": "code",
      "execution_count": null,
      "metadata": {
        "id": "icY63p1liX_3"
      },
      "outputs": [],
      "source": [
        "def plot_loss(history):\n",
        "  plt.plot(history.history['loss'])\n",
        "  plt.plot(history.history['val_loss'])\n",
        "  plt.title('model loss')\n",
        "  plt.ylabel('loss')\n",
        "  plt.xlabel('epoch')\n",
        "  plt.legend(['train', 'test'], loc='upper left')\n",
        "  plt.show()"
      ]
    },
    {
      "cell_type": "code",
      "execution_count": null,
      "metadata": {
        "colab": {
          "base_uri": "https://localhost:8080/",
          "height": 301
        },
        "id": "pVR9UNAZicIJ",
        "outputId": "69a81b38-fa12-462a-ae8c-b36ab73ebc91"
      },
      "outputs": [
        {
          "data": {
            "image/png": "[encoded data removed]",
            "text/plain": [
              "<Figure size 432x288 with 1 Axes>"
            ]
          },
          "metadata": {},
          "output_type": "display_data"
        }
      ],
      "source": [
        "plot_loss(ycp_history)"
      ]
    },
    {
      "cell_type": "code",
      "execution_count": null,
      "metadata": {
        "colab": {
          "base_uri": "https://localhost:8080/",
          "height": 206
        },
        "id": "EgnmYvtBXV5W",
        "outputId": "bd15287b-ff0e-4ab5-e4e1-064c27e9e38b"
      },
      "outputs": [
        {
          "data": {
            "text/html": [
              "\n",
              "  <div id=\"df-d9198ed2-ff0c-4787-8a2c-dcf51bf89e74\">\n",
              "    <div class=\"colab-df-container\">\n",
              "      <div>\n",
              "<style scoped>\n",
              "    .dataframe tbody tr th:only-of-type {\n",
              "        vertical-align: middle;\n",
              "    }\n",
              "\n",
              "    .dataframe tbody tr th {\n",
              "        vertical-align: top;\n",
              "    }\n",
              "\n",
              "    .dataframe thead th {\n",
              "        text-align: right;\n",
              "    }\n",
              "</style>\n",
              "<table border=\"1\" class=\"dataframe\">\n",
              "  <thead>\n",
              "    <tr style=\"text-align: right;\">\n",
              "      <th></th>\n",
              "      <th>loss</th>\n",
              "      <th>val_loss</th>\n",
              "      <th>epoch</th>\n",
              "    </tr>\n",
              "  </thead>\n",
              "  <tbody>\n",
              "    <tr>\n",
              "      <th>45</th>\n",
              "      <td>8922126336.00</td>\n",
              "      <td>8818417664.00</td>\n",
              "      <td>45</td>\n",
              "    </tr>\n",
              "    <tr>\n",
              "      <th>46</th>\n",
              "      <td>8921009152.00</td>\n",
              "      <td>8817272832.00</td>\n",
              "      <td>46</td>\n",
              "    </tr>\n",
              "    <tr>\n",
              "      <th>47</th>\n",
              "      <td>8919898112.00</td>\n",
              "      <td>8816116736.00</td>\n",
              "      <td>47</td>\n",
              "    </tr>\n",
              "    <tr>\n",
              "      <th>48</th>\n",
              "      <td>8918775808.00</td>\n",
              "      <td>8814964736.00</td>\n",
              "      <td>48</td>\n",
              "    </tr>\n",
              "    <tr>\n",
              "      <th>49</th>\n",
              "      <td>8917660672.00</td>\n",
              "      <td>8813812736.00</td>\n",
              "      <td>49</td>\n",
              "    </tr>\n",
              "  </tbody>\n",
              "</table>\n",
              "</div>\n",
              "      <button class=\"colab-df-convert\" onclick=\"convertToInteractive('df-d9198ed2-ff0c-4787-8a2c-dcf51bf89e74')\"\n",
              "              title=\"Convert this dataframe to an interactive table.\"\n",
              "              style=\"display:none;\">\n",
              "        \n",
              "  <svg xmlns=\"http://www.w3.org/2000/svg\" height=\"24px\"viewBox=\"0 0 24 24\"\n",
              "       width=\"24px\">\n",
              "    <path d=\"M0 0h24v24H0V0z\" fill=\"none\"/>\n",
              "    <path d=\"M18.56 5.44l.94 2.06.94-2.06 2.06-.94-2.06-.94-.94-2.06-.94 2.06-2.06.94zm-11 1L8.5 8.5l.94-2.06 2.06-.94-2.06-.94L8.5 2.5l-.94 2.06-2.06.94zm10 10l.94 2.06.94-2.06 2.06-.94-2.06-.94-.94-2.06-.94 2.06-2.06.94z\"/><path d=\"M17.41 7.96l-1.37-1.37c-.4-.4-.92-.59-1.43-.59-.52 0-1.04.2-1.43.59L10.3 9.45l-7.72 7.72c-.78.78-.78 2.05 0 2.83L4 21.41c.39.39.9.59 1.41.59.51 0 1.02-.2 1.41-.59l7.78-7.78 2.81-2.81c.8-.78.8-2.07 0-2.86zM5.41 20L4 18.59l7.72-7.72 1.47 1.35L5.41 20z\"/>\n",
              "  </svg>\n",
              "      </button>\n",
              "      \n",
              "  <style>\n",
              "    .colab-df-container {\n",
              "      display:flex;\n",
              "      flex-wrap:wrap;\n",
              "      gap: 12px;\n",
              "    }\n",
              "\n",
              "    .colab-df-convert {\n",
              "      background-color: #E8F0FE;\n",
              "      border: none;\n",
              "      border-radius: 50%;\n",
              "      cursor: pointer;\n",
              "      display: none;\n",
              "      fill: #1967D2;\n",
              "      height: 32px;\n",
              "      padding: 0 0 0 0;\n",
              "      width: 32px;\n",
              "    }\n",
              "\n",
              "    .colab-df-convert:hover {\n",
              "      background-color: #E2EBFA;\n",
              "      box-shadow: 0px 1px 2px rgba(60, 64, 67, 0.3), 0px 1px 3px 1px rgba(60, 64, 67, 0.15);\n",
              "      fill: #174EA6;\n",
              "    }\n",
              "\n",
              "    [theme=dark] .colab-df-convert {\n",
              "      background-color: #3B4455;\n",
              "      fill: #D2E3FC;\n",
              "    }\n",
              "\n",
              "    [theme=dark] .colab-df-convert:hover {\n",
              "      background-color: #434B5C;\n",
              "      box-shadow: 0px 1px 3px 1px rgba(0, 0, 0, 0.15);\n",
              "      filter: drop-shadow(0px 1px 2px rgba(0, 0, 0, 0.3));\n",
              "      fill: #FFFFFF;\n",
              "    }\n",
              "  </style>\n",
              "\n",
              "      <script>\n",
              "        const buttonEl =\n",
              "          document.querySelector('#df-d9198ed2-ff0c-4787-8a2c-dcf51bf89e74 button.colab-df-convert');\n",
              "        buttonEl.style.display =\n",
              "          google.colab.kernel.accessAllowed ? 'block' : 'none';\n",
              "\n",
              "        async function convertToInteractive(key) {\n",
              "          const element = document.querySelector('#df-d9198ed2-ff0c-4787-8a2c-dcf51bf89e74');\n",
              "          const dataTable =\n",
              "            await google.colab.kernel.invokeFunction('convertToInteractive',\n",
              "                                                     [key], {});\n",
              "          if (!dataTable) return;\n",
              "\n",
              "          const docLinkHtml = 'Like what you see? Visit the ' +\n",
              "            '<a target=\"_blank\" href=https://colab.research.google.com/notebooks/data_table.ipynb>data table notebook</a>'\n",
              "            + ' to learn more about interactive tables.';\n",
              "          element.innerHTML = '';\n",
              "          dataTable['output_type'] = 'display_data';\n",
              "          await google.colab.output.renderOutput(dataTable, element);\n",
              "          const docLink = document.createElement('div');\n",
              "          docLink.innerHTML = docLinkHtml;\n",
              "          element.appendChild(docLink);\n",
              "        }\n",
              "      </script>\n",
              "    </div>\n",
              "  </div>\n",
              "  "
            ],
            "text/plain": [
              "            loss      val_loss  epoch\n",
              "45 8922126336.00 8818417664.00     45\n",
              "46 8921009152.00 8817272832.00     46\n",
              "47 8919898112.00 8816116736.00     47\n",
              "48 8918775808.00 8814964736.00     48\n",
              "49 8917660672.00 8813812736.00     49"
            ]
          },
          "execution_count": 23,
          "metadata": {},
          "output_type": "execute_result"
        }
      ],
      "source": [
        "ycp_hist_df = pd.DataFrame(ycp_history.history)\n",
        "ycp_hist_df['epoch'] = ycp_history.epoch\n",
        "ycp_hist_df.tail()"
      ]
    },
    {
      "cell_type": "markdown",
      "metadata": {
        "id": "hs-DSlYkiCWl"
      },
      "source": [
        "Linear regression with more features (not encoded)\n",
        "\n"
      ]
    },
    {
      "cell_type": "code",
      "execution_count": null,
      "metadata": {
        "colab": {
          "base_uri": "https://localhost:8080/"
        },
        "id": "mpour02AfLA2",
        "outputId": "d31b718c-18d9-4ae1-8f86-aa951d08e4f9"
      },
      "outputs": [
        {
          "name": "stdout",
          "output_type": "stream",
          "text": [
            "Model: \"sequential_1\"\n",
            "_________________________________________________________________\n",
            " Layer (type)                Output Shape              Param #   \n",
            "=================================================================\n",
            " normalization (Normalizatio  (None, 4)                9         \n",
            " n)                                                              \n",
            "                                                                 \n",
            " dense_1 (Dense)             (None, 1)                 5         \n",
            "                                                                 \n",
            "=================================================================\n",
            "Total params: 14\n",
            "Trainable params: 5\n",
            "Non-trainable params: 9\n",
            "_________________________________________________________________\n"
          ]
        }
      ],
      "source": [
        "lr_model = keras.Sequential([\n",
        "    normalizer,\n",
        "    keras.layers.Dense(1)\n",
        "])\n",
        "lr_model.summary()"
      ]
    },
    {
      "cell_type": "code",
      "execution_count": null,
      "metadata": {
        "id": "nvs5tByNfRwA"
      },
      "outputs": [],
      "source": [
        "lr_model.compile(\n",
        "    optimizer=tf.optimizers.Adam(learning_rate=0.001),\n",
        "    # loss='mean_squared_error'\n",
        "    loss='mean_absolute_error'\n",
        ")"
      ]
    },
    {
      "cell_type": "code",
      "execution_count": null,
      "metadata": {
        "colab": {
          "base_uri": "https://localhost:8080/"
        },
        "id": "-6DU0JXrfVyk",
        "outputId": "0992e25e-d9e6-4756-da95-cac71e18e446"
      },
      "outputs": [
        {
          "name": "stdout",
          "output_type": "stream",
          "text": [
            "78428.9140625\n",
            "CPU times: user 1min 26s, sys: 14.6 s, total: 1min 40s\n",
            "Wall time: 55.9 s\n"
          ]
        }
      ],
      "source": [
        "%%time\n",
        "lr_history = lr_model.fit(\n",
        "    train_features,\n",
        "    train_labels,\n",
        "    validation_split = 0.2,\n",
        "    epochs=50,\n",
        "    verbose=0)\n",
        "\n",
        "MODELS = {\n",
        "    \"lr\": lr_model.evaluate(test_features, test_labels, verbose=0)\n",
        "}\n",
        "\n",
        "print(MODELS[\"lr\"])"
      ]
    },
    {
      "cell_type": "code",
      "execution_count": null,
      "metadata": {
        "colab": {
          "base_uri": "https://localhost:8080/",
          "height": 301
        },
        "id": "mVRtPJUWU69w",
        "outputId": "c5ca0e75-fc22-4d6a-c657-f0161f999f9f"
      },
      "outputs": [
        {
          "data": {
            "image/png": "[encoded data removed]",
            "text/plain": [
              "<Figure size 432x288 with 1 Axes>"
            ]
          },
          "metadata": {},
          "output_type": "display_data"
        }
      ],
      "source": [
        "plot_loss(ycp_history)"
      ]
    },
    {
      "cell_type": "code",
      "execution_count": null,
      "metadata": {
        "colab": {
          "base_uri": "https://localhost:8080/"
        },
        "id": "50ewjeIn7-l8",
        "outputId": "470b8759-29dc-4c28-f349-42b45ce70bbb"
      },
      "outputs": [
        {
          "name": "stdout",
          "output_type": "stream",
          "text": [
            "Model: \"sequential_2\"\n",
            "_________________________________________________________________\n",
            " Layer (type)                Output Shape              Param #   \n",
            "=================================================================\n",
            " normalization (Normalizatio  (None, 4)                9         \n",
            " n)                                                              \n",
            "                                                                 \n",
            " dense_2 (Dense)             (None, 64)                320       \n",
            "                                                                 \n",
            " dense_3 (Dense)             (None, 64)                4160      \n",
            "                                                                 \n",
            " dense_4 (Dense)             (None, 1)                 65        \n",
            "                                                                 \n",
            "=================================================================\n",
            "Total params: 4,554\n",
            "Trainable params: 4,545\n",
            "Non-trainable params: 9\n",
            "_________________________________________________________________\n",
            "None\n"
          ]
        }
      ],
      "source": [
        "def build_model():\n",
        "  model = keras.Sequential([\n",
        "      normalizer,\n",
        "      keras.layers.Dense(64, activation='relu'),\n",
        "      keras.layers.Dense(64, activation='relu'),\n",
        "      keras.layers.Dense(1)\n",
        "  ])\n",
        "\n",
        "  model.compile(optimizer=tf.keras.optimizers.Adam(0.001),\n",
        "                # loss='mean_squared_error',\n",
        "                loss='mean_absolute_error')\n",
        "  return model\n",
        "\n",
        "dnn1_model = build_model()\n",
        "print(dnn1_model.summary())"
      ]
    },
    {
      "cell_type": "code",
      "execution_count": null,
      "metadata": {
        "colab": {
          "base_uri": "https://localhost:8080/"
        },
        "id": "tohl9q-r7-l-",
        "outputId": "250c8a72-e146-4a25-9480-592df8926590"
      },
      "outputs": [
        {
          "name": "stdout",
          "output_type": "stream",
          "text": [
            "Epoch 1/50\n",
            "633/633 [==============================] - 2s 2ms/step - loss: 77543.0859 - val_loss: 72139.7109\n",
            "Epoch 2/50\n",
            "633/633 [==============================] - 1s 2ms/step - loss: 58783.0273 - val_loss: 45765.0625\n",
            "Epoch 3/50\n",
            "633/633 [==============================] - 1s 2ms/step - loss: 42238.0625 - val_loss: 40420.8672\n",
            "Epoch 4/50\n",
            "633/633 [==============================] - 1s 2ms/step - loss: 39270.1641 - val_loss: 38633.0469\n",
            "Epoch 5/50\n",
            "633/633 [==============================] - 1s 2ms/step - loss: 37678.8711 - val_loss: 37399.7227\n",
            "Epoch 6/50\n",
            "633/633 [==============================] - 1s 2ms/step - loss: 36657.0156 - val_loss: 36654.6836\n",
            "Epoch 7/50\n",
            "633/633 [==============================] - 1s 2ms/step - loss: 36082.7344 - val_loss: 36214.1367\n",
            "Epoch 8/50\n",
            "633/633 [==============================] - 1s 2ms/step - loss: 35779.0625 - val_loss: 35953.0469\n",
            "Epoch 9/50\n",
            "633/633 [==============================] - 2s 2ms/step - loss: 35624.2266 - val_loss: 35831.8867\n",
            "Epoch 10/50\n",
            "633/633 [==============================] - 1s 2ms/step - loss: 35555.5430 - val_loss: 35766.8672\n",
            "Epoch 11/50\n",
            "633/633 [==============================] - 1s 2ms/step - loss: 35517.8164 - val_loss: 35716.4609\n",
            "Epoch 12/50\n",
            "633/633 [==============================] - 1s 2ms/step - loss: 35500.0273 - val_loss: 35689.6211\n",
            "Epoch 13/50\n",
            "633/633 [==============================] - 1s 2ms/step - loss: 35485.5000 - val_loss: 35676.3867\n",
            "Epoch 14/50\n",
            "633/633 [==============================] - 1s 2ms/step - loss: 35476.8398 - val_loss: 35661.6328\n",
            "Epoch 15/50\n",
            "633/633 [==============================] - 1s 2ms/step - loss: 35469.0664 - val_loss: 35663.0039\n",
            "Epoch 16/50\n",
            "633/633 [==============================] - 1s 2ms/step - loss: 35468.4961 - val_loss: 35645.2656\n",
            "Epoch 17/50\n",
            "633/633 [==============================] - 1s 2ms/step - loss: 35462.3867 - val_loss: 35634.3750\n",
            "Epoch 18/50\n",
            "633/633 [==============================] - 1s 2ms/step - loss: 35459.7070 - val_loss: 35630.2969\n",
            "Epoch 19/50\n",
            "633/633 [==============================] - 1s 2ms/step - loss: 35456.6328 - val_loss: 35642.6523\n",
            "Epoch 20/50\n",
            "633/633 [==============================] - 1s 2ms/step - loss: 35454.2109 - val_loss: 35621.5312\n",
            "Epoch 21/50\n",
            "633/633 [==============================] - 1s 2ms/step - loss: 35451.9453 - val_loss: 35610.0508\n",
            "Epoch 22/50\n",
            "633/633 [==============================] - 1s 2ms/step - loss: 35450.1523 - val_loss: 35626.0547\n",
            "Epoch 23/50\n",
            "633/633 [==============================] - 1s 2ms/step - loss: 35451.5039 - val_loss: 35619.7109\n",
            "Epoch 24/50\n",
            "633/633 [==============================] - 1s 2ms/step - loss: 35448.3516 - val_loss: 35612.1836\n",
            "Epoch 25/50\n",
            "633/633 [==============================] - 1s 2ms/step - loss: 35446.3555 - val_loss: 35606.0039\n",
            "Epoch 26/50\n",
            "633/633 [==============================] - 1s 2ms/step - loss: 35443.7539 - val_loss: 35604.6797\n",
            "Epoch 27/50\n",
            "633/633 [==============================] - 1s 2ms/step - loss: 35443.1562 - val_loss: 35605.0469\n",
            "Epoch 28/50\n",
            "633/633 [==============================] - 1s 2ms/step - loss: 35442.6719 - val_loss: 35596.5000\n",
            "Epoch 29/50\n",
            "633/633 [==============================] - 1s 2ms/step - loss: 35443.9453 - val_loss: 35604.0742\n",
            "Epoch 30/50\n",
            "633/633 [==============================] - 1s 2ms/step - loss: 35441.3672 - val_loss: 35597.5312\n",
            "Epoch 31/50\n",
            "633/633 [==============================] - 1s 2ms/step - loss: 35439.5664 - val_loss: 35596.0781\n",
            "Epoch 32/50\n",
            "633/633 [==============================] - 1s 2ms/step - loss: 35434.9688 - val_loss: 35597.3320\n",
            "Epoch 33/50\n",
            "633/633 [==============================] - 1s 2ms/step - loss: 35439.8828 - val_loss: 35595.9414\n",
            "Epoch 34/50\n",
            "633/633 [==============================] - 1s 2ms/step - loss: 35438.7656 - val_loss: 35595.5508\n",
            "Epoch 35/50\n",
            "633/633 [==============================] - 1s 2ms/step - loss: 35434.7031 - val_loss: 35605.4258\n",
            "Epoch 36/50\n",
            "633/633 [==============================] - 1s 2ms/step - loss: 35434.4609 - val_loss: 35584.2656\n",
            "Epoch 37/50\n",
            "633/633 [==============================] - 1s 2ms/step - loss: 35435.7031 - val_loss: 35590.4766\n",
            "Epoch 38/50\n",
            "633/633 [==============================] - 1s 2ms/step - loss: 35432.4805 - val_loss: 35593.8398\n",
            "Epoch 39/50\n",
            "633/633 [==============================] - 1s 2ms/step - loss: 35436.2578 - val_loss: 35610.0039\n",
            "Epoch 40/50\n",
            "633/633 [==============================] - 3s 4ms/step - loss: 35434.4766 - val_loss: 35606.3047\n",
            "Epoch 41/50\n",
            "633/633 [==============================] - 3s 4ms/step - loss: 35433.6250 - val_loss: 35603.8984\n",
            "Epoch 42/50\n",
            "633/633 [==============================] - 2s 3ms/step - loss: 35430.0273 - val_loss: 35582.0195\n",
            "Epoch 43/50\n",
            "633/633 [==============================] - 2s 3ms/step - loss: 35432.5273 - val_loss: 35587.3359\n",
            "Epoch 44/50\n",
            "633/633 [==============================] - 2s 3ms/step - loss: 35431.8242 - val_loss: 35591.8750\n",
            "Epoch 45/50\n",
            "633/633 [==============================] - 2s 3ms/step - loss: 35431.4688 - val_loss: 35590.0547\n",
            "Epoch 46/50\n",
            "633/633 [==============================] - 2s 3ms/step - loss: 35431.1797 - val_loss: 35603.2188\n",
            "Epoch 47/50\n",
            "633/633 [==============================] - 2s 2ms/step - loss: 35427.8711 - val_loss: 35581.0938\n",
            "Epoch 48/50\n",
            "633/633 [==============================] - 1s 2ms/step - loss: 35430.3633 - val_loss: 35591.4180\n",
            "Epoch 49/50\n",
            "633/633 [==============================] - 2s 3ms/step - loss: 35430.8320 - val_loss: 35582.6719\n",
            "Epoch 50/50\n",
            "633/633 [==============================] - 2s 3ms/step - loss: 35428.8320 - val_loss: 35606.1328\n",
            "35040.15625\n",
            "CPU times: user 1min 47s, sys: 15.9 s, total: 2min 3s\n",
            "Wall time: 1min 20s\n"
          ]
        }
      ],
      "source": [
        "  %%time\n",
        "  history1 = dnn1_model.fit(\n",
        "      train_features,\n",
        "      train_labels,\n",
        "      validation_split=0.2, \n",
        "      epochs=50)\n",
        "  \n",
        "  MODELS['dnn1'] = dnn1_model.evaluate(test_features, test_labels, verbose=0)\n",
        "\n",
        "  print(MODELS['dnn1'])"
      ]
    },
    {
      "cell_type": "markdown",
      "metadata": {
        "id": "WrRB9nmCAOnZ"
      },
      "source": [
        "# Validating our approach"
      ]
    },
    {
      "cell_type": "markdown",
      "metadata": {
        "id": "TvJVnHFeQBUe"
      },
      "source": [
        "Finding the ideal number of epochs"
      ]
    },
    {
      "cell_type": "code",
      "execution_count": null,
      "metadata": {
        "colab": {
          "base_uri": "https://localhost:8080/"
        },
        "id": "69rYmLYk5Axq",
        "outputId": "06f594e8-cb02-46ac-a8e3-8448046905ea"
      },
      "outputs": [
        {
          "name": "stdout",
          "output_type": "stream",
          "text": [
            "dict_keys(['loss', 'val_loss'])\n"
          ]
        }
      ],
      "source": [
        "print(history1.history.keys())"
      ]
    },
    {
      "cell_type": "code",
      "execution_count": null,
      "metadata": {
        "colab": {
          "base_uri": "https://localhost:8080/",
          "height": 301
        },
        "id": "hmXWVA5f5c-1",
        "outputId": "55853675-72e9-4f21-eda8-f13ebef7cde9"
      },
      "outputs": [
        {
          "data": {
            "image/png": "[encoded data removed]",
            "text/plain": [
              "<Figure size 432x288 with 1 Axes>"
            ]
          },
          "metadata": {},
          "output_type": "display_data"
        }
      ],
      "source": [
        "plot_loss(history1)"
      ]
    },
    {
      "cell_type": "markdown",
      "metadata": {
        "id": "uOTubLMP5LBC"
      },
      "source": []
    },
    {
      "cell_type": "markdown",
      "metadata": {
        "id": "PYcW0bQZ5_NI"
      },
      "source": [
        "Now we can redefine the `build_model` function. It now takes a `hp` parameter which will be used to make hyper parameters for the number of units in a layer (ranging from 32 to 256 with a step of 32) and the number of layers to add."
      ]
    },
    {
      "cell_type": "code",
      "execution_count": null,
      "metadata": {
        "id": "8VYU-17v58sj"
      },
      "outputs": [],
      "source": [
        "def build_model(hp):\n",
        "  model = keras.Sequential() # might need to be keras.models.Sequential() ??\n",
        "\n",
        "  model.add(normalizer)\n",
        "  model.add(keras.layers.Dense(hp.Int(\"units\", min_value=32, max_value=256, step=32), activation='relu'))\n",
        "\n",
        "  for i in range(hp.Int(\"n_layers\", min_value=1, max_value=4)):\n",
        "    model.add(keras.layers.Dense(hp.Int(f\"units-{i}\", min_value=32, max_value=256, step=32), activation='relu'))\n",
        "\n",
        "  model.add(keras.layers.Dense(1))\n",
        "\n",
        "  model.compile(optimizer=tf.keras.optimizers.Adam(0.001),\n",
        "      # loss='mean_squared_error'\n",
        "      loss='mean_absolute_error')\n",
        "  return model"
      ]
    },
    {
      "cell_type": "code",
      "execution_count": null,
      "metadata": {
        "id": "R8xvJuSb0UyS"
      },
      "outputs": [],
      "source": [
        "tuner = kt.RandomSearch(\n",
        "    build_model,\n",
        "    objective = \"val_loss\",\n",
        "    max_trials = 3,\n",
        "    executions_per_trial = 1,\n",
        "    # directory = f'${int(time.time())}'\n",
        ")"
      ]
    },
    {
      "cell_type": "code",
      "execution_count": null,
      "metadata": {
        "colab": {
          "base_uri": "https://localhost:8080/"
        },
        "id": "6l1soqRkpsi3",
        "outputId": "57386fe2-abef-4cfc-d01e-6537c320aed2"
      },
      "outputs": [
        {
          "name": "stdout",
          "output_type": "stream",
          "text": [
            "Trial 3 Complete [00h 00m 21s]\n",
            "val_loss: 34791.80859375\n",
            "\n",
            "Best val_loss So Far: 34791.80859375\n",
            "Total elapsed time: 00h 00m 43s\n",
            "INFO:tensorflow:Oracle triggered exit\n"
          ]
        }
      ],
      "source": [
        "tuner.search(x=train_features,\n",
        "             y=train_labels,\n",
        "             epochs=10,\n",
        "             batch_size=64,\n",
        "             validation_data=(test_features, test_labels))"
      ]
    },
    {
      "cell_type": "code",
      "execution_count": null,
      "metadata": {
        "colab": {
          "base_uri": "https://localhost:8080/"
        },
        "id": "qMM6YmogBPhh",
        "outputId": "f66ea8fb-18df-4535-b0fd-214b607f3b67"
      },
      "outputs": [
        {
          "name": "stdout",
          "output_type": "stream",
          "text": [
            "{'units': 224, 'n_layers': 4, 'units-0': 192, 'units-1': 224, 'units-2': 160, 'units-3': 32}\n"
          ]
        }
      ],
      "source": [
        "print(tuner.get_best_hyperparameters()[0].values)"
      ]
    },
    {
      "cell_type": "code",
      "execution_count": null,
      "metadata": {
        "colab": {
          "base_uri": "https://localhost:8080/"
        },
        "id": "S3c7UyIJBW-s",
        "outputId": "387ed4d3-e7e8-4359-ab3e-305229e1e7fb"
      },
      "outputs": [
        {
          "name": "stdout",
          "output_type": "stream",
          "text": [
            "Results summary\n",
            "Results in ./untitled_project\n",
            "Showing 10 best trials\n",
            "<keras_tuner.engine.objective.Objective object at 0x7f56bc3a3610>\n",
            "Trial summary\n",
            "Hyperparameters:\n",
            "units: 224\n",
            "n_layers: 4\n",
            "units-0: 192\n",
            "units-1: 224\n",
            "units-2: 160\n",
            "units-3: 32\n",
            "Score: 34791.80859375\n",
            "Trial summary\n",
            "Hyperparameters:\n",
            "units: 224\n",
            "n_layers: 3\n",
            "units-0: 32\n",
            "units-1: 32\n",
            "units-2: 32\n",
            "Score: 35006.18359375\n",
            "Trial summary\n",
            "Hyperparameters:\n",
            "units: 160\n",
            "n_layers: 1\n",
            "units-0: 224\n",
            "Score: 35074.5078125\n",
            "None\n"
          ]
        }
      ],
      "source": [
        "print(tuner.results_summary())"
      ]
    },
    {
      "cell_type": "markdown",
      "metadata": {
        "id": "UXQPOue8dqfk"
      },
      "source": [
        "Now we can get the best model from our tuner using the `get_best_model` method."
      ]
    },
    {
      "cell_type": "code",
      "execution_count": null,
      "metadata": {
        "colab": {
          "base_uri": "https://localhost:8080/"
        },
        "id": "VOUQwIlcdHoz",
        "outputId": "555d31b3-068c-468e-aa47-c184958f5b2c"
      },
      "outputs": [
        {
          "name": "stdout",
          "output_type": "stream",
          "text": [
            "Model: \"sequential\"\n",
            "_________________________________________________________________\n",
            " Layer (type)                Output Shape              Param #   \n",
            "=================================================================\n",
            " normalization (Normalizatio  (None, 4)                9         \n",
            " n)                                                              \n",
            "                                                                 \n",
            " dense (Dense)               (None, 224)               1120      \n",
            "                                                                 \n",
            " dense_1 (Dense)             (None, 192)               43200     \n",
            "                                                                 \n",
            " dense_2 (Dense)             (None, 224)               43232     \n",
            "                                                                 \n",
            " dense_3 (Dense)             (None, 160)               36000     \n",
            "                                                                 \n",
            " dense_4 (Dense)             (None, 32)                5152      \n",
            "                                                                 \n",
            " dense_5 (Dense)             (None, 1)                 33        \n",
            "                                                                 \n",
            "=================================================================\n",
            "Total params: 128,746\n",
            "Trainable params: 128,737\n",
            "Non-trainable params: 9\n",
            "_________________________________________________________________\n",
            "None\n"
          ]
        }
      ],
      "source": [
        "best_model = tuner.get_best_models()[0]\n",
        "print(best_model.summary())"
      ]
    },
    {
      "cell_type": "markdown",
      "metadata": {
        "id": "5ciSzNmLwr4W"
      },
      "source": [
        "Now we can fit our data to the `best_model` and compare with the results from our preliminary model (before hyperparameter tuning)."
      ]
    },
    {
      "cell_type": "code",
      "execution_count": null,
      "metadata": {
        "colab": {
          "base_uri": "https://localhost:8080/"
        },
        "id": "6vijsw1Swq-B",
        "outputId": "db0d7ff7-e704-4324-9d82-564c51ca7f6f"
      },
      "outputs": [
        {
          "name": "stdout",
          "output_type": "stream",
          "text": [
            "Epoch 1/25\n",
            "633/633 [==============================] - 2s 3ms/step - loss: 35444.0742 - val_loss: 35467.6719\n",
            "Epoch 2/25\n",
            "633/633 [==============================] - 2s 3ms/step - loss: 35422.6172 - val_loss: 35418.1211\n",
            "Epoch 3/25\n",
            "633/633 [==============================] - 2s 3ms/step - loss: 35406.4102 - val_loss: 35438.8867\n",
            "Epoch 4/25\n",
            "633/633 [==============================] - 2s 3ms/step - loss: 35419.6484 - val_loss: 35408.8203\n",
            "Epoch 5/25\n",
            "633/633 [==============================] - 2s 3ms/step - loss: 35414.3711 - val_loss: 35581.0195\n",
            "Epoch 6/25\n",
            "633/633 [==============================] - 2s 3ms/step - loss: 35377.6992 - val_loss: 35677.2812\n",
            "Epoch 7/25\n",
            "633/633 [==============================] - 2s 3ms/step - loss: 35431.7617 - val_loss: 35457.8555\n",
            "Epoch 8/25\n",
            "633/633 [==============================] - 2s 3ms/step - loss: 35418.5000 - val_loss: 35426.0508\n",
            "Epoch 9/25\n",
            "633/633 [==============================] - 2s 3ms/step - loss: 35366.3438 - val_loss: 35624.8398\n",
            "Epoch 10/25\n",
            "633/633 [==============================] - 2s 3ms/step - loss: 35398.7344 - val_loss: 35419.6680\n",
            "Epoch 11/25\n",
            "633/633 [==============================] - 2s 3ms/step - loss: 35414.9688 - val_loss: 35953.8047\n",
            "Epoch 12/25\n",
            "633/633 [==============================] - 2s 3ms/step - loss: 35354.1836 - val_loss: 35552.0273\n",
            "Epoch 13/25\n",
            "633/633 [==============================] - 2s 3ms/step - loss: 35371.7266 - val_loss: 35829.9961\n",
            "Epoch 14/25\n",
            "633/633 [==============================] - 2s 3ms/step - loss: 35401.6797 - val_loss: 35789.0820\n",
            "Epoch 15/25\n",
            "633/633 [==============================] - 2s 3ms/step - loss: 35355.1484 - val_loss: 35446.0469\n",
            "Epoch 16/25\n",
            "633/633 [==============================] - 2s 3ms/step - loss: 35383.2031 - val_loss: 35711.6680\n",
            "Epoch 17/25\n",
            "633/633 [==============================] - 2s 3ms/step - loss: 35384.1719 - val_loss: 35453.7812\n",
            "Epoch 18/25\n",
            "633/633 [==============================] - 2s 3ms/step - loss: 35416.6172 - val_loss: 35588.0508\n",
            "Epoch 19/25\n",
            "633/633 [==============================] - 2s 3ms/step - loss: 35372.8320 - val_loss: 35425.3828\n",
            "Epoch 20/25\n",
            "633/633 [==============================] - 2s 3ms/step - loss: 35424.8828 - val_loss: 35942.3555\n",
            "Epoch 21/25\n",
            "633/633 [==============================] - 2s 3ms/step - loss: 35368.9766 - val_loss: 35377.9336\n",
            "Epoch 22/25\n",
            "633/633 [==============================] - 2s 3ms/step - loss: 35385.1523 - val_loss: 35423.4922\n",
            "Epoch 23/25\n",
            "633/633 [==============================] - 2s 3ms/step - loss: 35392.9219 - val_loss: 35368.1797\n",
            "Epoch 24/25\n",
            "633/633 [==============================] - 2s 3ms/step - loss: 35361.8281 - val_loss: 35496.0352\n",
            "Epoch 25/25\n",
            "633/633 [==============================] - 2s 3ms/step - loss: 35343.2539 - val_loss: 35382.6055\n",
            "34785.54296875\n",
            "CPU times: user 59.2 s, sys: 8.15 s, total: 1min 7s\n",
            "Wall time: 43.3 s\n"
          ]
        }
      ],
      "source": [
        "  %%time\n",
        "  history_best = best_model.fit(\n",
        "      train_features,\n",
        "      train_labels,\n",
        "      validation_split=0.2, \n",
        "      epochs=25)\n",
        "  \n",
        "  MODELS['best'] = best_model.evaluate(test_features, test_labels, verbose=0)\n",
        "\n",
        "  print(MODELS['best'])"
      ]
    },
    {
      "cell_type": "code",
      "execution_count": null,
      "metadata": {
        "colab": {
          "base_uri": "https://localhost:8080/",
          "height": 301
        },
        "id": "iwNrU7-RyPeP",
        "outputId": "5ad665d2-8886-4f43-fc49-34f2be7f6451"
      },
      "outputs": [
        {
          "data": {
            "image/png": "[encoded data removed]",
            "text/plain": [
              "<Figure size 432x288 with 1 Axes>"
            ]
          },
          "metadata": {},
          "output_type": "display_data"
        }
      ],
      "source": [
        "plot_loss(history_best)"
      ]
    },
    {
      "cell_type": "code",
      "execution_count": null,
      "metadata": {
        "id": "FO9ei2js2rRY"
      },
      "outputs": [],
      "source": [
        "# # make prediction and compare to baseline - is it way off?\n",
        "\n",
        "# # RAW_DATASET_LABELS = [\"ResponseId\",\"MainBranch\",\"Employment\",\"Country\",\"US_State\",\"UK_Country\",\"EdLevel\",\"Age1stCode\",\"LearnCode\",\"YearsCode\",\"YearsCodePro\",\"DevType\",\"OrgSize\",\"Currency\",\"CompTotal\",\"CompFreq\",\"LanguageHaveWorkedWith\",\"LanguageWantToWorkWith\",\"DatabaseHaveWorkedWith\",\"DatabaseWantToWorkWith\",\"PlatformHaveWorkedWith\",\"PlatformWantToWorkWith\",\"WebframeHaveWorkedWith\",\"WebframeWantToWorkWith\",\"MiscTechHaveWorkedWith\",\"MiscTechWantToWorkWith\",\"ToolsTechHaveWorkedWith\",\"ToolsTechWantToWorkWith\",\"NEWCollabToolsHaveWorkedWith\",\"NEWCollabToolsWantToWorkWith\",\"OpSys\",\"NEWStuck\",\"NEWSOSites\",\"SOVisitFreq\",\"SOAccount\",\"SOPartFreq\",\"SOComm\",\"NEWOtherComms\",\"Age\",\"Gender\",\"Trans\",\"Sexuality\",\"Ethnicity\",\"Accessibility\",\"MentalHealth\",\"SurveyLength\",\"SurveyEase\",\"ConvertedCompYearly\"]\n",
        "\n",
        "# def make_prediction_input(input_map):\n",
        "#     # required keys in inputMap: \n",
        "#     #   \"YearsCode\", \"YearsCodePro\", \"Country\", \"Age1stCode\", \"EdLevel\", \"Age\"\n",
        "\n",
        "#     defaults = {\n",
        "#         'ConvertedCompYearly': DataLoader.salary_min + 1, # any value that doesn't get filtered out\n",
        "#         'Employment': 'Employed full-time', # must be full time\n",
        "#         'DevType': None,\n",
        "#         'LanguageHaveWorkedWith': None\n",
        "#     }\n",
        "    \n",
        "#     for key in defaults.keys():\n",
        "#         if key not in input_map:\n",
        "#             input_map[key] = defaults[key]\n",
        "\n",
        "#     df = pd.DataFrame.from_records([input_map])\n",
        "#     dl = DataLoader(df=df)\n",
        "#     # df_input = dl.df[[\"YearsCode\", \"YearsCodePro\"]]\n",
        "\n",
        "#     print(df_input.head())\n",
        "#     row = df_input.iloc(0)[0]\n",
        "#     return list(row)\n",
        "\n",
        "# prediction_input = make_prediction_input({\n",
        "#     \"YearsCode\": 1,\n",
        "#     \"YearsCodePro\": 2,\n",
        "#     \"Country\": \"United States of America\",\n",
        "#     \"Age1stCode\": 16,\n",
        "#     \"EdLevel\": \"Bachelors\",\n",
        "#     \"Age\": 30,\n",
        "# })\n",
        "# print(prediction_input)"
      ]
    },
    {
      "cell_type": "code",
      "execution_count": null,
      "metadata": {
        "colab": {
          "base_uri": "https://localhost:8080/"
        },
        "id": "NGEjImpa6N9P",
        "outputId": "b6fe7816-0f36-4d2f-e261-60948d0af81d"
      },
      "outputs": [
        {
          "data": {
            "text/plain": [
              "{'Country': OneHotEncoder(sparse=False)}"
            ]
          },
          "execution_count": 41,
          "metadata": {},
          "output_type": "execute_result"
        }
      ],
      "source": [
        "dl.encodings"
      ]
    },
    {
      "cell_type": "markdown",
      "metadata": {
        "id": "grsdD9asHzJl"
      },
      "source": [
        "# Predict"
      ]
    },
    {
      "cell_type": "code",
      "execution_count": null,
      "metadata": {
        "colab": {
          "base_uri": "https://localhost:8080/"
        },
        "id": "tFVRT_g42aGp",
        "outputId": "c77a7d5b-919b-421e-e157-d878bf8c8ac9"
      },
      "outputs": [
        {
          "name": "stdout",
          "output_type": "stream",
          "text": [
            "WARNING:tensorflow:Model was constructed with shape (None, None) for input KerasTensor(type_spec=TensorSpec(shape=(None, None), dtype=tf.float32, name='normalization_input'), name='normalization_input', description=\"created by layer 'normalization_input'\"), but it was called on an input with incompatible shape (None,).\n"
          ]
        },
        {
          "data": {
            "text/plain": [
              "26655.191"
            ]
          },
          "execution_count": 42,
          "metadata": {},
          "output_type": "execute_result"
        }
      ],
      "source": [
        "# should not need to be normalized for predicting.\n",
        "# country should be OHE, else  OHE should be in model layer\n",
        "pred_input = np.array([1, 1, 1, 1])\n",
        "pred = best_model.predict(pred_input)[:, 0]\n",
        "pred[0]"
      ]
    },
    {
      "cell_type": "markdown",
      "metadata": {
        "id": "Y-Ga_jVlILR9"
      },
      "source": [
        "# Make model using encoded features"
      ]
    },
    {
      "cell_type": "code",
      "execution_count": null,
      "metadata": {
        "id": "MaNo90Rdk7QU"
      },
      "outputs": [],
      "source": [
        "def transform_df_ohe_country(df):\n",
        "  # returns df with countries as columns of 0 or 1\n",
        "\n",
        "  # encode\n",
        "  ohe = OneHotEncoder(categories = \"auto\")\n",
        "  feature_arr = ohe.fit_transform(df[['Country']]).toarray()\n",
        "  # merge encoded into df\n",
        "  df = merge_ohe(df, ohe, feature_arr)\n",
        "  # drop country\n",
        "  df = df.drop(['Country'], axis=1)\n",
        "  \n",
        "  return df, ohe\n",
        "\n",
        "def merge_ohe(df, ohe, feature_arr):\n",
        "  feature_labels = np.array(ohe.categories_).ravel()\n",
        "  df_features = pd.DataFrame(feature_arr, columns=feature_labels)\n",
        "  df.reset_index(drop=True, inplace=True)\n",
        "  df_features.reset_index(drop=True, inplace=True)\n",
        "  df = pd.concat([df, df_features], axis=1)\n",
        "  return df\n",
        "\n",
        "def transform_df_mlb_delimited_string(df, column):\n",
        "  # change delimited string to list\n",
        "  df[column] = df[column].apply(lambda x: x.split(';'))\n",
        "\n",
        "  mlb = MultiLabelBinarizer()\n",
        "  encoded = mlb.fit_transform(df.pop(column))\n",
        "\n",
        "  df = merge_mlb(df, mlb, encoded)\n",
        "  \n",
        "  return df, mlb\n",
        "  \n",
        "def merge_mlb(df, mlb, encoded):\n",
        "  return df.join(pd.DataFrame(encoded, columns=mlb.classes_, index=df.index))  \n",
        "\n",
        "def transform_df_oe(df):\n",
        "  oe = OrdinalEncoder(categories=[['Less than Associates', 'Associates', \n",
        "                                   'Bachelors', 'Masters', 'Doctorate']])\n",
        "  df['EdLevel'] = oe.fit_transform(df['EdLevel'].values.reshape(-1,1))\n",
        "  return df, oe\n",
        "\n"
      ]
    },
    {
      "cell_type": "code",
      "execution_count": null,
      "metadata": {
        "colab": {
          "base_uri": "https://localhost:8080/",
          "height": 236
        },
        "id": "CaYIE3_0NyaZ",
        "outputId": "759033fb-8ccf-4b25-fa0e-4263f1660e34"
      },
      "outputs": [
        {
          "data": {
            "text/html": [
              "\n",
              "  <div id=\"df-8bae987e-a9dc-4667-b118-f5938a8fb0f5\">\n",
              "    <div class=\"colab-df-container\">\n",
              "      <div>\n",
              "<style scoped>\n",
              "    .dataframe tbody tr th:only-of-type {\n",
              "        vertical-align: middle;\n",
              "    }\n",
              "\n",
              "    .dataframe tbody tr th {\n",
              "        vertical-align: top;\n",
              "    }\n",
              "\n",
              "    .dataframe thead th {\n",
              "        text-align: right;\n",
              "    }\n",
              "</style>\n",
              "<table border=\"1\" class=\"dataframe\">\n",
              "  <thead>\n",
              "    <tr style=\"text-align: right;\">\n",
              "      <th></th>\n",
              "      <th>EdLevel</th>\n",
              "      <th>Age1stCode</th>\n",
              "      <th>YearsCode</th>\n",
              "      <th>YearsCodePro</th>\n",
              "      <th>Age</th>\n",
              "      <th>Argentina</th>\n",
              "      <th>Australia</th>\n",
              "      <th>Austria</th>\n",
              "      <th>Belgium</th>\n",
              "      <th>Brazil</th>\n",
              "      <th>...</th>\n",
              "      <th>PowerShell</th>\n",
              "      <th>Python</th>\n",
              "      <th>R</th>\n",
              "      <th>Ruby</th>\n",
              "      <th>Rust</th>\n",
              "      <th>SQL</th>\n",
              "      <th>Scala</th>\n",
              "      <th>Swift</th>\n",
              "      <th>TypeScript</th>\n",
              "      <th>VBA</th>\n",
              "    </tr>\n",
              "  </thead>\n",
              "  <tbody>\n",
              "    <tr>\n",
              "      <th>21426</th>\n",
              "      <td>3.00</td>\n",
              "      <td>21.00</td>\n",
              "      <td>10.00</td>\n",
              "      <td>5.00</td>\n",
              "      <td>29.50</td>\n",
              "      <td>0.00</td>\n",
              "      <td>0.00</td>\n",
              "      <td>0.00</td>\n",
              "      <td>0.00</td>\n",
              "      <td>0.00</td>\n",
              "      <td>...</td>\n",
              "      <td>0</td>\n",
              "      <td>0</td>\n",
              "      <td>0</td>\n",
              "      <td>1</td>\n",
              "      <td>0</td>\n",
              "      <td>1</td>\n",
              "      <td>0</td>\n",
              "      <td>0</td>\n",
              "      <td>0</td>\n",
              "      <td>0</td>\n",
              "    </tr>\n",
              "    <tr>\n",
              "      <th>18</th>\n",
              "      <td>2.00</td>\n",
              "      <td>21.00</td>\n",
              "      <td>12.00</td>\n",
              "      <td>6.00</td>\n",
              "      <td>29.50</td>\n",
              "      <td>0.00</td>\n",
              "      <td>0.00</td>\n",
              "      <td>0.00</td>\n",
              "      <td>0.00</td>\n",
              "      <td>0.00</td>\n",
              "      <td>...</td>\n",
              "      <td>1</td>\n",
              "      <td>0</td>\n",
              "      <td>0</td>\n",
              "      <td>0</td>\n",
              "      <td>0</td>\n",
              "      <td>0</td>\n",
              "      <td>0</td>\n",
              "      <td>0</td>\n",
              "      <td>1</td>\n",
              "      <td>1</td>\n",
              "    </tr>\n",
              "    <tr>\n",
              "      <th>18438</th>\n",
              "      <td>3.00</td>\n",
              "      <td>14.00</td>\n",
              "      <td>26.00</td>\n",
              "      <td>23.00</td>\n",
              "      <td>39.50</td>\n",
              "      <td>0.00</td>\n",
              "      <td>0.00</td>\n",
              "      <td>0.00</td>\n",
              "      <td>0.00</td>\n",
              "      <td>0.00</td>\n",
              "      <td>...</td>\n",
              "      <td>0</td>\n",
              "      <td>0</td>\n",
              "      <td>0</td>\n",
              "      <td>0</td>\n",
              "      <td>0</td>\n",
              "      <td>0</td>\n",
              "      <td>0</td>\n",
              "      <td>0</td>\n",
              "      <td>1</td>\n",
              "      <td>0</td>\n",
              "    </tr>\n",
              "    <tr>\n",
              "      <th>18322</th>\n",
              "      <td>3.00</td>\n",
              "      <td>14.00</td>\n",
              "      <td>25.00</td>\n",
              "      <td>10.00</td>\n",
              "      <td>39.50</td>\n",
              "      <td>0.00</td>\n",
              "      <td>0.00</td>\n",
              "      <td>0.00</td>\n",
              "      <td>0.00</td>\n",
              "      <td>0.00</td>\n",
              "      <td>...</td>\n",
              "      <td>0</td>\n",
              "      <td>1</td>\n",
              "      <td>0</td>\n",
              "      <td>0</td>\n",
              "      <td>0</td>\n",
              "      <td>0</td>\n",
              "      <td>0</td>\n",
              "      <td>0</td>\n",
              "      <td>0</td>\n",
              "      <td>0</td>\n",
              "    </tr>\n",
              "    <tr>\n",
              "      <th>13802</th>\n",
              "      <td>3.00</td>\n",
              "      <td>14.00</td>\n",
              "      <td>9.00</td>\n",
              "      <td>2.00</td>\n",
              "      <td>29.50</td>\n",
              "      <td>0.00</td>\n",
              "      <td>0.00</td>\n",
              "      <td>0.00</td>\n",
              "      <td>1.00</td>\n",
              "      <td>0.00</td>\n",
              "      <td>...</td>\n",
              "      <td>0</td>\n",
              "      <td>0</td>\n",
              "      <td>0</td>\n",
              "      <td>1</td>\n",
              "      <td>0</td>\n",
              "      <td>0</td>\n",
              "      <td>0</td>\n",
              "      <td>0</td>\n",
              "      <td>1</td>\n",
              "      <td>0</td>\n",
              "    </tr>\n",
              "  </tbody>\n",
              "</table>\n",
              "<p>5 rows × 115 columns</p>\n",
              "</div>\n",
              "      <button class=\"colab-df-convert\" onclick=\"convertToInteractive('df-8bae987e-a9dc-4667-b118-f5938a8fb0f5')\"\n",
              "              title=\"Convert this dataframe to an interactive table.\"\n",
              "              style=\"display:none;\">\n",
              "        \n",
              "  <svg xmlns=\"http://www.w3.org/2000/svg\" height=\"24px\"viewBox=\"0 0 24 24\"\n",
              "       width=\"24px\">\n",
              "    <path d=\"M0 0h24v24H0V0z\" fill=\"none\"/>\n",
              "    <path d=\"M18.56 5.44l.94 2.06.94-2.06 2.06-.94-2.06-.94-.94-2.06-.94 2.06-2.06.94zm-11 1L8.5 8.5l.94-2.06 2.06-.94-2.06-.94L8.5 2.5l-.94 2.06-2.06.94zm10 10l.94 2.06.94-2.06 2.06-.94-2.06-.94-.94-2.06-.94 2.06-2.06.94z\"/><path d=\"M17.41 7.96l-1.37-1.37c-.4-.4-.92-.59-1.43-.59-.52 0-1.04.2-1.43.59L10.3 9.45l-7.72 7.72c-.78.78-.78 2.05 0 2.83L4 21.41c.39.39.9.59 1.41.59.51 0 1.02-.2 1.41-.59l7.78-7.78 2.81-2.81c.8-.78.8-2.07 0-2.86zM5.41 20L4 18.59l7.72-7.72 1.47 1.35L5.41 20z\"/>\n",
              "  </svg>\n",
              "      </button>\n",
              "      \n",
              "  <style>\n",
              "    .colab-df-container {\n",
              "      display:flex;\n",
              "      flex-wrap:wrap;\n",
              "      gap: 12px;\n",
              "    }\n",
              "\n",
              "    .colab-df-convert {\n",
              "      background-color: #E8F0FE;\n",
              "      border: none;\n",
              "      border-radius: 50%;\n",
              "      cursor: pointer;\n",
              "      display: none;\n",
              "      fill: #1967D2;\n",
              "      height: 32px;\n",
              "      padding: 0 0 0 0;\n",
              "      width: 32px;\n",
              "    }\n",
              "\n",
              "    .colab-df-convert:hover {\n",
              "      background-color: #E2EBFA;\n",
              "      box-shadow: 0px 1px 2px rgba(60, 64, 67, 0.3), 0px 1px 3px 1px rgba(60, 64, 67, 0.15);\n",
              "      fill: #174EA6;\n",
              "    }\n",
              "\n",
              "    [theme=dark] .colab-df-convert {\n",
              "      background-color: #3B4455;\n",
              "      fill: #D2E3FC;\n",
              "    }\n",
              "\n",
              "    [theme=dark] .colab-df-convert:hover {\n",
              "      background-color: #434B5C;\n",
              "      box-shadow: 0px 1px 3px 1px rgba(0, 0, 0, 0.15);\n",
              "      filter: drop-shadow(0px 1px 2px rgba(0, 0, 0, 0.3));\n",
              "      fill: #FFFFFF;\n",
              "    }\n",
              "  </style>\n",
              "\n",
              "      <script>\n",
              "        const buttonEl =\n",
              "          document.querySelector('#df-8bae987e-a9dc-4667-b118-f5938a8fb0f5 button.colab-df-convert');\n",
              "        buttonEl.style.display =\n",
              "          google.colab.kernel.accessAllowed ? 'block' : 'none';\n",
              "\n",
              "        async function convertToInteractive(key) {\n",
              "          const element = document.querySelector('#df-8bae987e-a9dc-4667-b118-f5938a8fb0f5');\n",
              "          const dataTable =\n",
              "            await google.colab.kernel.invokeFunction('convertToInteractive',\n",
              "                                                     [key], {});\n",
              "          if (!dataTable) return;\n",
              "\n",
              "          const docLinkHtml = 'Like what you see? Visit the ' +\n",
              "            '<a target=\"_blank\" href=https://colab.research.google.com/notebooks/data_table.ipynb>data table notebook</a>'\n",
              "            + ' to learn more about interactive tables.';\n",
              "          element.innerHTML = '';\n",
              "          dataTable['output_type'] = 'display_data';\n",
              "          await google.colab.output.renderOutput(dataTable, element);\n",
              "          const docLink = document.createElement('div');\n",
              "          docLink.innerHTML = docLinkHtml;\n",
              "          element.appendChild(docLink);\n",
              "        }\n",
              "      </script>\n",
              "    </div>\n",
              "  </div>\n",
              "  "
            ],
            "text/plain": [
              "       EdLevel  Age1stCode  YearsCode  YearsCodePro   Age  Argentina  \\\n",
              "21426     3.00       21.00      10.00          5.00 29.50       0.00   \n",
              "18        2.00       21.00      12.00          6.00 29.50       0.00   \n",
              "18438     3.00       14.00      26.00         23.00 39.50       0.00   \n",
              "18322     3.00       14.00      25.00         10.00 39.50       0.00   \n",
              "13802     3.00       14.00       9.00          2.00 29.50       0.00   \n",
              "\n",
              "       Australia  Austria  Belgium  Brazil  ...  PowerShell  Python  R  Ruby  \\\n",
              "21426       0.00     0.00     0.00    0.00  ...           0       0  0     1   \n",
              "18          0.00     0.00     0.00    0.00  ...           1       0  0     0   \n",
              "18438       0.00     0.00     0.00    0.00  ...           0       0  0     0   \n",
              "18322       0.00     0.00     0.00    0.00  ...           0       1  0     0   \n",
              "13802       0.00     0.00     1.00    0.00  ...           0       0  0     1   \n",
              "\n",
              "       Rust  SQL  Scala  Swift  TypeScript  VBA  \n",
              "21426     0    1      0      0           0    0  \n",
              "18        0    0      0      0           1    1  \n",
              "18438     0    0      0      0           1    0  \n",
              "18322     0    0      0      0           0    0  \n",
              "13802     0    0      0      0           1    0  \n",
              "\n",
              "[5 rows x 115 columns]"
            ]
          },
          "execution_count": 44,
          "metadata": {},
          "output_type": "execute_result"
        }
      ],
      "source": [
        "import pickle\n",
        "\n",
        "df = dl.df\n",
        "df, country_ohe = transform_df_ohe_country(df)\n",
        "df, dev_type_mlb = transform_df_mlb_delimited_string(df, 'DevType')\n",
        "df, languages_mlb = transform_df_mlb_delimited_string(df, 'LanguageHaveWorkedWith')\n",
        "df, ed_level_oe = transform_df_oe(df)\n",
        "\n",
        "encodings = {\n",
        "  \"country_ohe\": country_ohe,\n",
        "  \"dev_type_mlb\": dev_type_mlb,\n",
        "  \"languages_mlb\": languages_mlb,\n",
        "  \"ed_level_oe\": ed_level_oe\n",
        "}\n",
        "\n",
        "# save ohe\n",
        "with open(\"encodings.pickle\", \"wb\") as f: \n",
        "    pickle.dump(encodings, f)\n",
        "\n",
        "train_dataset = df.sample(frac=0.8, random_state=0)\n",
        "test_dataset = df.drop(train_dataset.index)\n",
        "train_features = train_dataset.copy()\n",
        "test_features = test_dataset.copy()\n",
        "train_labels = train_features.pop('ConvertedCompYearly')\n",
        "test_labels = test_features.pop('ConvertedCompYearly')\n",
        "\n",
        "train_features.head()\n",
        "\n",
        "# train_dataset.describe().transpose()[['mean', 'std']]\n",
        "\n",
        "# normalizer = tf.keras.layers.Normalization(axis=-1)\n",
        "# normalizer.adapt(np.array(train_features))\n",
        "# print(normalizer.mean.numpy())\n",
        "\n",
        "# first = np.array(train_features[:1])\n",
        "\n",
        "# with np.printoptions(precision=2, suppress=True):\n",
        "#   print('First example:', first)\n",
        "#   print()\n",
        "#   print('First example Normalized:', normalizer(first).numpy())"
      ]
    },
    {
      "cell_type": "code",
      "execution_count": null,
      "metadata": {
        "colab": {
          "base_uri": "https://localhost:8080/"
        },
        "id": "WHa0nKndip9T",
        "outputId": "782a1b77-aacd-477c-fa47-bcfe1e0d2d91"
      },
      "outputs": [
        {
          "data": {
            "text/plain": [
              "['ConvertedCompYearly',\n",
              " 'EdLevel',\n",
              " 'Age1stCode',\n",
              " 'YearsCode',\n",
              " 'YearsCodePro',\n",
              " 'Age',\n",
              " 'Argentina',\n",
              " 'Australia',\n",
              " 'Austria',\n",
              " 'Belgium',\n",
              " 'Brazil',\n",
              " 'Bulgaria',\n",
              " 'Canada',\n",
              " 'Chile',\n",
              " 'China',\n",
              " 'Colombia',\n",
              " 'Croatia',\n",
              " 'Czech Republic',\n",
              " 'Denmark',\n",
              " 'Finland',\n",
              " 'France',\n",
              " 'Germany',\n",
              " 'Greece',\n",
              " 'Hungary',\n",
              " 'India',\n",
              " 'Iran, Islamic Republic of...',\n",
              " 'Ireland',\n",
              " 'Israel',\n",
              " 'Italy',\n",
              " 'Japan',\n",
              " 'Lithuania',\n",
              " 'Mexico',\n",
              " 'Netherlands',\n",
              " 'New Zealand',\n",
              " 'Norway',\n",
              " 'Poland',\n",
              " 'Portugal',\n",
              " 'Romania',\n",
              " 'Russian Federation',\n",
              " 'Serbia',\n",
              " 'Singapore',\n",
              " 'Slovenia',\n",
              " 'South Africa',\n",
              " 'Spain',\n",
              " 'Sweden',\n",
              " 'Switzerland',\n",
              " 'Taiwan',\n",
              " 'Turkey',\n",
              " 'Ukraine',\n",
              " 'United Kingdom of Great Britain and Northern Ireland',\n",
              " 'United States of America',\n",
              " 'Academic researcher',\n",
              " 'Data or business analyst',\n",
              " 'Data scientist or machine learning specialist',\n",
              " 'Database administrator',\n",
              " 'Designer',\n",
              " 'DevOps specialist',\n",
              " 'Developer, QA or test',\n",
              " 'Developer, back-end',\n",
              " 'Developer, desktop or enterprise applications',\n",
              " 'Developer, embedded applications or devices',\n",
              " 'Developer, front-end',\n",
              " 'Developer, full-stack',\n",
              " 'Developer, game or graphics',\n",
              " 'Developer, mobile',\n",
              " 'Educator',\n",
              " 'Engineer, data',\n",
              " 'Engineer, site reliability',\n",
              " 'Engineering manager',\n",
              " 'Marketing or sales professional',\n",
              " 'MissingDevType',\n",
              " 'Other (please specify):',\n",
              " 'Product manager',\n",
              " 'Scientist',\n",
              " 'Senior Executive (C-Suite, VP, etc.)',\n",
              " 'Student',\n",
              " 'System administrator',\n",
              " 'APL',\n",
              " 'Assembly',\n",
              " 'Bash/Shell',\n",
              " 'C',\n",
              " 'C#',\n",
              " 'C++',\n",
              " 'COBOL',\n",
              " 'Clojure',\n",
              " 'Crystal',\n",
              " 'Dart',\n",
              " 'Delphi',\n",
              " 'Elixir',\n",
              " 'Erlang',\n",
              " 'F#',\n",
              " 'Go',\n",
              " 'Groovy',\n",
              " 'HTML/CSS',\n",
              " 'Haskell',\n",
              " 'Java',\n",
              " 'JavaScript',\n",
              " 'Julia',\n",
              " 'Kotlin',\n",
              " 'LISP',\n",
              " 'Matlab',\n",
              " 'MissingLanguageHaveWorkedWith',\n",
              " 'Node.js',\n",
              " 'Objective-C',\n",
              " 'PHP',\n",
              " 'Perl',\n",
              " 'PowerShell',\n",
              " 'Python',\n",
              " 'R',\n",
              " 'Ruby',\n",
              " 'Rust',\n",
              " 'SQL',\n",
              " 'Scala',\n",
              " 'Swift',\n",
              " 'TypeScript',\n",
              " 'VBA']"
            ]
          },
          "execution_count": 45,
          "metadata": {},
          "output_type": "execute_result"
        }
      ],
      "source": [
        "list(df.columns)"
      ]
    },
    {
      "cell_type": "code",
      "execution_count": null,
      "metadata": {
        "id": "cjive6BMIXiI"
      },
      "outputs": [],
      "source": [
        "def build_model(hp):\n",
        "  model = keras.Sequential()\n",
        "  \n",
        "  # model.add(normalizer)\n",
        "  # model.add(keras.Input(shape=(None, 49))) # this might not be right...\n",
        "  model.add(keras.layers.Dense(hp.Int(\"units\", min_value=32, max_value=256, step=32), activation='relu'))\n",
        "\n",
        "  for i in range(hp.Int(\"n_layers\", min_value=1, max_value=4)):\n",
        "    model.add(keras.layers.Dense(hp.Int(f\"units-{i}\", min_value=32, max_value=256, step=32), activation='relu'))\n",
        "\n",
        "  model.add(keras.layers.Dense(1))\n",
        "\n",
        "  model.compile(optimizer=tf.keras.optimizers.Adam(0.001),\n",
        "      # loss='mean_squared_error'\n",
        "      loss='mean_absolute_error')\n",
        "  return model"
      ]
    },
    {
      "cell_type": "code",
      "execution_count": null,
      "metadata": {
        "id": "vlzjQ3IhO8au"
      },
      "outputs": [],
      "source": [
        "tuner = kt.RandomSearch(\n",
        "    build_model,\n",
        "    objective = \"val_loss\",\n",
        "    max_trials = 3,\n",
        "    executions_per_trial = 1,\n",
        "    directory = f'${int(time.time())}'\n",
        ")"
      ]
    },
    {
      "cell_type": "code",
      "execution_count": null,
      "metadata": {
        "colab": {
          "base_uri": "https://localhost:8080/"
        },
        "id": "kYsDo7DQO_cN",
        "outputId": "9f509fe9-7354-46a6-d21b-ba74b0698ffe"
      },
      "outputs": [
        {
          "name": "stdout",
          "output_type": "stream",
          "text": [
            "Trial 3 Complete [00h 00m 10s]\n",
            "val_loss: 21474.90625\n",
            "\n",
            "Best val_loss So Far: 21150.19921875\n",
            "Total elapsed time: 00h 00m 32s\n",
            "INFO:tensorflow:Oracle triggered exit\n"
          ]
        }
      ],
      "source": [
        "tuner.search(x=train_features,\n",
        "             y=train_labels,\n",
        "             epochs=10,\n",
        "             batch_size=64,\n",
        "             validation_data=(test_features, test_labels))"
      ]
    },
    {
      "cell_type": "code",
      "execution_count": null,
      "metadata": {
        "colab": {
          "base_uri": "https://localhost:8080/"
        },
        "id": "8P9N-aCAobN-",
        "outputId": "8f4ded6a-7b90-4457-b7de-04f63fb047fb"
      },
      "outputs": [
        {
          "name": "stdout",
          "output_type": "stream",
          "text": [
            "{'units': 96, 'n_layers': 3, 'units-0': 224, 'units-1': 128, 'units-2': 256}\n",
            "Results summary\n",
            "Results in $1656040999/untitled_project\n",
            "Showing 10 best trials\n",
            "<keras_tuner.engine.objective.Objective object at 0x7f5620d63e50>\n",
            "Trial summary\n",
            "Hyperparameters:\n",
            "units: 96\n",
            "n_layers: 3\n",
            "units-0: 224\n",
            "units-1: 128\n",
            "units-2: 256\n",
            "Score: 21150.19921875\n",
            "Trial summary\n",
            "Hyperparameters:\n",
            "units: 256\n",
            "n_layers: 2\n",
            "units-0: 192\n",
            "units-1: 224\n",
            "units-2: 256\n",
            "Score: 21474.90625\n",
            "Trial summary\n",
            "Hyperparameters:\n",
            "units: 224\n",
            "n_layers: 3\n",
            "units-0: 128\n",
            "units-1: 32\n",
            "units-2: 32\n",
            "Score: 21477.955078125\n",
            "None\n"
          ]
        }
      ],
      "source": [
        "print(tuner.get_best_hyperparameters()[0].values)\n",
        "print(tuner.results_summary())"
      ]
    },
    {
      "cell_type": "code",
      "execution_count": null,
      "metadata": {
        "colab": {
          "base_uri": "https://localhost:8080/"
        },
        "id": "zyHPFy6721zJ",
        "outputId": "21652a1c-19df-4770-de83-4bd8168a3763"
      },
      "outputs": [
        {
          "data": {
            "text/plain": [
              "array([[ 2. , 28.5,  4. , ...,  0. ,  0. ,  0. ],\n",
              "       [ 2. , 14. ,  8. , ...,  0. ,  0. ,  0. ],\n",
              "       [ 3. ,  7.5, 34. , ...,  0. ,  1. ,  0. ],\n",
              "       ...,\n",
              "       [ 3. ,  7.5, 30. , ...,  0. ,  1. ,  0. ],\n",
              "       [ 3. ,  7.5, 16. , ...,  0. ,  1. ,  0. ],\n",
              "       [ 2. , 14. , 17. , ...,  0. ,  0. ,  0. ]])"
            ]
          },
          "execution_count": 50,
          "metadata": {},
          "output_type": "execute_result"
        }
      ],
      "source": [
        "test_features.values"
      ]
    },
    {
      "cell_type": "code",
      "execution_count": null,
      "metadata": {
        "id": "jV6rHkDqzDZC"
      },
      "outputs": [],
      "source": [
        "best_model = tuner.get_best_models()[0]\n",
        "# best_model.build(test_features.values) # maybe do this instead of the Input \"layer\" in build model\n",
        "# print(best_model.summary())"
      ]
    },
    {
      "cell_type": "code",
      "execution_count": null,
      "metadata": {
        "colab": {
          "base_uri": "https://localhost:8080/"
        },
        "id": "ACkFC4MkoxEN",
        "outputId": "c216e97b-0615-497a-9c65-165232e6ee09"
      },
      "outputs": [
        {
          "name": "stdout",
          "output_type": "stream",
          "text": [
            "Epoch 1/150\n",
            "633/633 [==============================] - 2s 3ms/step - loss: 21119.6875 - val_loss: 21111.0762\n",
            "Epoch 2/150\n",
            "633/633 [==============================] - 2s 3ms/step - loss: 20953.6562 - val_loss: 21021.2266\n",
            "Epoch 3/150\n",
            "633/633 [==============================] - 2s 2ms/step - loss: 20901.1426 - val_loss: 20709.7480\n",
            "Epoch 4/150\n",
            "633/633 [==============================] - 2s 2ms/step - loss: 20864.6445 - val_loss: 20711.5820\n",
            "Epoch 5/150\n",
            "633/633 [==============================] - 2s 2ms/step - loss: 20825.1758 - val_loss: 20664.8105\n",
            "Epoch 6/150\n",
            "633/633 [==============================] - 2s 2ms/step - loss: 20786.2832 - val_loss: 20723.0723\n",
            "Epoch 7/150\n",
            "633/633 [==============================] - 2s 2ms/step - loss: 20762.3711 - val_loss: 21065.1602\n",
            "Epoch 8/150\n",
            "633/633 [==============================] - 2s 2ms/step - loss: 20727.2871 - val_loss: 21058.0215\n",
            "Epoch 9/150\n",
            "633/633 [==============================] - 2s 2ms/step - loss: 20513.0566 - val_loss: 20572.5117\n",
            "Epoch 10/150\n",
            "633/633 [==============================] - 2s 2ms/step - loss: 20514.3164 - val_loss: 20579.4863\n",
            "Epoch 11/150\n",
            "633/633 [==============================] - 2s 2ms/step - loss: 20447.1699 - val_loss: 20653.1309\n",
            "Epoch 12/150\n",
            "633/633 [==============================] - 2s 2ms/step - loss: 20435.0410 - val_loss: 20913.8164\n",
            "Epoch 13/150\n",
            "633/633 [==============================] - 2s 2ms/step - loss: 20436.2637 - val_loss: 20622.4980\n",
            "Epoch 14/150\n",
            "633/633 [==============================] - 2s 2ms/step - loss: 20382.2930 - val_loss: 20537.1074\n",
            "Epoch 15/150\n",
            "633/633 [==============================] - 2s 2ms/step - loss: 20326.8574 - val_loss: 21347.3281\n",
            "Epoch 16/150\n",
            "633/633 [==============================] - 2s 3ms/step - loss: 20246.6641 - val_loss: 20486.7480\n",
            "Epoch 17/150\n",
            "633/633 [==============================] - 2s 2ms/step - loss: 20169.6953 - val_loss: 20432.1113\n",
            "Epoch 18/150\n",
            "633/633 [==============================] - 2s 3ms/step - loss: 20171.2949 - val_loss: 21093.1523\n",
            "Epoch 19/150\n",
            "633/633 [==============================] - 2s 3ms/step - loss: 20168.8066 - val_loss: 20655.5664\n",
            "Epoch 20/150\n",
            "633/633 [==============================] - 2s 2ms/step - loss: 20094.5957 - val_loss: 20692.9316\n",
            "Epoch 21/150\n",
            "633/633 [==============================] - 2s 3ms/step - loss: 20042.5762 - val_loss: 20521.9961\n",
            "Epoch 22/150\n",
            "633/633 [==============================] - 2s 2ms/step - loss: 19946.6836 - val_loss: 20413.6992\n",
            "Epoch 23/150\n",
            "633/633 [==============================] - 2s 3ms/step - loss: 20010.9707 - val_loss: 20727.0293\n",
            "Epoch 24/150\n",
            "633/633 [==============================] - 2s 3ms/step - loss: 19971.0918 - val_loss: 20387.3203\n",
            "Epoch 25/150\n",
            "633/633 [==============================] - 2s 2ms/step - loss: 20000.1699 - val_loss: 20408.7305\n",
            "Epoch 26/150\n",
            "633/633 [==============================] - 2s 2ms/step - loss: 19897.7461 - val_loss: 21145.3887\n",
            "Epoch 27/150\n",
            "633/633 [==============================] - 2s 2ms/step - loss: 19823.9844 - val_loss: 20412.3281\n",
            "Epoch 28/150\n",
            "633/633 [==============================] - 2s 2ms/step - loss: 19718.6777 - val_loss: 20509.0898\n",
            "Epoch 29/150\n",
            "633/633 [==============================] - 2s 2ms/step - loss: 19811.7363 - val_loss: 21714.0430\n",
            "Epoch 30/150\n",
            "633/633 [==============================] - 2s 2ms/step - loss: 19689.3730 - val_loss: 20381.1035\n",
            "Epoch 31/150\n",
            "633/633 [==============================] - 2s 2ms/step - loss: 19652.4551 - val_loss: 20802.2559\n",
            "Epoch 32/150\n",
            "633/633 [==============================] - 2s 2ms/step - loss: 19559.4414 - val_loss: 20656.8867\n",
            "Epoch 33/150\n",
            "633/633 [==============================] - 2s 2ms/step - loss: 19604.1387 - val_loss: 20319.4219\n",
            "Epoch 34/150\n",
            "633/633 [==============================] - 2s 2ms/step - loss: 19494.5430 - val_loss: 20425.4160\n",
            "Epoch 35/150\n",
            "633/633 [==============================] - 2s 2ms/step - loss: 19473.7676 - val_loss: 20765.5742\n",
            "Epoch 36/150\n",
            "633/633 [==============================] - 2s 2ms/step - loss: 19392.8379 - val_loss: 20539.7871\n",
            "Epoch 37/150\n",
            "633/633 [==============================] - 2s 2ms/step - loss: 19408.3496 - val_loss: 20660.7441\n",
            "Epoch 38/150\n",
            "633/633 [==============================] - 2s 2ms/step - loss: 19382.1758 - val_loss: 20534.9355\n",
            "Epoch 39/150\n",
            "633/633 [==============================] - 2s 2ms/step - loss: 19339.0957 - val_loss: 22314.0625\n",
            "Epoch 40/150\n",
            "633/633 [==============================] - 2s 2ms/step - loss: 19322.1035 - val_loss: 20611.8301\n",
            "Epoch 41/150\n",
            "633/633 [==============================] - 2s 2ms/step - loss: 19240.2695 - val_loss: 20698.7383\n",
            "Epoch 42/150\n",
            "633/633 [==============================] - 2s 2ms/step - loss: 19214.6660 - val_loss: 20547.9355\n",
            "Epoch 43/150\n",
            "633/633 [==============================] - 2s 2ms/step - loss: 19094.8691 - val_loss: 20472.3945\n",
            "Epoch 44/150\n",
            "633/633 [==============================] - 2s 2ms/step - loss: 19065.2637 - val_loss: 20551.1484\n",
            "Epoch 45/150\n",
            "633/633 [==============================] - 2s 2ms/step - loss: 19039.4375 - val_loss: 21366.4590\n",
            "Epoch 46/150\n",
            "633/633 [==============================] - 2s 2ms/step - loss: 19020.4258 - val_loss: 20459.7891\n",
            "Epoch 47/150\n",
            "633/633 [==============================] - 2s 2ms/step - loss: 18974.3535 - val_loss: 20416.8418\n",
            "Epoch 48/150\n",
            "633/633 [==============================] - 2s 2ms/step - loss: 18941.2598 - val_loss: 20799.8594\n",
            "Epoch 49/150\n",
            "633/633 [==============================] - 2s 2ms/step - loss: 18815.6797 - val_loss: 20466.3691\n",
            "Epoch 50/150\n",
            "633/633 [==============================] - 2s 2ms/step - loss: 18825.4316 - val_loss: 21297.9238\n",
            "Epoch 51/150\n",
            "633/633 [==============================] - 2s 2ms/step - loss: 18828.7500 - val_loss: 20568.8418\n",
            "Epoch 52/150\n",
            "633/633 [==============================] - 2s 2ms/step - loss: 18782.2305 - val_loss: 20583.5664\n",
            "Epoch 53/150\n",
            "633/633 [==============================] - 2s 2ms/step - loss: 18646.6406 - val_loss: 20852.2715\n",
            "Epoch 54/150\n",
            "633/633 [==============================] - 2s 2ms/step - loss: 18668.3242 - val_loss: 20933.2031\n",
            "Epoch 55/150\n",
            "633/633 [==============================] - 2s 2ms/step - loss: 18728.9902 - val_loss: 20551.3184\n",
            "Epoch 56/150\n",
            "633/633 [==============================] - 2s 2ms/step - loss: 18616.7812 - val_loss: 20556.5996\n",
            "Epoch 57/150\n",
            "633/633 [==============================] - 2s 2ms/step - loss: 18538.0195 - val_loss: 20595.3730\n",
            "Epoch 58/150\n",
            "633/633 [==============================] - 2s 2ms/step - loss: 18483.5488 - val_loss: 20804.8438\n",
            "Epoch 59/150\n",
            "633/633 [==============================] - 2s 2ms/step - loss: 18478.4668 - val_loss: 20965.9316\n",
            "Epoch 60/150\n",
            "633/633 [==============================] - 2s 2ms/step - loss: 18443.5703 - val_loss: 20913.0859\n",
            "Epoch 61/150\n",
            "633/633 [==============================] - 2s 2ms/step - loss: 18393.1152 - val_loss: 20804.4238\n",
            "Epoch 62/150\n",
            "633/633 [==============================] - 2s 2ms/step - loss: 18441.2070 - val_loss: 20828.2793\n",
            "Epoch 63/150\n",
            "633/633 [==============================] - 2s 2ms/step - loss: 18313.6562 - val_loss: 20711.5195\n",
            "Epoch 64/150\n",
            "633/633 [==============================] - 2s 2ms/step - loss: 18277.0293 - val_loss: 21002.1270\n",
            "Epoch 65/150\n",
            "633/633 [==============================] - 2s 2ms/step - loss: 18303.0020 - val_loss: 21128.9668\n",
            "Epoch 66/150\n",
            "633/633 [==============================] - 2s 2ms/step - loss: 18250.4453 - val_loss: 20632.4688\n",
            "Epoch 67/150\n",
            "633/633 [==============================] - 2s 2ms/step - loss: 18127.6602 - val_loss: 20662.4395\n",
            "Epoch 68/150\n",
            "633/633 [==============================] - 2s 2ms/step - loss: 18147.7910 - val_loss: 20688.2031\n",
            "Epoch 69/150\n",
            "633/633 [==============================] - 2s 2ms/step - loss: 18256.1035 - val_loss: 20993.2539\n",
            "Epoch 70/150\n",
            "633/633 [==============================] - 2s 2ms/step - loss: 18067.8086 - val_loss: 21086.2168\n",
            "Epoch 71/150\n",
            "633/633 [==============================] - 2s 2ms/step - loss: 18085.8789 - val_loss: 21201.0957\n",
            "Epoch 72/150\n",
            "633/633 [==============================] - 2s 2ms/step - loss: 18010.2617 - val_loss: 20968.4648\n",
            "Epoch 73/150\n",
            "633/633 [==============================] - 2s 2ms/step - loss: 17925.3672 - val_loss: 20760.3320\n",
            "Epoch 74/150\n",
            "633/633 [==============================] - 2s 2ms/step - loss: 17922.8574 - val_loss: 20735.6543\n",
            "Epoch 75/150\n",
            "633/633 [==============================] - 2s 2ms/step - loss: 17875.3281 - val_loss: 20944.4023\n",
            "Epoch 76/150\n",
            "633/633 [==============================] - 2s 2ms/step - loss: 17843.9922 - val_loss: 21109.6699\n",
            "Epoch 77/150\n",
            "633/633 [==============================] - 2s 3ms/step - loss: 17886.5039 - val_loss: 20748.1113\n",
            "Epoch 78/150\n",
            "633/633 [==============================] - 2s 2ms/step - loss: 17828.7168 - val_loss: 20772.5762\n",
            "Epoch 79/150\n",
            "633/633 [==============================] - 2s 2ms/step - loss: 17783.8887 - val_loss: 20998.5996\n",
            "Epoch 80/150\n",
            "633/633 [==============================] - 2s 2ms/step - loss: 17743.5469 - val_loss: 21465.5664\n",
            "Epoch 81/150\n",
            "633/633 [==============================] - 2s 2ms/step - loss: 17755.6016 - val_loss: 20751.0527\n",
            "Epoch 82/150\n",
            "633/633 [==============================] - 2s 2ms/step - loss: 17677.7930 - val_loss: 20841.3711\n",
            "Epoch 83/150\n",
            "633/633 [==============================] - 2s 2ms/step - loss: 17604.0176 - val_loss: 21126.7617\n",
            "Epoch 84/150\n",
            "633/633 [==============================] - 2s 2ms/step - loss: 17586.3281 - val_loss: 21726.0215\n",
            "Epoch 85/150\n",
            "633/633 [==============================] - 2s 2ms/step - loss: 17558.1270 - val_loss: 21450.6113\n",
            "Epoch 86/150\n",
            "633/633 [==============================] - 2s 2ms/step - loss: 17573.3047 - val_loss: 20919.1523\n",
            "Epoch 87/150\n",
            "633/633 [==============================] - 2s 2ms/step - loss: 17474.8789 - val_loss: 20873.7559\n",
            "Epoch 88/150\n",
            "633/633 [==============================] - 2s 2ms/step - loss: 17443.2754 - val_loss: 21382.3418\n",
            "Epoch 89/150\n",
            "633/633 [==============================] - 2s 2ms/step - loss: 17446.4824 - val_loss: 20938.4824\n",
            "Epoch 90/150\n",
            "633/633 [==============================] - 2s 2ms/step - loss: 17352.1250 - val_loss: 21028.8516\n",
            "Epoch 91/150\n",
            "633/633 [==============================] - 2s 2ms/step - loss: 17380.8887 - val_loss: 21084.7773\n",
            "Epoch 92/150\n",
            "633/633 [==============================] - 2s 2ms/step - loss: 17321.0684 - val_loss: 21118.2910\n",
            "Epoch 93/150\n",
            "633/633 [==============================] - 2s 2ms/step - loss: 17228.5117 - val_loss: 21947.2793\n",
            "Epoch 94/150\n",
            "633/633 [==============================] - 2s 2ms/step - loss: 17225.0645 - val_loss: 21342.9219\n",
            "Epoch 95/150\n",
            "633/633 [==============================] - 2s 2ms/step - loss: 17246.5605 - val_loss: 21236.5020\n",
            "Epoch 96/150\n",
            "633/633 [==============================] - 2s 2ms/step - loss: 17212.0684 - val_loss: 21293.4902\n",
            "Epoch 97/150\n",
            "633/633 [==============================] - 2s 2ms/step - loss: 17227.3535 - val_loss: 21600.0371\n",
            "Epoch 98/150\n",
            "633/633 [==============================] - 2s 2ms/step - loss: 17094.0215 - val_loss: 21512.8516\n",
            "Epoch 99/150\n",
            "633/633 [==============================] - 2s 2ms/step - loss: 17173.0547 - val_loss: 21556.4844\n",
            "Epoch 100/150\n",
            "633/633 [==============================] - 2s 2ms/step - loss: 17049.5977 - val_loss: 21499.5645\n",
            "Epoch 101/150\n",
            "633/633 [==============================] - 2s 2ms/step - loss: 16992.9258 - val_loss: 22010.7129\n",
            "Epoch 102/150\n",
            "633/633 [==============================] - 2s 2ms/step - loss: 16963.3320 - val_loss: 21268.7520\n",
            "Epoch 103/150\n",
            "633/633 [==============================] - 2s 2ms/step - loss: 16912.3164 - val_loss: 21300.7148\n",
            "Epoch 104/150\n",
            "633/633 [==============================] - 2s 2ms/step - loss: 16974.8027 - val_loss: 21279.7793\n",
            "Epoch 105/150\n",
            "633/633 [==============================] - 2s 2ms/step - loss: 16814.6250 - val_loss: 21688.3125\n",
            "Epoch 106/150\n",
            "633/633 [==============================] - 2s 2ms/step - loss: 16933.9844 - val_loss: 21241.2676\n",
            "Epoch 107/150\n",
            "633/633 [==============================] - 2s 2ms/step - loss: 16895.1758 - val_loss: 21544.0918\n",
            "Epoch 108/150\n",
            "633/633 [==============================] - 2s 2ms/step - loss: 16770.7578 - val_loss: 21290.4434\n",
            "Epoch 109/150\n",
            "633/633 [==============================] - 2s 2ms/step - loss: 16718.9629 - val_loss: 21790.3418\n",
            "Epoch 110/150\n",
            "633/633 [==============================] - 2s 2ms/step - loss: 16724.6758 - val_loss: 21578.7188\n",
            "Epoch 111/150\n",
            "633/633 [==============================] - 2s 2ms/step - loss: 16658.4551 - val_loss: 21375.6367\n",
            "Epoch 112/150\n",
            "633/633 [==============================] - 2s 2ms/step - loss: 16593.1953 - val_loss: 21481.2930\n",
            "Epoch 113/150\n",
            "633/633 [==============================] - 2s 2ms/step - loss: 16652.0859 - val_loss: 21395.5645\n",
            "Epoch 114/150\n",
            "633/633 [==============================] - 2s 2ms/step - loss: 16551.0684 - val_loss: 21491.9453\n",
            "Epoch 115/150\n",
            "633/633 [==============================] - 2s 2ms/step - loss: 16532.4297 - val_loss: 21557.2012\n",
            "Epoch 116/150\n",
            "633/633 [==============================] - 2s 2ms/step - loss: 16480.5137 - val_loss: 21603.9551\n",
            "Epoch 117/150\n",
            "633/633 [==============================] - 2s 2ms/step - loss: 16454.3457 - val_loss: 21514.7891\n",
            "Epoch 118/150\n",
            "633/633 [==============================] - 2s 2ms/step - loss: 16385.4980 - val_loss: 21967.0391\n",
            "Epoch 119/150\n",
            "633/633 [==============================] - 2s 2ms/step - loss: 16326.4004 - val_loss: 21833.6113\n",
            "Epoch 120/150\n",
            "633/633 [==============================] - 2s 2ms/step - loss: 16326.8252 - val_loss: 22067.0625\n",
            "Epoch 121/150\n",
            "633/633 [==============================] - 2s 2ms/step - loss: 16301.2490 - val_loss: 21762.6152\n",
            "Epoch 122/150\n",
            "633/633 [==============================] - 2s 2ms/step - loss: 16259.6094 - val_loss: 21673.6074\n",
            "Epoch 123/150\n",
            "633/633 [==============================] - 2s 2ms/step - loss: 16274.8994 - val_loss: 21579.8418\n",
            "Epoch 124/150\n",
            "633/633 [==============================] - 2s 2ms/step - loss: 16182.2275 - val_loss: 21776.1074\n",
            "Epoch 125/150\n",
            "633/633 [==============================] - 2s 3ms/step - loss: 16158.7930 - val_loss: 21669.1270\n",
            "Epoch 126/150\n",
            "633/633 [==============================] - 2s 2ms/step - loss: 16126.4404 - val_loss: 21788.8926\n",
            "Epoch 127/150\n",
            "633/633 [==============================] - 2s 2ms/step - loss: 16113.1074 - val_loss: 21757.6738\n",
            "Epoch 128/150\n",
            "633/633 [==============================] - 2s 2ms/step - loss: 16077.1748 - val_loss: 21880.1094\n",
            "Epoch 129/150\n",
            "633/633 [==============================] - 2s 2ms/step - loss: 16019.9834 - val_loss: 21814.9297\n",
            "Epoch 130/150\n",
            "633/633 [==============================] - 2s 2ms/step - loss: 15987.7793 - val_loss: 22351.2051\n",
            "Epoch 131/150\n",
            "633/633 [==============================] - 2s 2ms/step - loss: 16009.7832 - val_loss: 21885.8145\n",
            "Epoch 132/150\n",
            "633/633 [==============================] - 2s 2ms/step - loss: 15950.4385 - val_loss: 21815.8770\n",
            "Epoch 133/150\n",
            "633/633 [==============================] - 2s 2ms/step - loss: 15899.7256 - val_loss: 22239.2637\n",
            "Epoch 134/150\n",
            "633/633 [==============================] - 2s 2ms/step - loss: 15887.4355 - val_loss: 21958.6484\n",
            "Epoch 135/150\n",
            "633/633 [==============================] - 2s 2ms/step - loss: 15913.2793 - val_loss: 21908.7383\n",
            "Epoch 136/150\n",
            "633/633 [==============================] - 2s 2ms/step - loss: 15739.0137 - val_loss: 21792.4414\n",
            "Epoch 137/150\n",
            "633/633 [==============================] - 2s 3ms/step - loss: 15759.2861 - val_loss: 21855.3477\n",
            "Epoch 138/150\n",
            "633/633 [==============================] - 2s 2ms/step - loss: 15747.9629 - val_loss: 22016.6758\n",
            "Epoch 139/150\n",
            "633/633 [==============================] - 2s 2ms/step - loss: 15663.6230 - val_loss: 21836.6309\n",
            "Epoch 140/150\n",
            "633/633 [==============================] - 2s 2ms/step - loss: 15707.0176 - val_loss: 22175.9082\n",
            "Epoch 141/150\n",
            "633/633 [==============================] - 2s 2ms/step - loss: 15635.4561 - val_loss: 22099.4941\n",
            "Epoch 142/150\n",
            "633/633 [==============================] - 2s 2ms/step - loss: 15626.1221 - val_loss: 22016.8281\n",
            "Epoch 143/150\n",
            "633/633 [==============================] - 2s 2ms/step - loss: 15521.5742 - val_loss: 22155.5117\n",
            "Epoch 144/150\n",
            "633/633 [==============================] - 2s 2ms/step - loss: 15668.2266 - val_loss: 22415.9805\n",
            "Epoch 145/150\n",
            "633/633 [==============================] - 2s 2ms/step - loss: 15517.1113 - val_loss: 22018.9629\n",
            "Epoch 146/150\n",
            "633/633 [==============================] - 2s 2ms/step - loss: 15479.0332 - val_loss: 22299.9707\n",
            "Epoch 147/150\n",
            "633/633 [==============================] - 2s 2ms/step - loss: 15440.9873 - val_loss: 22116.2480\n",
            "Epoch 148/150\n",
            "633/633 [==============================] - 2s 2ms/step - loss: 15403.3750 - val_loss: 22013.4258\n",
            "Epoch 149/150\n",
            "633/633 [==============================] - 2s 2ms/step - loss: 15368.6953 - val_loss: 22272.3047\n",
            "Epoch 150/150\n",
            "633/633 [==============================] - 2s 2ms/step - loss: 15319.6924 - val_loss: 22341.6621\n",
            "22728.796875\n",
            "CPU times: user 5min 35s, sys: 48.8 s, total: 6min 24s\n",
            "Wall time: 3min 54s\n"
          ]
        }
      ],
      "source": [
        "  %%time\n",
        "  history_best = best_model.fit(\n",
        "      train_features,\n",
        "      train_labels,\n",
        "      validation_split=0.2, \n",
        "      epochs=150)\n",
        "  \n",
        "  MODELS['best'] = best_model.evaluate(test_features, test_labels, verbose=0)\n",
        "\n",
        "  print(MODELS['best'])"
      ]
    },
    {
      "cell_type": "code",
      "execution_count": null,
      "metadata": {
        "colab": {
          "base_uri": "https://localhost:8080/",
          "height": 301
        },
        "id": "_DKQm6_voz54",
        "outputId": "524ed619-2bb5-4f9e-c157-1366ee0c9c68"
      },
      "outputs": [
        {
          "data": {
            "image/png": "[encoded data removed]",
            "text/plain": [
              "<Figure size 432x288 with 1 Axes>"
            ]
          },
          "metadata": {},
          "output_type": "display_data"
        }
      ],
      "source": [
        "plot_loss(history_best)"
      ]
    },
    {
      "cell_type": "code",
      "execution_count": null,
      "metadata": {
        "colab": {
          "base_uri": "https://localhost:8080/"
        },
        "id": "9rCqsmpesC6W",
        "outputId": "58739e2b-33a4-43fe-b957-31f68f4dd55f"
      },
      "outputs": [
        {
          "data": {
            "text/plain": [
              "array([[ 2., 16.,  4.,  3., 33.,  0.,  0.,  0.,  0.,  0.,  0.,  0.,  0.,\n",
              "         0.,  0.,  0.,  0.,  0.,  0.,  0.,  0.,  0.,  0.,  0.,  0.,  0.,\n",
              "         0.,  0.,  0.,  0.,  0.,  0.,  0.,  0.,  0.,  0.,  0.,  0.,  0.,\n",
              "         0.,  0.,  0.,  0.,  0.,  0.,  0.,  0.,  0.,  0.,  1.,  0.,  0.,\n",
              "         0.,  0.,  0.,  0.,  0.,  0.,  0.,  0.,  0.,  1.,  0.,  0.,  0.,\n",
              "         0.,  0.,  0.,  0.,  0.,  0.,  0.,  0.,  0.,  0.,  0.,  0.,  0.,\n",
              "         0.,  0.,  0.,  0.,  0.,  0.,  0.,  0.,  0.,  0.,  0.,  0.,  0.,\n",
              "         0.,  0.,  0.,  0.,  1.,  0.,  0.,  0.,  0.,  0.,  0.,  0.,  0.,\n",
              "         0.,  0.,  1.,  0.,  0.,  0.,  1.,  0.,  0.,  0.,  0.]])"
            ]
          },
          "execution_count": 54,
          "metadata": {},
          "output_type": "execute_result"
        }
      ],
      "source": [
        "# # should not need to be normalized for predicting.\n",
        "# # country should be OHE, else  OHE should be in model layer\n",
        "def make_input(input_dict):\n",
        "  df_input = pd.DataFrame(data={\n",
        "      \"EdLevel\": [input_dict[\"ed_level\"]], # will be transformed inplace below when encoded\n",
        "      \"Age1stCode\": [input_dict[\"age_first_code\"]],\n",
        "      \"YearsCode\": [input_dict[\"years_code\"]],\n",
        "      \"YearsCodePro\": [input_dict[\"years_code_pro\"]],\n",
        "      \"Age\": [input_dict[\"age\"]],\n",
        "  })\n",
        "  # encode Country\n",
        "  country_enc = country_ohe.transform(pd.DataFrame(\n",
        "      data={\"Country\": [input_dict[\"country\"]]})).toarray()\n",
        "  df = merge_ohe(df_input, country_ohe, country_enc)\n",
        "  \n",
        "  # encode Devtype\n",
        "  dev_type_enc = dev_type_mlb.transform(pd.Series([input_dict[\"dev_type\"]]))\n",
        "  df = merge_mlb(df, dev_type_mlb, dev_type_enc)\n",
        "\n",
        "  # encode LanguageHaveWorkedWith\n",
        "  languages_enc = languages_mlb.transform(pd.Series([input_dict[\"languages\"]]))\n",
        "  df = merge_mlb(df, languages_mlb, languages_enc)\n",
        "\n",
        "  # encode Edlevel\n",
        "  df['EdLevel'] = ed_level_oe.transform(df['EdLevel'].values.reshape(-1,1))\n",
        "\n",
        "  return df.values\n",
        "\n",
        "pred_input = make_input({\"age_first_code\": 16, \"years_code\": 4,\n",
        "                         \"years_code_pro\": 3, \"age\": 33, \n",
        "                         \"country\": \"United States of America\", \n",
        "                         \"dev_type\": [\"Developer, full-stack\"],\n",
        "                         \"languages\": [\"Python\", \"JavaScript\", \"SQL\"],\n",
        "                         \"ed_level\": \"Bachelors\"})\n",
        "pred_input"
      ]
    },
    {
      "cell_type": "code",
      "execution_count": null,
      "metadata": {
        "colab": {
          "base_uri": "https://localhost:8080/"
        },
        "id": "6usLn7yXicDC",
        "outputId": "3c689475-5eaf-4540-93a3-5ed31de77670"
      },
      "outputs": [
        {
          "data": {
            "text/plain": [
              "93744.63"
            ]
          },
          "execution_count": 55,
          "metadata": {},
          "output_type": "execute_result"
        }
      ],
      "source": [
        "pred = best_model.predict(pred_input)[:, 0]\n",
        "pred[0]"
      ]
    },
    {
      "cell_type": "code",
      "execution_count": null,
      "metadata": {
        "colab": {
          "base_uri": "https://localhost:8080/"
        },
        "id": "6dGkczF1upFz",
        "outputId": "1491b731-b944-4cab-9bea-96f3a1d74bab"
      },
      "outputs": [
        {
          "name": "stdout",
          "output_type": "stream",
          "text": [
            "INFO:tensorflow:Assets written to: ./model_1656041268/assets\n"
          ]
        }
      ],
      "source": [
        "filename = f'./model_{int(time.time())}'\n",
        "keras.models.save_model(best_model, filename)"
      ]
    },
    {
      "cell_type": "code",
      "execution_count": null,
      "metadata": {
        "id": "0Geq2L1hwPvh"
      },
      "outputs": [],
      "source": [
        "saved_model = tf.keras.models.load_model('./model_1656041268')"
      ]
    },
    {
      "cell_type": "code",
      "execution_count": null,
      "metadata": {
        "colab": {
          "base_uri": "https://localhost:8080/"
        },
        "id": "autrlCtxwjDr",
        "outputId": "b0dd52d2-b1cd-4b51-a076-f17c61807480"
      },
      "outputs": [
        {
          "data": {
            "text/plain": [
              "93744.63"
            ]
          },
          "execution_count": 60,
          "metadata": {},
          "output_type": "execute_result"
        }
      ],
      "source": [
        "saved_model.predict(pred_input)[0][0]"
      ]
    }
  ],
  "metadata": {
    "accelerator": "GPU",
    "colab": {
      "collapsed_sections": [],
      "machine_shape": "hm",
      "name": "model2.ipynb",
      "provenance": []
    },
    "kernelspec": {
      "display_name": "Python 3.9.6 64-bit",
      "language": "python",
      "name": "python3"
    },
    "language_info": {
      "codemirror_mode": {
        "name": "ipython",
        "version": 3
      },
      "file_extension": ".py",
      "mimetype": "text/x-python",
      "name": "python",
      "nbconvert_exporter": "python",
      "pygments_lexer": "ipython3",
      "version": "3.9.6"
    },
    "vscode": {
      "interpreter": {
        "hash": "97a744e0300e8bb997f66ee5684cbf6609fb294851cc64d8aef609418dd567de"
      }
    }
  },
  "nbformat": 4,
  "nbformat_minor": 0
}
